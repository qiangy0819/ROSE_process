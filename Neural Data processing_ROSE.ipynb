{
 "cells": [
  {
   "cell_type": "markdown",
   "id": "f780960f-2252-409b-be05-8691be942f17",
   "metadata": {},
   "source": [
    "# Load Libraries"
   ]
  },
  {
   "cell_type": "code",
   "execution_count": 2,
   "id": "46d54daa-68b2-4934-9ccd-f65bdacb0877",
   "metadata": {
    "tags": []
   },
   "outputs": [],
   "source": [
    "# importing packages\n",
    "import matplotlib.pyplot as plt\n",
    "from scipy import signal\n",
    "from sklearn.decomposition import PCA\n",
    "from sklearn.cluster import KMeans\n",
    "import numpy as np\n",
    "from collections import defaultdict\n",
    "import seaborn as sns\n",
    "from numpy.fft import fft, ifft, fftfreq\n",
    "import scipy\n",
    "from scipy import interpolate\n",
    "import pandas as pd\n",
    "from FWHM import FWHM\n",
    "from collections import Counter\n",
    "import random\n",
    "from scipy.ndimage import gaussian_filter\n",
    "from joblib import dump, load\n",
    "import gc\n",
    "import scipy.io\n",
    "import h5py\n",
    "from sklearn.preprocessing import MinMaxScaler\n",
    "import os, sys, json\n",
    "from sklearn.model_selection import train_test_split\n",
    "from tensorflow.keras.models import Sequential\n",
    "from tensorflow.keras.layers import LSTM, Dense, Dropout, Conv2D, MaxPooling2D, Flatten\n",
    "from tensorflow.keras.utils import to_categorical\n",
    "from sklearn.preprocessing import StandardScaler, MinMaxScaler\n",
    "from sklearn.linear_model import RidgeCV\n",
    "from sklearn.metrics import mean_squared_error\n",
    "import spikeinterface.full as si\n",
    "from pathlib import Path\n",
    "from scipy.interpolate import griddata\n",
    "import warnings\n",
    "import bisect\n",
    "from matplotlib.colors import LinearSegmentedColormap\n",
    "import sys\n",
    "import cebra.datasets\n",
    "from cebra import CEBRA\n",
    "from mpl_toolkits.mplot3d import Axes3D\n",
    "import torch\n",
    "import sklearn.metrics\n",
    "from sklearn.neighbors import KNeighborsClassifier, KNeighborsRegressor\n",
    "from tqdm import tqdm\n",
    "from collections import Counter\n",
    "import seaborn as sns\n",
    "import pickle\n",
    "from scipy.spatial.distance import mahalanobis\n",
    "from numpy.linalg import inv\n",
    "warnings.simplefilter(\"ignore\")\n",
    "\n",
    "import probeinterface as pi\n",
    "from probeinterface.plotting import plot_probe\n",
    "from probeinterface import Probe\n",
    "import spikeinterface.preprocessing as spre\n",
    "import mountainsort5 as ms5\n",
    "from mountainsort5.util import create_cached_recording\n",
    "from tempfile import TemporaryDirectory\n",
    "from spikeinterface.core import concatenate_recordings\n",
    "from spikeinterface import extractors as se"
   ]
  },
  {
   "cell_type": "markdown",
   "id": "b864ba69-554a-4d15-a0be-21feb9931bb2",
   "metadata": {},
   "source": [
    "# Intan File Reader"
   ]
  },
  {
   "cell_type": "code",
   "execution_count": null,
   "id": "36e6bf72-d80b-4ee3-aa79-cc19ae0c9a46",
   "metadata": {
    "tags": []
   },
   "outputs": [],
   "source": [
    "%run importrhdutilities.py"
   ]
  },
  {
   "cell_type": "code",
   "execution_count": null,
   "id": "4ba5e3fd-1de9-4e73-921a-fd107bbcbdcc",
   "metadata": {
    "tags": []
   },
   "outputs": [],
   "source": [
    "directory = os.getcwd() + '/Recording_data/Mice ROSE chronic/M16/W3'\n",
    "files = [f for f in os.listdir(directory) if f.endswith('.rhd')]\n",
    "raw = []\n",
    "stimuli = []\n",
    "for file in files:\n",
    "    file_path = os.path.join(directory, file)\n",
    "    result, data_present = load_file(file_path)\n",
    "    raw.append(result['amplifier_data'])\n",
    "    stimuli.append(result['board_dig_in_data'][0])\n",
    "raw_data = np.concatenate(raw, axis=1)\n",
    "stim = np.concatenate(stimuli, axis=0)"
   ]
  },
  {
   "cell_type": "code",
   "execution_count": null,
   "id": "5794c7c2-2b88-450f-89f5-8022ac63304f",
   "metadata": {
    "tags": []
   },
   "outputs": [],
   "source": [
    "# Get timestamps of stimuli\n",
    "fs = 20000\n",
    "onsets = []\n",
    "for i in range(0,len(stim_pulse)-1):\n",
    "    if stim_pulse[i-1] == False and stim_pulse[i] == True:  \n",
    "            onsets.append(i)  \n",
    "onset_time = np.array(onsets)/fs\n",
    "onset_time"
   ]
  },
  {
   "cell_type": "markdown",
   "id": "00066581-159d-488d-a623-601c683bcfaa",
   "metadata": {},
   "source": [
    "# Probe Pin Mapping"
   ]
  },
  {
   "cell_type": "code",
   "execution_count": 304,
   "id": "a6175a4d-665e-454e-b8dd-9e97bb0ca1d5",
   "metadata": {
    "tags": []
   },
   "outputs": [],
   "source": [
    "ColorPalette = pd.read_excel( os.getcwd() + '/ColorPalettes.xlsx', engine='openpyxl')\n",
    "colors = ColorPalette[['R','G','B']].values/255"
   ]
  },
  {
   "cell_type": "code",
   "execution_count": 305,
   "id": "41e412c3-0aa5-4f3e-8203-88dc09b0cda0",
   "metadata": {
    "tags": []
   },
   "outputs": [],
   "source": [
    "file = os.getcwd()+'/128ch_16shank.xls'\n",
    "mapping = pd.read_excel(file)\n",
    "shank_no = mapping['shank']\n",
    "elec_no = mapping['elec']\n",
    "\n",
    "file = os.getcwd()+'/ROSE_16X8.xls'\n",
    "coor = pd.read_excel(file)\n",
    "\n",
    "sh = coor['shank']\n",
    "el = coor['elec']\n",
    "cor_x = coor['X']\n",
    "cor_y = coor['Y']\n",
    "cor_z = coor['Z']\n",
    "pinmap = {}\n",
    "pinmap_r = {}\n",
    "pinmap_shank = defaultdict(list)\n",
    "\n",
    "for ch in range(128):\n",
    "    pinmap[ch] = (shank_no[ch],elec_no[ch])\n",
    "    pinmap_r[(shank_no[ch],elec_no[ch])] = ch\n",
    "    pinmap_shank[shank_no[ch]].append(ch)\n",
    "coordinates = {}\n",
    "for i in range(128):\n",
    "    coordinates[sh[i],el[i]] = [cor_x[i],cor_y[i],cor_z[i]]\n",
    "    cor_by_ch = []\n",
    "for ch in range(128):\n",
    "    cor_by_ch.append(coordinates[pinmap[ch]])\n",
    "    \n",
    "labels = sh\n",
    "plt.figure(figsize=(5,5))\n",
    "plt.scatter(cor_x, -cor_y, s = 200, color = 'steelblue')\n",
    "plt.xlim([-1500,1500])\n",
    "plt.ylim([-1500,1500])\n",
    "for i, label in enumerate(labels):\n",
    "    plt.text(cor_x[i], -cor_y[i], label)\n",
    "plt.axis('off')"
   ]
  },
  {
   "cell_type": "code",
   "execution_count": null,
   "id": "650080f1-e660-42a2-984c-f9fa414925dd",
   "metadata": {},
   "outputs": [],
   "source": [
    "file = os.getcwd()+'/64chROSE.xls'\n",
    "mapping = pd.read_excel(file)\n",
    "shank_no = mapping['shank']\n",
    "elec_no = mapping['elec']"
   ]
  },
  {
   "cell_type": "code",
   "execution_count": null,
   "id": "9036512f-4e89-486c-ab68-df8d024b3b2b",
   "metadata": {},
   "outputs": [],
   "source": [
    "file = os.getcwd()+'/3DROSE_64ch.xls'\n",
    "pinmap_shank = defaultdict(list)\n",
    "coor = pd.read_excel(file)\n",
    "sh = coor['shank']\n",
    "el = coor['elec']\n",
    "cor_x = coor['X']\n",
    "cor_y = coor['Y']\n",
    "cor_z = coor['Z']\n",
    "pinmap = {}\n",
    "for ch in range(64):\n",
    "    pinmap[ch] = (shank_no[ch],elec_no[ch])\n",
    "    pinmap_shank[shank_no[ch]].append(ch)\n",
    "coordinates = {}\n",
    "for i in range(64):\n",
    "    coordinates[sh[i],el[i]] = [cor_x[i],cor_y[i],cor_z[i]]"
   ]
  },
  {
   "cell_type": "code",
   "execution_count": null,
   "id": "712939f8-5c25-4890-8f74-a7c50ab7a7fa",
   "metadata": {},
   "outputs": [],
   "source": [
    "labels = sh\n",
    "plt.scatter(cor_x,cor_y)\n",
    "for i, label in enumerate(labels):\n",
    "    plt.text(cor_x[i], cor_y[i], label)\n",
    "#plt.axis('off')\n"
   ]
  },
  {
   "cell_type": "markdown",
   "id": "2a73099f-6061-49dd-bf2f-477abc93fffc",
   "metadata": {},
   "source": [
    "# Filtering"
   ]
  },
  {
   "cell_type": "code",
   "execution_count": null,
   "id": "2746458e-f2e1-402e-958f-44047d429185",
   "metadata": {
    "tags": []
   },
   "outputs": [],
   "source": [
    "# Trim data if needed\n",
    "trim_start = 0\n",
    "trim_end = 50\n",
    "fs = 20000\n",
    "raw_data_copy = raw_data_spon.copy()\n",
    "raw_data_cut = raw_data_copy[:,int(trim_start*fs):int(trim_end*fs)]"
   ]
  },
  {
   "cell_type": "code",
   "execution_count": null,
   "id": "06111b53-75a1-4b24-8b59-22089ca8def6",
   "metadata": {
    "tags": []
   },
   "outputs": [],
   "source": [
    "order = 2\n",
    "low = 300\n",
    "high = 6000\n",
    "fs = 20000\n",
    "filtered = []\n",
    "b,a = signal.butter(order, [low, high], 'bp', fs=fs)\n",
    "for row in raw_data_stim:\n",
    "  filtered.append(signal.lfilter(b, a, row))\n",
    "#filtered = np.array(filtered, dtype = 'float32')\n",
    "med = np.median(filtered,axis=0)\n",
    "filtered = filtered - med\n",
    "\n",
    "del med\n",
    "gc.collect()"
   ]
  },
  {
   "cell_type": "markdown",
   "id": "aa469ce4-7010-4241-877b-38411b86ec11",
   "metadata": {
    "tags": []
   },
   "source": [
    "# CSD plots"
   ]
  },
  {
   "cell_type": "code",
   "execution_count": null,
   "id": "ed2d1033-a7ac-4a49-946a-74b749c653b6",
   "metadata": {
    "tags": []
   },
   "outputs": [],
   "source": [
    "def compute_csd(lfp_data, dz):\n",
    "\n",
    "    n_channels, n_timepoints = lfp_data.shape\n",
    "    csd_array = np.zeros_like(lfp_data)\n",
    "    for t in range(n_timepoints):\n",
    "        for ch in range(1, n_channels-1):\n",
    "            csd_array[ch, t] = -1 * (lfp_data[ch+1, t]\n",
    "                                     - 2 * lfp_data[ch, t]\n",
    "                                     + lfp_data[ch-1, t]) / (dz**2)\n",
    "    return csd_array  "
   ]
  },
  {
   "cell_type": "code",
   "execution_count": null,
   "id": "c27cde5e-ca2d-48de-a542-34cfe1d1ccf0",
   "metadata": {},
   "outputs": [],
   "source": [
    "def compute_2d_csd(chan_coords, voltages, nx=50, ny=50):\n",
    "    x_min, x_max = chan_coords[:,0].min(), chan_coords[:,0].max()\n",
    "    y_min, y_max = chan_coords[:,1].min(), chan_coords[:,1].max()\n",
    "    x_vals = np.linspace(x_min, x_max, nx)\n",
    "    y_vals = np.linspace(y_min, y_max, ny)\n",
    "    X, Y = np.meshgrid(x_vals, y_vals)\n",
    "    V_grid = griddata(chan_coords, voltages, (X, Y), method='cubic')\n",
    "    dx = (x_max - x_min) / (nx - 1)\n",
    "    dy = (y_max - y_min) / (ny - 1)\n",
    "    d2V_dx2 = (np.roll(V_grid, -1, axis=1) \n",
    "               - 2*V_grid \n",
    "               + np.roll(V_grid, 1, axis=1)) / (dx**2)\n",
    "    d2V_dy2 = (np.roll(V_grid, -1, axis=0) \n",
    "               - 2*V_grid \n",
    "               + np.roll(V_grid, 1, axis=0)) / (dy**2)\n",
    "    laplacian = d2V_dx2 + d2V_dy2\n",
    "    csd = -1.0 * laplacian  \n",
    "\n",
    "    return X, Y, csd"
   ]
  },
  {
   "cell_type": "code",
   "execution_count": null,
   "id": "c291c1a4-197c-4350-a15c-03881328ff76",
   "metadata": {
    "tags": []
   },
   "outputs": [],
   "source": []
  },
  {
   "cell_type": "code",
   "execution_count": null,
   "id": "ddd42b30-a84e-4ce6-a37a-9a48ae47df4b",
   "metadata": {
    "tags": []
   },
   "outputs": [],
   "source": [
    "dz = 100\n",
    "csd_data = compute_csd(np.array(shank_data), dz)\n",
    "csd_smooth = gaussian_filter(np.array(csd_data), sigma=1)\n",
    "sns.heatmap(csd_smooth, vmin=-0.1, vmax=0.1, cmap='jet', cbar = True, cbar_kws={'ticks': []})\n",
    "plt.axis('off')"
   ]
  },
  {
   "cell_type": "code",
   "execution_count": null,
   "id": "0e05b1e2-51fd-4eb8-8f04-2855c69e2f19",
   "metadata": {
    "tags": []
   },
   "outputs": [],
   "source": [
    "# 2D CSD plot\n",
    "corr_select = []\n",
    "corr_select.append(cor_x[el==4]) # electrode layer 4\n",
    "corr_select.append(cor_y[el==4])\n",
    "corr_select = np.array(corr_select).T\n",
    "\n",
    "plane_data = []\n",
    "for ch in ch_no[elec_no == 4]:\n",
    "    plane_data.append(np.mean(filtered[ch][int((start-1)*fs):int((end-1)*fs)]))\n",
    "    \n",
    "X, Y, CSD = compute_2d_csd(corr_select, plane_data , nx=50, ny=50)"
   ]
  },
  {
   "cell_type": "code",
   "execution_count": null,
   "id": "9ddb8b19-f9a7-41c1-8707-b8a968030f1e",
   "metadata": {
    "tags": []
   },
   "outputs": [],
   "source": [
    "plt.figure(figsize=(6,5))\n",
    "csd_smooth = gaussian_filter(CSD, sigma=1)\n",
    "im = plt.pcolormesh(X, Y, csd_smooth, cmap='jet_r', shading='auto', vmin=-5000, vmax=5000)\n",
    "plt.xlim(-1.7,1.7)\n",
    "plt.ylim(-1.7,1.7)\n",
    "plt.colorbar(im, label='CSD (arbitrary units)')\n",
    "plt.scatter(corr_select[:,0], corr_select[:,1], c='k', s=40, marker='o', label='Channels')\n",
    "plt.legend()\n",
    "plt.xlabel('X (mm)')\n",
    "plt.ylabel('Y (mm)')\n",
    "plt.title('2D CSD')\n",
    "plt.axis('off')\n",
    "plt.show()"
   ]
  },
  {
   "cell_type": "markdown",
   "id": "ecd4858e-867d-4ca9-94ec-e123d7f560e6",
   "metadata": {
    "tags": []
   },
   "source": [
    "# Spike Sorting"
   ]
  },
  {
   "cell_type": "code",
   "execution_count": null,
   "id": "99f2ad67-b5b3-46f4-a4b7-1bb2546d99ad",
   "metadata": {
    "tags": []
   },
   "outputs": [],
   "source": [
    "full_raw_rec = se.NumpyRecording(filtered.transpose(), sampling_frequency=20000)"
   ]
  },
  {
   "cell_type": "code",
   "execution_count": null,
   "id": "9481a951-65fb-4fa7-84bf-dc276cef9685",
   "metadata": {
    "tags": []
   },
   "outputs": [],
   "source": [
    "file = os.getcwd()+'/probemap.xlsx'\n",
    "mapping = np.array(pd.read_excel(file))\n",
    "\n",
    "probe = Probe(ndim=2, si_units='um')\n",
    "probe.set_contacts(positions=mapping, shapes='square', shape_params={'width': 10})\n"
   ]
  },
  {
   "cell_type": "code",
   "execution_count": null,
   "id": "b591364f-ecd7-44ed-bab4-800fbb36f355",
   "metadata": {
    "tags": []
   },
   "outputs": [],
   "source": [
    "ch_no = 128\n",
    "channel_indices = np.arange(ch_no)\n",
    "probe.set_device_channel_indices(channel_indices)\n",
    "raw_rec = full_raw_rec.set_probe(probe)\n",
    "print(probe.device_channel_indices)"
   ]
  },
  {
   "cell_type": "code",
   "execution_count": null,
   "id": "a8762707-2225-49b7-9b76-80383cd8e4d5",
   "metadata": {
    "tags": []
   },
   "outputs": [],
   "source": [
    "# sort by each shank\n",
    "sorting = {}\n",
    "s_num = 16\n",
    "e_num = 8\n",
    "for i in tqdm(range(s_num)):\n",
    "    sub_recording = raw_rec.channel_slice(channel_ids=raw_rec.channel_ids[e_num*i:e_num*(i+1)])\n",
    "    recording_f = si.bandpass_filter(sub_recording, freq_min=300, freq_max=6000)\n",
    "    recording_cmr = si.common_reference(recording_f, reference='global', operator='median')\n",
    "    recording_preprocessed = spre.whiten(sub_recording, dtype=np.float32)\n",
    "    sorting[shank_no[i*8]] = ms5.sorting_scheme2(\n",
    "    recording_preprocessed,\n",
    "    sorting_parameters=ms5.Scheme2SortingParameters(\n",
    "            phase1_detect_channel_radius=150,\n",
    "            detect_channel_radius=50,\n",
    "            training_duration_sec = 250,\n",
    "            phase1_npca_per_channel = 10,\n",
    "            phase1_detect_threshold = 5.5,\n",
    "            detect_threshold = 5.5\n",
    "    ),\n",
    "    )"
   ]
  },
  {
   "cell_type": "code",
   "execution_count": null,
   "id": "b24c1d5d-9db7-432e-aa43-0c2b61b8ff32",
   "metadata": {
    "tags": []
   },
   "outputs": [],
   "source": [
    "# find channel - units relationship\n",
    "ch_to_unit = defaultdict(dict)\n",
    "for i in range(s_num):\n",
    "    for unit_id in sorting[shank_no[i*e_num]].get_unit_ids():\n",
    "        peaks = sorting[shank_no[i*e_num]].get_unit_spike_train(unit_id)\n",
    "        v = {}\n",
    "        for ch in range(e_num):\n",
    "            channel = ch + e_num*i\n",
    "            temp = []\n",
    "            for idx, peak in enumerate(peaks):\n",
    "                if idx < 500:\n",
    "                    temp.append(filtered[channel][peak])\n",
    "            v[channel] = np.mean(temp)\n",
    "        ch_to_unit[shank_no[i*8]][unit_id] = min(v, key=lambda k: v[k])\n",
    "ch_to_unit"
   ]
  },
  {
   "cell_type": "code",
   "execution_count": null,
   "id": "38b2881e-3bd0-4072-9e72-eb50d745ef06",
   "metadata": {
    "tags": []
   },
   "outputs": [],
   "source": [
    "#Display sorting results\n",
    "width = np.linspace(0,3,60)\n",
    "peak = defaultdict(list)\n",
    "waveform = defaultdict(list)\n",
    "cluster_time_stamp = defaultdict(list)\n",
    "cluster_mean_wave = defaultdict(dict)\n",
    "input = filtered\n",
    "fig, axs = plt.subplots(e_num, s_num, sharex = 'col', sharey = 'row')\n",
    "for i in range(s_num):\n",
    "    for unit_id in sorting[shank_no[i*e_num]].get_unit_ids():\n",
    "      channel = ch_to_unit[shank_no[i*e_num]][unit_id]\n",
    "      x = 8 - pinmap[channel][1]\n",
    "      y = shank_no[i*e_num] - 1\n",
    "      for idx, time_stamp in enumerate(sorting[shank_no[i*e_num]].get_unit_spike_train(unit_id)):\n",
    "        if time_stamp > 30 and time_stamp < len(input[0])-30:\n",
    "          waveform[shank_no[i*s_num],unit_id].append(input[channel][int(time_stamp-30):int(time_stamp+30)])\n",
    "          if idx < 100:\n",
    "              axs[x][y].plot(width, input[channel][int(time_stamp-30):int(time_stamp+30)],'darkgoldenrod',linewidth=1)\n",
    "      axs[x][y].set_title(\"channel%d\"%(channel))\n",
    "      if not waveform[shank_no[i*e_num],unit_id]:\n",
    "        continue\n",
    "      cluster_mean_wave[shank_no[i*e_num]][unit_id] = np.mean(waveform[shank_no[i*e_num],unit_id],axis = 0)  \n",
    "      axs[x][y].plot(width, cluster_mean_wave[shank_no[i*s_num]][unit_id],'white',linewidth=5, label = \"s%d\"%(shank_no[i*e_num]) + \"u%d\"%(unit_id))\n",
    "      axs[x][y].legend()\n",
    "      axs[x][y].tick_params(axis='x', which='major', labelsize = 30)\n",
    "      axs[x][y].set_ylim(-200, 200)\n",
    "      fig.set_figheight(40)\n",
    "      fig.set_figwidth(60)\n",
    "  #plt.show()"
   ]
  },
  {
   "cell_type": "code",
   "execution_count": null,
   "id": "b0552142-62a2-47ae-8852-737ad7904134",
   "metadata": {
    "tags": []
   },
   "outputs": [],
   "source": [
    "# Save pre-curation units\n",
    "spike_time_all_pre = {}\n",
    "mean_waveform_all_pre= {}\n",
    "for i in range(256):\n",
    "    for unit_id in sorting[i+1].get_unit_ids():\n",
    "      unit = 0\n",
    "      channel = i\n",
    "      while (channel,unit) in spike_time_all_pre.keys():\n",
    "        unit = unit + 1\n",
    "      spike_time_all_pre[channel, unit] = sorting[i+1].get_unit_spike_train(unit_id)\n",
    "      mean_waveform_all_pre[channel, unit] = waveform[i+1, unit_id]"
   ]
  },
  {
   "cell_type": "markdown",
   "id": "e1650489-29c2-4427-b37c-c074c4e7da15",
   "metadata": {
    "tags": []
   },
   "source": [
    "# Curation"
   ]
  },
  {
   "cell_type": "code",
   "execution_count": null,
   "id": "62753e63-5a59-4038-a527-1118772131e1",
   "metadata": {},
   "outputs": [],
   "source": [
    "aligned_ch = waveform\n",
    "pca = PCA(n_components=6)\n",
    "components = {}\n",
    "fig, axs = plt.subplots(e_num, s_num, sharex = 'col', sharey = 'row')\n",
    "for unit_id in sorting.get_unit_ids():\n",
    "  channel = ch_to_unit[unit_id] + e_num*i\n",
    "  y = shank_no[channel]\n",
    "  x = elec_no[channel]\n",
    "  if len(aligned_ch[unit_id]) < 3:\n",
    "    axs[x-1].set_title('cluster%d'%(unit_id),size=10)\n",
    "    axs[x-1].set_ylim([-20, 20])\n",
    "    axs[x-1].tick_params(axis='both', which='major', labelsize=10)\n",
    "    continue\n",
    "  aligned_std = StandardScaler().fit_transform(aligned_ch[unit_id])\n",
    "  principal_components = pca.fit_transform(aligned_std)\n",
    "  components[unit_id] = principal_components\n",
    "  axs[x-1].scatter(components[unit_id][:,0], components[unit_id][:,1], s=3, c='black')\n",
    "  axs[x-1].set_title('cluster%d'%(unit_id),size=10)\n",
    "  axs[x-1].set_xlim([-20, 20])\n",
    "  axs[x-1].set_ylim([-20, 20])\n",
    "  axs[x-1].tick_params(axis='both', which='major', labelsize=10)\n",
    "  fig.set_figheight(20)\n",
    "  fig.set_figwidth(5)"
   ]
  },
  {
   "cell_type": "code",
   "execution_count": null,
   "id": "4ebdb24b-471f-482d-b7ec-45e1bb6b8a4e",
   "metadata": {
    "tags": []
   },
   "outputs": [],
   "source": [
    "# spike curation\n",
    "\n",
    "color={}\n",
    "color[0] = 'steelblue'\n",
    "color[1] = 'orange'\n",
    "color[2] = 'seagreen'\n",
    "color[3] = 'red'\n",
    "color[4] = 'purple'\n",
    "color[5] = 'gray'\n",
    "color[6] = 'black'\n",
    "color[7] = 'pink'\n",
    "\n",
    "\n",
    "\n",
    "channel = 0# examine sorted unit clusters\n",
    "unit_id = 0\n",
    "k =1 #cluster number \n",
    "wave_cluster = {}\n",
    "spk_time = spike_time_all_pre[channel, unit_id]\n",
    "spk_wave = mean_waveform_all_pre[channel, unit_id]\n",
    "timing = {}\n",
    "comp = components[channel, unit_id]\n",
    "compo = {}\n",
    "kmeans = KMeans(n_clusters=k, init='k-means++', max_iter=500, n_init=10, random_state=0).fit(comp)\n",
    "fig = plt.figure(figsize = (10, 7))\n",
    "for cluster in range(k):\n",
    "  clust = np.where(kmeans.labels_ == cluster)[0]\n",
    "  timing[cluster] = spk_time[clust]\n",
    "  compo[cluster] = comp[clust]\n",
    "  plt.scatter(comp[clust,0],comp[clust,1], s=30, c=color[cluster], alpha = 1)\n",
    "  plt.xlim([-50, 50])\n",
    "  plt.ylim([-50, 50])\n",
    "\n",
    "single_unit_time = defaultdict(list)\n",
    "single_unit_waveform = defaultdict(list)\n",
    "\n",
    "fig = plt.figure(figsize = (10, 7))\n",
    "fig, axs = plt.subplots(1, k+1, sharex = 'col', sharey = 'row')\n",
    "for cluster in range(k):\n",
    "    t = np.linspace(0,4,4*20)\n",
    "    clust = np.where(kmeans.labels_ == cluster)[0]\n",
    "    for index in clust:\n",
    "        if index <=200:\n",
    "          single_unit_time[channel,unit_id,cluster].append(spike_time_all_pre[channel, unit_id][index])\n",
    "          single_unit_waveform[channel,unit_id,cluster].append(mean_waveform_all_pre[channel,unit_id][index])\n",
    "          axs[cluster].plot(t, mean_waveform_all_pre[channel,unit_id][index],color=color[cluster],linewidth=6)\n",
    "    mean_spike = np.mean(single_unit_waveform[channel,unit_id,cluster],axis = 0)\n",
    "    if np.isnan(mean_spike).any():\n",
    "        continue\n",
    "    half_max = (max(mean_spike) + min(mean_spike))/2\n",
    "    axs[cluster].plot(t, mean_spike,color = 'white',linewidth=12)\n",
    "    axs[cluster].axhline(half_max ,color = 'red',linewidth=12)\n",
    "    axs[cluster].tick_params(axis='both', which='both', labelbottom=True, labelleft=True, labelsize = 50)\n",
    "    #axs[cluster].set_xlim([1.5, 2.5])\n",
    "    fig.set_figheight(20)\n",
    "    fig.set_figwidth(50)\n",
    "#plt.ylim(-200,70)\n",
    "plt.axis('off')\n",
    "\n",
    "for cluster in range(k):\n",
    "    noise = []\n",
    "    SNR = []\n",
    "    peak = []\n",
    "    mean_waveform = np.mean(single_unit_waveform[channel,unit_id,cluster],axis = 0)\n",
    "    average = signal.resample(mean_waveform,5*len(t))\n",
    "    p = np.where(average == max(average))[0][0]\n",
    "    v = np.where(average == min(average))[0][0]\n",
    "    firing_rate = len(single_unit_time[channel,unit_id,cluster])/((len(input[0])/fs))\n",
    "    if not FWHM(average):\n",
    "        fwhm = 0\n",
    "    else:\n",
    "        fwhm = FWHM(average)\n",
    "    pvt = np.abs(p-v)\n",
    "    isi_single = np.diff(single_unit_time[channel,unit_id,cluster])\n",
    "    isi_violation = np.abs((len(np.where(isi_single<2*fs/1000)[0])))/(len(single_unit_time[channel,unit_id,cluster]))\n",
    "    isi_cluster = np.diff(single_unit_time[channel,unit_id,cluster])\n",
    "    for stamp in single_unit_time[channel,unit_id,cluster]:\n",
    "      peak_select = int(stamp)\n",
    "      noise_select = input[channel][peak_select-36:peak_select-28]\n",
    "      peak_to_peak = max(mean_waveform) - min(mean_waveform)\n",
    "      rms_noise = np.sqrt(np.mean(noise_select**2))\n",
    "      SNR.append(peak_to_peak/rms_noise) \n",
    "      peak.append(peak_to_peak)\n",
    "      noise.append(rms_noise)\n",
    "    noise_med = np.median(noise)\n",
    "    SNR_med = np.median(SNR)\n",
    "    peak_med = np.median(peak)\n",
    "    plt.show()\n",
    "    print('')\n",
    "    print(\"Channel:%d |\"%(channel),\"cluster:%d |\"%(cluster), \"SNR:%f |\"%(SNR_med), \"peak_to_peak signal:%f |\"%(peak_med),\"rms_noise:%f |\"%(noise_med),'firing rate:%fHz '%(firing_rate))\n",
    "\n",
    "    print('FWHM:%fms |'%(fwhm/(5*fs/1000)), 'pvt:%fms |'%(pvt/(5*fs/1000)), 'ISI violation:%f'%(isi_violation*100)+\"%\")\n",
    "    \n",
    "    print('')\n",
    "\n",
    "    if fwhm/(5*fs/1000) < 0.15 or fwhm/(5*fs/1000) > 0.75:\n",
    "      print(\"fwhm did not pass!\")\n",
    "    if pvt/(5*fs/1000) < 0.15 or pvt/(5*fs/1000) > 0.85:\n",
    "      print(\"peak-to-valley did not pass!\")\n",
    "    if isi_violation > 0.02:\n",
    "      print(\"ISI violation over 2%!\")\n",
    "    if firing_rate < 0.1:\n",
    "      print('firing rate smaller than 0.1 Hz!')\n",
    "    if SNR_med < 4:\n",
    "      print(\"low spike SNR!\")  \n",
    "    print('*******************************')\n",
    "\n",
    "    print('')\n"
   ]
  },
  {
   "cell_type": "code",
   "execution_count": null,
   "id": "9f084aa1-d56c-4e32-9199-91f7814276d4",
   "metadata": {
    "tags": []
   },
   "outputs": [],
   "source": [
    "# further trim waveforms if needed\n",
    "single_unit_time = defaultdict(list)\n",
    "single_unit_waveform = defaultdict(list)\n",
    "cluster = 0\n",
    "low = -500\n",
    "high = 500\n",
    "clust = np.where(kmeans.labels_ == cluster)[0]\n",
    "plt.figure(figsize = (5,7))\n",
    "for index in clust:\n",
    "    if np.min(spk_wave[index]) < low or np.max(spk_wave[index]) > high:   \n",
    "       continue\n",
    "    if np.min(spk_wave[index]) > -40:   \n",
    "       continue\n",
    "    single_unit_time[channel,cluster].append(spk_time[index])\n",
    "    single_unit_waveform[channel,cluster].append(spk_wave[index])\n",
    "    plt.plot(t, spk_wave[index], color=colors[6],linewidth=2)\n",
    "plt.plot(t, np.mean(single_unit_waveform[channel,cluster],axis = 0),color = 'white',linewidth=5)\n",
    "plt.xlim(0.5,3.5)\n",
    "plt.ylim(-300,250)\n",
    "plt.axis('off')"
   ]
  },
  {
   "cell_type": "code",
   "execution_count": null,
   "id": "91c20250-6be3-49e7-a6a2-2d9d4d919dda",
   "metadata": {
    "tags": []
   },
   "outputs": [],
   "source": [
    "# Show spike autocorrelogram\n",
    "auto = {}\n",
    "cross = {}\n",
    "bin_size = 0.001\n",
    "max_lag = 0.1\n",
    "count_violation = []\n",
    "\n",
    "spike_times = np.sort(spike_time_all[ch,unit])/20000\n",
    "lags = np.arange(-max_lag, max_lag+bin_size, bin_size)\n",
    "counts = np.zeros(len(lags)-1)\n",
    "\n",
    "for index, spike in enumerate(spike_times):\n",
    "    diffs = spike_times - spike\n",
    "    diffs = diffs[diffs != 0]\n",
    "\n",
    "# Keep only differences within [-max_lag, max_lag]\n",
    "    diffs = diffs[(diffs >= -max_lag) & (diffs <= max_lag)]\n",
    "    if diffs[(np.abs(diffs) <= 0.002) & (np.abs(diffs) >= 0.001)].any():\n",
    "        count_violation.append(index)\n",
    "        \n",
    "# Bin these differences\n",
    "    hist, _ = np.histogram(diffs, bins=lags)\n",
    "    counts += hist\n",
    "\n",
    "counts = counts / (len(spike_times) * bin_size)\n",
    "lag_centers = 0.5 * (lags[:-1] + lags[1:])\n",
    ", max_lag=0.1, bin_size = 0.001)\n",
    "\n",
    "\n",
    "auto[ch,unit] = counts\n",
    "plt.figure(figsize=(10,4))\n",
    "\n",
    "plt.subplot(1,2,1)\n",
    "plt.bar(lag_centers, counts, width=0.002, align='center')\n",
    "plt.title(\"Auto-Correlogram\")\n",
    "plt.xlabel(\"Lag (s)\")\n",
    "plt.ylabel(\"Normalized Count\")"
   ]
  },
  {
   "cell_type": "code",
   "execution_count": null,
   "id": "b90f10dc-0d33-43ed-a7aa-658c4ca17fc7",
   "metadata": {
    "tags": []
   },
   "outputs": [],
   "source": [
    "mean_waveform_all = {}\n",
    "spike_time_all = {}"
   ]
  },
  {
   "cell_type": "code",
   "execution_count": null,
   "id": "dd1e8d04-2115-43a8-aba7-dd8842faf10c",
   "metadata": {
    "tags": []
   },
   "outputs": [],
   "source": [
    "# Record your sorted spikes\n",
    "unit = 0\n",
    "while (channel,unit) in spike_time_all.keys():\n",
    "    unit = unit + 1\n",
    "spike_time_all[channel, unit] = single_unit_time[channel, cluster]\n",
    "mean_waveform_all[channel, unit] = np.mean(single_unit_waveform[channel, cluster],axis = 0)\n",
    "plt.plot(mean_waveform_all[channel, unit], linewidth =15)\n",
    "plt.axis('off')"
   ]
  },
  {
   "cell_type": "code",
   "execution_count": null,
   "id": "9ef7bbb0-e51f-4528-8525-a9b3b927f3ec",
   "metadata": {
    "tags": []
   },
   "outputs": [],
   "source": [
    "# show it in table\n",
    "input = filtered\n",
    "pvt = {}\n",
    "firing_rate = {}\n",
    "fwhm = {}\n",
    "isi_violation = {}\n",
    "chan = []\n",
    "clusterid = []\n",
    "noise_med = {}\n",
    "peak_med = {}\n",
    "SNR_med = {}\n",
    "L_ratio = {}\n",
    "sh = []\n",
    "el= []\n",
    "for ch, cluster in spike_time_all.keys():\n",
    "    SNR = []\n",
    "    peak = []\n",
    "    noise = []\n",
    "    isi_single = np.diff(spike_time_all[ch, cluster])\n",
    "    isi_violation[ch, cluster] = len(np.where(isi_single<(2*fs/1000))[0])/(len(spike_time_all[ch,cluster])+1)\n",
    "    mean_waveform = mean_waveform_all[ch, cluster]\n",
    "    spike_count = sum(1 for x in spike_time_all[ch,cluster] if x < 5000*fs)\n",
    "    firing_rate[ch,cluster] = spike_count/(len(input[0])/fs)\n",
    "    upsampled_mean = signal.resample(mean_waveform,5*4*bw)\n",
    "    p = np.where(upsampled_mean == max(upsampled_mean))[0][0]\n",
    "    v = np.where(upsampled_mean == min(upsampled_mean))[0][0]\n",
    "    pvt[ch,cluster] = np.abs(p-v)/(5*fs/1000)\n",
    "    peak_to_peak = max(mean_waveform) - min(mean_waveform)\n",
    "    peak.append(peak_to_peak)\n",
    "    for stamp in spike_time_all[ch,cluster]:\n",
    "        peak_select = int(stamp)\n",
    "        if peak_select < 100*fs:\n",
    "            noise_select = input[ch][peak_select-54:peak_select-42]\n",
    "            rms_noise = np.sqrt(np.mean(noise_select**2))\n",
    "            SNR.append(peak_to_peak/rms_noise)\n",
    "            noise.append(rms_noise)\n",
    "    noise_med[ch, cluster] = np.median(noise)\n",
    "    SNR_med[ch,cluster] = np.median(SNR)\n",
    "    peak_med[ch,cluster] = np.median(peak)\n",
    "    \n",
    "    \n",
    "df = pd.DataFrame()\n",
    "for key in spike_time_all.keys():\n",
    "    chan.append(key[0])\n",
    "    clusterid.append(key[1])\n",
    "    sh.append(shank_no[key[0]])\n",
    "    el.append(elec_no[key[0]])\n",
    "df['shank_no'] = sh\n",
    "df['elec_no'] = el\n",
    "df['channel'] = chan\n",
    "df['cluster'] = clusterid \n",
    "df['SNR'] = SNR_med.values()\n",
    "df['noise'] = noise_med.values()\n",
    "df['signal'] = peak_med.values()\n",
    "df['ISI violation'] = isi_violation.values()\n",
    "df['ISI violation'] = df['ISI violation'].apply(lambda x: f'{x*100:.2f}%')\n",
    "df['firing rate'] = firing_rate.values()\n",
    "\n",
    "df = df.round(2)\n",
    "df"
   ]
  },
  {
   "cell_type": "markdown",
   "id": "21370042-b8de-4891-ab35-3099245d70c7",
   "metadata": {
    "toc-hr-collapsed": true
   },
   "source": [
    "# Spike analysis"
   ]
  },
  {
   "cell_type": "code",
   "execution_count": null,
   "id": "d6305c47-4a38-4d58-89cc-f643a120a4f8",
   "metadata": {
    "tags": []
   },
   "outputs": [],
   "source": [
    "# Calculate units crosscorrelogram\n",
    "cross = {}\n",
    "lags = np.arange(-max_lag, max_lag+bin_size, bin_size)\n",
    "\n",
    "for [ch1, unit1] in spike_time_all.keys():\n",
    "    for [ch2,unit2] in spike_time_all.keys():\n",
    "        counts = np.zeros(len(lags)-1)\n",
    "        if [ch1, unit1] == [ch2,unit2]:\n",
    "            continue\n",
    "        spike_times_1 = np.sort(spike_time_all[ch1,unit1])/20000\n",
    "        spike_times_2 = np.sort(spike_time_all[ch2,unit2])/20000\n",
    "        # For each spike in neuron 1, compare to all in neuron 2\n",
    "        for spike in spike_times_1:\n",
    "            diffs = spike_times_2 - spike\n",
    "            diffs = diffs[(diffs >= -max_lag) & (diffs <= max_lag)]\n",
    "\n",
    "            hist, _ = np.histogram(diffs, bins=lags)\n",
    "            counts += hist\n",
    "\n",
    "        # Normalize: divide by (N_spikes_in_neuron1 * bin_size) to get a rate\n",
    "        counts = counts / (len(spike_times_1) * bin_size)\n",
    "\n",
    "        lag_centers = 0.5 * (lags[:-1] + lags[1:])\n",
    "        cross[ch1,unit1,ch2,unit2] = counts\n",
    "\n",
    "plt.figure(figsize=(10,4))\n",
    "\n",
    "plt.bar(lag_centers, counts, width=0.005, align='center')\n",
    "plt.title(\"Cross-Correlogram (Neuron 1 vs Neuron 2)\")\n",
    "plt.xlabel(\"Lag (s)\")\n",
    "plt.ylabel(\"Normalized Count\")\n",
    "\n",
    "plt.tight_layout()\n",
    "plt.show()"
   ]
  },
  {
   "cell_type": "code",
   "execution_count": null,
   "id": "5e1569f5-0850-427f-926b-5c000b8f3065",
   "metadata": {
    "tags": []
   },
   "outputs": [],
   "source": [
    "# spike firing categorized by angle\n",
    "c = chan[-1]\n",
    "start = 0\n",
    "end =int(len(filtered[0])/fs)\n",
    "L = 1.5 #end - start\n",
    "step = 0.05\n",
    "points = int(L/step)\n",
    "fr = []\n",
    "mean_fr_ang = defaultdict(list)\n",
    "r = np.array(spike_time_all[c,unit])\n",
    "\n",
    "for A in np.arange(0, 360, 15):\n",
    "    fr = []\n",
    "    for time in onset_time[np.where(angle == A)]:\n",
    "        scount = []\n",
    "        on_time = int((time-0.5)*fs)\n",
    "        off_time = on_time + int(L*fs)\n",
    "        for n in range(points):\n",
    "            spike_count = (((int(on_time + step*fs*n) <= r) & (r < int(on_time+step*fs*(n+1)))).sum())/0.05\n",
    "            scount.append(spike_count)\n",
    "        fr.append(scount)\n",
    "    mean_fr = np.mean(fr, axis = 0)   \n",
    "    mean_fr_ang[A].append(mean_fr)\n",
    "    bin = np.linspace(0, L, len(mean_fr))\n",
    "    plt.figure(figsize=(5,2))\n",
    "    plt.ylim(0,20)#np.max(mean_fr_ang[0]))\n",
    "    plt.bar(bin, mean_fr,color = 'slategray',width = 0.05)\n",
    "    plt.axvline(x = 0.6)\n",
    "    plt.tick_params(axis='both', which='major', labelsize=20)\n",
    "    plt.gca().spines['right'].set_visible(False)\n",
    "    plt.gca().spines['top'].set_visible(False)"
   ]
  },
  {
   "cell_type": "markdown",
   "id": "abe13e7b-65de-4f3a-8748-86fa15da6df8",
   "metadata": {
    "tags": []
   },
   "source": [
    "# Weekly Recordings"
   ]
  },
  {
   "cell_type": "code",
   "execution_count": null,
   "id": "32ff9caa-d1f4-402b-a839-594965fbc53d",
   "metadata": {
    "tags": []
   },
   "outputs": [],
   "source": [
    "sec = 3\n",
    "fs = 20000\n",
    "bw = int(fs/1000*sec)\n",
    "width = np.linspace(0,sec,bw)\n",
    "hw = int(bw/2)\n",
    "peak = defaultdict(list)\n",
    "cluster_time_stamp = defaultdict(list)\n",
    "cluster_mean_wave = defaultdict(dict)\n",
    "waveform = defaultdict(dict)\n",
    "processed_weeks = [0,1,2,3,4,5]\n",
    "for week in processed_weeks:\n",
    "    input = weekly_filtered_M16[week] # sorted single units in weeks\n",
    "    for (channel, unit_id) in weekly_spike_time_all[week].keys():\n",
    "        waveform[week][channel, unit_id] = []\n",
    "        for idx, time_stamp in enumerate(weekly_spike_time_all[week][channel,unit_id]):\n",
    "              if time_stamp > hw and time_stamp < len(input[0])-hw:\n",
    "                 valley = min(input[channel][int(time_stamp-hw):int(time_stamp+hw)])\n",
    "                 if valley > -30:\n",
    "                    continue\n",
    "                 waveform[week][channel, unit_id].append(input[channel][int(time_stamp-hw):int(time_stamp+hw)])\n",
    "\n",
    "counter = defaultdict(dict)\n",
    "stacked_spikes = defaultdict(list)\n",
    "spikes = {}\n",
    "for week in processed_weeks:\n",
    "    for (channel, unit_id) in waveform[week].keys():\n",
    "        if waveform[week][channel, unit_id]:\n",
    "            stacked_spikes[week].append(waveform[week][channel, unit_id][0:100])\n",
    "            counter[week][channel,unit_id] = len(waveform[week][channel, unit_id][0:100])\n",
    "    spikes[week] = np.vstack(stacked_spikes[week])                  \n",
    "\n",
    "clusters = defaultdict(dict)\n",
    "pca = PCA(n_components=6)\n",
    "for week in processed_weeks:\n",
    "    lens = np.insert(np.cumsum(list(counter[week].values())),0,0)\n",
    "    aligned_ch = spikes[week]\n",
    "    aligned_std = StandardScaler().fit_transform(aligned_ch)\n",
    "    principal_components = pca.fit_transform(aligned_std)\n",
    "    for n in range(len(lens)-1):\n",
    "        clusters[week][n] = np.array(principal_components[lens[n]:lens[n+1],0:7])\n",
    "        \n",
    "#calculate mahalanobis distance between clusters:\n",
    "\n",
    "distance_between_centroids = defaultdict(list)\n",
    "counter_distance = defaultdict(list)\n",
    "cc = {}\n",
    "for week in processed_weeks:\n",
    "    centroids = {}\n",
    "    for n in range(len(counter[week])):\n",
    "        centroids[n] = np.mean(clusters[week][n], axis=0)\n",
    "    for n in range(len(counter[week])-1): \n",
    "        for m in range(n+1,len(counter[week])):\n",
    "            combined_data = np.vstack((clusters[week][n],clusters[week][m]))\n",
    "            cov_matrix = np.cov(combined_data, rowvar=False)\n",
    "            inv_cov_matrix = inv(cov_matrix)\n",
    "            distance_between_centroids[week].append(mahalanobis(centroids[n], centroids[m], inv_cov_matrix))\n",
    "            cc[list(weekly_spike_time_all[week].keys())[n][0],list(weekly_spike_time_all[week].keys())[m][0]] = mahalanobis(centroids[n], centroids[m], inv_cov_matrix)\n",
    "cc"
   ]
  },
  {
   "cell_type": "code",
   "execution_count": null,
   "id": "34d3baea-7b04-4d30-abbd-2650e4deb240",
   "metadata": {
    "tags": []
   },
   "outputs": [],
   "source": [
    "# find 5th percentile as threshold\n",
    "maha_all = np.concatenate(list(distance_between_centroids.values()))\n",
    "m = np.concatenate([maha_all,maha_all])\n",
    "plt.hist(sorted(maha_all), bins = 60, width = 0.1)\n",
    "plt.xlim(0,4)\n",
    "np.percentile(maha_all, 5)"
   ]
  },
  {
   "cell_type": "markdown",
   "id": "c62e4565-298f-4b11-9aa3-da02e8ec25ab",
   "metadata": {},
   "source": [
    "# DM measures"
   ]
  },
  {
   "cell_type": "code",
   "execution_count": null,
   "id": "5e5eab1b-0e47-4ba1-8eba-54b2a43d587c",
   "metadata": {
    "tags": []
   },
   "outputs": [],
   "source": [
    "# calculate \n",
    "spikes_within_unit = []\n",
    "counter_units = []\n",
    "counter_length = []\n",
    "L =250\n",
    "for week in processed_weeks:\n",
    "    for channel in [0]:\n",
    "        for unit_id in range(4):\n",
    "            if (channel, unit_id) in waveform[week].keys() and len(waveform[week][channel, unit_id][0:L]) > 1:\n",
    "                spikes_within_unit.append(waveform[week][channel, unit_id][0:L])\n",
    "                counter_length.append(len(waveform[week][channel, unit_id][0:L]))\n",
    "                counter_units.append([week,channel,unit_id])\n",
    "\n"
   ]
  },
  {
   "cell_type": "code",
   "execution_count": null,
   "id": "3bf39d2b-98d7-4a6d-90c1-c40fdee04ae1",
   "metadata": {
    "tags": []
   },
   "outputs": [],
   "source": [
    "clusters = {}\n",
    "pca = PCA(n_components=6)\n",
    "for week in range(5):\n",
    "    lens = np.insert(np.cumsum(counter_length),0,0)\n",
    "    components = {}\n",
    "    aligned_ch = np.vstack(spikes_within_unit)\n",
    "    aligned_std = StandardScaler().fit_transform(aligned_ch)\n",
    "    principal_components = pca.fit_transform(aligned_std)\n",
    "\n",
    "    for n in range(0,len(counter_length)):\n",
    "        clusters[n] = np.array(principal_components[lens[n]:lens[n+1],0:7])\n",
    "        plt.scatter(principal_components[lens[n]:lens[n+1],0],principal_components[lens[n]:lens[n+1],1],s = 5,color = colors[int(n)])\n",
    "#plt.legend()\n",
    "plt.xlim([-30, 30])\n",
    "plt.ylim([-30, 30])"
   ]
  },
  {
   "cell_type": "code",
   "execution_count": null,
   "id": "0cb9d0b4-aa26-4bde-8de8-f8f1297d7cd9",
   "metadata": {
    "tags": []
   },
   "outputs": [],
   "source": [
    "table_string = df['firing rate'].to_csv(index=False, sep='\\t')\n",
    "\n",
    "# Print the result\n",
    "print(table_string)"
   ]
  },
  {
   "cell_type": "code",
   "execution_count": null,
   "id": "ae4ec3f4-826d-46b5-8717-8c493bab8346",
   "metadata": {
    "tags": []
   },
   "outputs": [],
   "source": [
    "np.mean(df['firing rate'])"
   ]
  },
  {
   "cell_type": "code",
   "execution_count": null,
   "id": "b44bc07c-78e7-494d-a517-7b32082e6bb6",
   "metadata": {
    "tags": []
   },
   "outputs": [],
   "source": [
    "week = 2\n",
    "channel = 125\n",
    "unit_id = 0\n",
    "del spike_time_all[week][channel,unit_id]"
   ]
  },
  {
   "cell_type": "code",
   "execution_count": null,
   "id": "3991cc96-2434-4393-b190-297d02c82ea7",
   "metadata": {
    "tags": []
   },
   "outputs": [],
   "source": [
    "ch = 101\n",
    "temp = spike_time_all[week][ch,0]\n",
    "spike_time_all[week][ch,0] = spike_time_all[week][ch,1]\n",
    "spike_time_all[week][ch,1] = temp"
   ]
  },
  {
   "cell_type": "code",
   "execution_count": null,
   "id": "2ac42690-43eb-4d78-b619-7b78582d1b51",
   "metadata": {
    "tags": []
   },
   "outputs": [],
   "source": [
    "len(spike_time_all[1])"
   ]
  },
  {
   "cell_type": "code",
   "execution_count": null,
   "id": "34bbb76f-6413-4cd4-bbc3-bac333747bae",
   "metadata": {
    "tags": []
   },
   "outputs": [],
   "source": [
    "df['signal'][49] = 200\n"
   ]
  },
  {
   "cell_type": "code",
   "execution_count": null,
   "id": "2c707e49-3c6e-4c8d-9926-9b69026d0df8",
   "metadata": {
    "tags": []
   },
   "outputs": [],
   "source": [
    "# Save sorting results\n",
    "with open(os.getcwd()+'/Recording_data/Mice ROSE chronic/M16/W5/sorted_time_cleaned', 'wb') as f:\n",
    "    pickle.dump(spike_time_all, f)"
   ]
  },
  {
   "cell_type": "code",
   "execution_count": null,
   "id": "f234c8a5-c14e-4370-a3d8-46c145f98ddc",
   "metadata": {
    "tags": []
   },
   "outputs": [],
   "source": [
    "# Save sorting results\n",
    "with open(os.getcwd()+'/Recording_data/Mice ROSE chronic/Mouse 12/spike_time_all_5weeks_3', 'wb') as f:\n",
    "    pickle.dump(spike_time_all, f)"
   ]
  },
  {
   "cell_type": "code",
   "execution_count": null,
   "id": "d288d27a-f361-4a6b-b2c5-b5af1174da76",
   "metadata": {
    "tags": []
   },
   "outputs": [],
   "source": [
    "with open(os.getcwd()+'/Recording_data/Mice ROSE chronic/Mouse 12/weekly_filtered_M14', 'wb') as f:\n",
    "    pickle.dump(weekly_filtered_M14, f)"
   ]
  },
  {
   "cell_type": "code",
   "execution_count": null,
   "id": "3a39a8cd-6baf-47fe-843b-619b07382df6",
   "metadata": {
    "tags": []
   },
   "outputs": [],
   "source": [
    "with open(os.getcwd()+'/Recording_data/Mice ROSE chronic/M14/W3/sorted_table_cleaned', 'wb') as f:\n",
    "    pickle.dump(df, f)"
   ]
  },
  {
   "cell_type": "code",
   "execution_count": null,
   "id": "50a0da62-cddb-4248-a287-380aca23151c",
   "metadata": {
    "tags": []
   },
   "outputs": [],
   "source": [
    "len(spike_time_all_12[4])"
   ]
  },
  {
   "cell_type": "code",
   "execution_count": null,
   "id": "e994e77a-0a09-46d3-a871-258c48aa76d0",
   "metadata": {
    "tags": []
   },
   "outputs": [],
   "source": [
    "# Save sorting results\n",
    "with open(os.getcwd()+'/Recording_data/Mice ROSE chronic/M16/W5/sorted_time', 'rb') as f:\n",
    "    W5 = pickle.load(f)"
   ]
  },
  {
   "cell_type": "code",
   "execution_count": null,
   "id": "e9c6fe05-3ff3-4cf8-bdcf-1180cdad54a3",
   "metadata": {
    "tags": []
   },
   "outputs": [],
   "source": [
    "with open(os.getcwd()+'/Recording_data/Mice ROSE chronic/Mouse 12/weekly_filtered_M16', 'rb') as f:\n",
    "   weekly_filtered_M16 = pickle.load(f)"
   ]
  },
  {
   "cell_type": "code",
   "execution_count": null,
   "id": "46e294e9-8ffb-453e-9273-59390c4d711a",
   "metadata": {
    "tags": []
   },
   "outputs": [],
   "source": [
    "weekly_filtered.keys()"
   ]
  },
  {
   "cell_type": "code",
   "execution_count": null,
   "id": "16e5416a-77c1-4c0b-b327-68cde52b2814",
   "metadata": {
    "tags": []
   },
   "outputs": [],
   "source": [
    "with open(os.getcwd()+'/Recording_data/Mice ROSE chronic/Mouse 12/spike_time_all_5weeks_3', 'rb') as d:\n",
    "     weekly_spike_time_all = pickle.load(d)"
   ]
  },
  {
   "cell_type": "code",
   "execution_count": null,
   "id": "3f5f910b-9e11-4927-b9e5-ba01df2b13ef",
   "metadata": {
    "tags": []
   },
   "outputs": [],
   "source": [
    "with open(os.getcwd()+'/Recording_data/ROSE_Cornell/Mouse3/spike_time_all_ori', 'rb') as d:\n",
    "    spike_time_all = pickle.load(d)"
   ]
  },
  {
   "cell_type": "code",
   "execution_count": null,
   "id": "cdfcf7aa-336b-485e-bf2d-2da6b6f4c998",
   "metadata": {
    "tags": []
   },
   "outputs": [],
   "source": [
    "len(spike_time_all)"
   ]
  },
  {
   "cell_type": "code",
   "execution_count": null,
   "id": "76edbb9a-cc17-4de3-a42d-7e32d94487d2",
   "metadata": {},
   "outputs": [],
   "source": [
    "with open(os.getcwd()+'/Recording_data/Chronic ROSE/SN14/sorted_time', 'rb') as d:\n",
    "    spike_time_all = pickle.load(d)"
   ]
  },
  {
   "cell_type": "code",
   "execution_count": null,
   "id": "4c78a6cb-3949-4355-b771-d02be2eabc6b",
   "metadata": {},
   "outputs": [],
   "source": [
    "with open(os.getcwd()+'/Recording_data/ROSE_Cornell/Mouse3/mean_waveform_all', 'rb') as d:\n",
    "    mean_waveform_all = pickle.load(d)"
   ]
  },
  {
   "cell_type": "code",
   "execution_count": null,
   "id": "ae1ce8fe-1ae7-47a6-8f43-8f6be174c832",
   "metadata": {},
   "outputs": [],
   "source": [
    "with open(os.getcwd()+ '/Recording_data/ROSE_0914/sorted', 'rb') as f:\n",
    "     spike_time_all = pickle.load(f)"
   ]
  },
  {
   "cell_type": "code",
   "execution_count": null,
   "id": "93dc465c-547e-477d-934e-0be382a56228",
   "metadata": {
    "tags": []
   },
   "outputs": [],
   "source": [
    "len(spike_time_all)"
   ]
  },
  {
   "cell_type": "code",
   "execution_count": null,
   "id": "bb94840b-cb59-438a-893f-14d4a2fcfe2b",
   "metadata": {
    "tags": []
   },
   "outputs": [],
   "source": [
    "# Read sorting results\n",
    "with open(os.getcwd()+'/Recording_data/Chronic ROSE/SN24/spike_time_D1-7', 'rb') as f:\n",
    "    spike_time_all = pickle.load(f)\n",
    "with open(os.getcwd()+'/Recording_data/Chronic ROSE/SN24/spike_waveform_D1-7', 'rb') as f:\n",
    "    waveform = pickle.load(f) "
   ]
  },
  {
   "cell_type": "code",
   "execution_count": null,
   "id": "1d219da5-c272-4e80-9cb4-4d0a3b5939a1",
   "metadata": {
    "tags": []
   },
   "outputs": [],
   "source": [
    "len(spike_time_all.keys())"
   ]
  },
  {
   "cell_type": "code",
   "execution_count": null,
   "id": "e87d4700-5d69-48ce-8336-81c9cec7dfde",
   "metadata": {
    "tags": []
   },
   "outputs": [],
   "source": [
    "np.std(df['signal'][df['signal']>40])"
   ]
  },
  {
   "cell_type": "code",
   "execution_count": null,
   "id": "73fd8f66-51d5-4e27-9e31-83158654a64c",
   "metadata": {
    "tags": []
   },
   "outputs": [],
   "source": [
    "np.max(df['firing rate'][df['elec_no'] == 4])"
   ]
  },
  {
   "cell_type": "code",
   "execution_count": null,
   "id": "724df826-9795-44b3-a063-65fc11208e1e",
   "metadata": {
    "tags": []
   },
   "outputs": [],
   "source": [
    "len(combined_spikes[channel][week])"
   ]
  },
  {
   "cell_type": "code",
   "execution_count": null,
   "id": "c415f43d-1ead-4ceb-8848-9a415e4005e7",
   "metadata": {
    "tags": []
   },
   "outputs": [],
   "source": [
    "for n in range(len(counter[channel])):\n",
    "    Length[n] = len(combined_spikes[channel][n])\n",
    "lens = np.cumsum(list(Length.values()))\n",
    "lens = np.insert(lens,0,0)"
   ]
  },
  {
   "cell_type": "code",
   "execution_count": null,
   "id": "16a9f501-5e6f-4c65-ab55-4611816bb257",
   "metadata": {
    "tags": []
   },
   "outputs": [],
   "source": [
    "lens"
   ]
  },
  {
   "cell_type": "code",
   "execution_count": null,
   "id": "7f23f301-f930-4e2f-a3cc-79e7017dcc3a",
   "metadata": {
    "tags": []
   },
   "outputs": [],
   "source": [
    "channel = 43\n",
    "pca = PCA(n_components=3)\n",
    "components = {}\n",
    "aligned_ch = spikes[channel]\n",
    "aligned_std = StandardScaler().fit_transform(aligned_ch)\n",
    "principal_components = pca.fit_transform(aligned_std)\n",
    "\n",
    "clusters = {}\n",
    "\n",
    "colors = {}\n",
    "\n",
    "colors[0] = [209/255,41/255,32/255]\n",
    "colors[1] = [21/255,29/255,41/255]\n",
    "colors[2]=[18/255,80/255,123/255]\n",
    "colors[3] = [250/255,192/255,61/255]\n",
    "colors[4] = 'seagreen'\n",
    "colors[5] = 'purple'\n",
    "colors[6] = 'black'\n",
    "Length = {}\n",
    "\n",
    "\n",
    "for n in range(len(counter[channel])):\n",
    "    Length[n] = len(combined_spikes[channel][n])\n",
    "lens = np.cumsum(list(Length.values()))\n",
    "lens = np.insert(lens,0,0)\n",
    "\n",
    "start_index = 0\n",
    "\n",
    "for n in range(len(counter[channel])):\n",
    "#if principal_components[i,0] > 10:\n",
    "#continue \n",
    "    clusters[n] = ([principal_components[lens[n]:lens[n+1],0],principal_components[lens[n]:lens[n+1],1]])\n",
    "    clusters[n] = np.array(clusters[n]).transpose()\n",
    "    plt.scatter(principal_components[lens[n]:lens[n+1],0],principal_components[lens[n]:lens[n+1],1],s = 5, label=counter[channel][n],color = colors[n])\n",
    "plt.legend()\n",
    "plt.xlim([-30, 30])\n",
    "plt.ylim([-30, 30])\n",
    "\n",
    "#plt.axis('off')"
   ]
  },
  {
   "cell_type": "code",
   "execution_count": null,
   "id": "eb26c5ed-7c41-4a32-a9d2-7f202221ff23",
   "metadata": {
    "tags": []
   },
   "outputs": [],
   "source": [
    "centroid_d1 = np.mean(cluster_d1, axis=0)\n",
    "centroid_d7 = np.mean(cluster_d7, axis=0)"
   ]
  },
  {
   "cell_type": "code",
   "execution_count": null,
   "id": "b25ebcb4-bde5-4be9-86c4-00420e3f7d50",
   "metadata": {
    "tags": []
   },
   "outputs": [],
   "source": [
    "len(np.array(clusters[c1]).transpose())"
   ]
  },
  {
   "cell_type": "code",
   "execution_count": null,
   "id": "7b4ec22d-2d67-467a-8cc9-d45bf7de2ead",
   "metadata": {
    "tags": []
   },
   "outputs": [],
   "source": [
    "from scipy.spatial.distance import mahalanobis\n",
    "from numpy.linalg import inv\n",
    "c1 = 1\n",
    "c2 = 5\n",
    "centroids = {}\n",
    "\n",
    "for n in range(len(counter[channel])):\n",
    "    centroids[n] = np.mean(clusters[n], axis=0)\n",
    "\n",
    "# Step 2: Compute the pooled covariance matrix\n",
    "combined_data = np.vstack((clusters[c1],clusters[c2]))\n",
    "cov_matrix = np.cov(combined_data, rowvar=False)\n",
    "\n",
    "# Step 3: Calculate the Mahalanobis distance between centroids\n",
    "inv_cov_matrix = inv(cov_matrix)\n",
    "distance_between_centroids = mahalanobis(centroids[c1], centroids[c2], inv_cov_matrix)\n",
    "\n",
    "# Step 4: Calculate Mahalanobis distances of all points from their centroids\n",
    "distances_cluster1 = [mahalanobis(point, centroids[c1], inv_cov_matrix) for point in clusters[c1]]\n",
    "distances_cluster2 = [mahalanobis(point, centroids[c2], inv_cov_matrix) for point in clusters[c2]]\n",
    "\n",
    "# Combine distances\n",
    "all_distances = np.array(distances_cluster1 + distances_cluster2)\n",
    "\n",
    "# Step 5: Calculate the mean and standard deviation of Mahalanobis distances\n",
    "mean_distance = np.mean(all_distances)\n",
    "std_distance = np.std(all_distances)\n",
    "\n",
    "# Step 6: Determine how many standard deviations the distance between centroids is\n",
    "num_std_devs = np.abs(distance_between_centroids) / std_distance\n",
    "\n",
    "distance_between_centroids"
   ]
  },
  {
   "cell_type": "code",
   "execution_count": null,
   "id": "7f63bfbf-7a7b-4823-913b-14f9170eefc0",
   "metadata": {
    "tags": []
   },
   "outputs": [],
   "source": [
    "std_distance"
   ]
  },
  {
   "cell_type": "code",
   "execution_count": null,
   "id": "3b227089-c544-4df9-997f-41948a1cc4c0",
   "metadata": {
    "tags": []
   },
   "outputs": [],
   "source": [
    "pca = PCA(n_components=3)\n",
    "components = {}\n",
    "aligned_ch = mean_waveform_all_pre\n",
    "fig, axs = plt.subplots(8, 16, sharex = 'col', sharey = 'row')\n",
    "\n",
    "for channel, unit_id in spike_time_all_pre.keys():\n",
    "  x = 8 - pinmap[channel][1]\n",
    "  y = shank_no[channel] - 1\n",
    "  if len(aligned_ch[channel, unit_id]) < 3:\n",
    "    axs[x][y].set_title(\"s%d\"%(shank_no[channel]) + \"e%d\"%(pinmap[channel][1]))\n",
    "    axs[x][y].set_ylim([-20, 20])\n",
    "    axs[x][y].tick_params(axis='both', which='major', labelsize=10)\n",
    "    continue\n",
    "  aligned_std = StandardScaler().fit_transform(aligned_ch[channel, unit_id])\n",
    "  principal_components = pca.fit_transform(aligned_std)\n",
    "  components[channel,unit_id] = principal_components\n",
    "  axs[x][y].scatter(components[channel,unit_id][:,0], components[channel,unit_id][:,1], s=3, c='black')\n",
    "  axs[x][y].set_title(\"s%d\"%(shank_no[channel]) + \"e%d\"%(pinmap[channel][1]), size = 20)\n",
    "  axs[x][y].set_xlim([-40, 40])\n",
    "  axs[x][y].set_ylim([-40, 40])\n",
    "  axs[x][y].tick_params(axis='both', which='major', labelsize=10)\n",
    "  fig.set_figheight(40)\n",
    "  fig.set_figwidth(60)\n"
   ]
  },
  {
   "cell_type": "code",
   "execution_count": 11,
   "id": "ea098611-f574-4d3f-a6d2-37e827f650e6",
   "metadata": {
    "tags": []
   },
   "outputs": [
    {
     "data": {
      "text/plain": [
       "1440"
      ]
     },
     "execution_count": 11,
     "metadata": {},
     "output_type": "execute_result"
    }
   ],
   "source": [
    "angle_1 = scipy.io.loadmat(os.getcwd()+'/Recording_data/ROSE_Cornell/mouse3_vstim1.mat')['angle_log'][0]\n",
    "angle_2 = scipy.io.loadmat(os.getcwd()+'/Recording_data/ROSE_Cornell/mouse3_vstim2.mat')['angle_log'][0]\n",
    "angle_3 = scipy.io.loadmat(os.getcwd()+'/Recording_data/ROSE_Cornell/mouse3_vstim3.mat')['angle_log'][0]\n",
    "angle = np.concatenate((angle_1,angle_2,angle_3))\n",
    "len(angle)"
   ]
  },
  {
   "cell_type": "code",
   "execution_count": 8,
   "id": "e5199197-3159-45d3-9105-f005d2ceb45a",
   "metadata": {
    "tags": []
   },
   "outputs": [],
   "source": [
    "with open(os.getcwd()+'/Recording_data/ROSE_Cornell/spike_time_all', 'rb') as d:\n",
    "    spike_time_all = pickle.load(d)"
   ]
  },
  {
   "cell_type": "code",
   "execution_count": 302,
   "id": "68f8bc4a-6d5c-4984-9c81-495117508b8f",
   "metadata": {
    "tags": []
   },
   "outputs": [],
   "source": [
    "ref = spike_time_all.copy()"
   ]
  },
  {
   "cell_type": "code",
   "execution_count": 308,
   "id": "64fc6f3e-1342-43c6-8df7-bffe56a82a69",
   "metadata": {
    "tags": []
   },
   "outputs": [],
   "source": [
    "for (ch,unit) in ref.keys():\n",
    "    if elec_no[ch] in [1]:\n",
    "        continue\n",
    "    else:\n",
    "        del spike_time_all[ch,unit]\n"
   ]
  },
  {
   "cell_type": "code",
   "execution_count": 309,
   "id": "3dfb6b17-32e6-4fb8-a0e0-3e364141114a",
   "metadata": {
    "tags": []
   },
   "outputs": [
    {
     "data": {
      "text/plain": [
       "7"
      ]
     },
     "execution_count": 309,
     "metadata": {},
     "output_type": "execute_result"
    }
   ],
   "source": [
    "len(spike_time_all)"
   ]
  },
  {
   "cell_type": "code",
   "execution_count": 21,
   "id": "c522d43c-0e45-40bc-8c55-14f65af7b3b2",
   "metadata": {
    "tags": []
   },
   "outputs": [
    {
     "data": {
      "text/plain": [
       "1440"
      ]
     },
     "execution_count": 21,
     "metadata": {},
     "output_type": "execute_result"
    }
   ],
   "source": [
    "len(onset_time)"
   ]
  },
  {
   "cell_type": "code",
   "execution_count": 310,
   "id": "df90804e-0c46-4604-be98-6a5bca16ac91",
   "metadata": {
    "tags": []
   },
   "outputs": [
    {
     "name": "stderr",
     "output_type": "stream",
     "text": [
      "1440it [00:22, 64.52it/s]\n",
      "100%|██████████| 1440/1440 [00:00<00:00, 1439417.96it/s]\n"
     ]
    },
    {
     "data": {
      "text/plain": [
       "85789"
      ]
     },
     "execution_count": 310,
     "metadata": {},
     "output_type": "execute_result"
    }
   ],
   "source": [
    "import torch\n",
    "import numpy as np\n",
    "from collections import defaultdict\n",
    "from tqdm import tqdm\n",
    "\n",
    "# Check if CUDA is available and set the device\n",
    "device = torch.device(\"cuda\" if torch.cuda.is_available() else \"cpu\")\n",
    "\n",
    "fs = 20000\n",
    "single_trial_spike = defaultdict(list)\n",
    "bin_width = 0.5\n",
    "length = 1\n",
    "bin_count = int(length / bin_width)\n",
    "direction_labels = defaultdict(list)\n",
    "all_trial_spike = []\n",
    "angles = []\n",
    "\n",
    "spike_time_all_tensors = {(ch, unit): torch.tensor(times).to(device) for (ch, unit), times in spike_time_all.items()}\n",
    "\n",
    "for idx, t in tqdm(enumerate(onset_time)):\n",
    "    t_start = t + 0.05\n",
    "    for n in range(bin_count):\n",
    "        single_bin_spike = []\n",
    "        for (ch, unit) in spike_time_all_tensors.keys():\n",
    "            train = spike_time_all_tensors[ch, unit]\n",
    "            bin_start = int(t_start * fs + n * bin_width * fs)\n",
    "            bin_end = int(t_start * fs + (n + 1) * bin_width * fs)\n",
    "            single_bin_spike.append(((bin_start <= train) & (train <= bin_end)).sum().item())\n",
    "        single_trial_spike[idx].append(single_bin_spike)\n",
    "        direction_labels[idx].append(int(angle[idx]/15))\n",
    "\n",
    "for idx in tqdm(range(len(onset_time))):\n",
    "    all_trial_spike.append(single_trial_spike[idx])\n",
    "    angles.append(direction_labels[idx])\n",
    "\n",
    "neural_data = np.vstack(all_trial_spike)\n",
    "directions = np.hstack(angles)\n",
    "scaler = StandardScaler()\n",
    "neural_data = scaler.fit_transform(neural_data)\n",
    "gc.collect()"
   ]
  },
  {
   "cell_type": "code",
   "execution_count": 311,
   "id": "b76f358f-a5de-4bed-a753-1e15e30e8767",
   "metadata": {
    "tags": []
   },
   "outputs": [
    {
     "data": {
      "text/plain": [
       "(2880, 7)"
      ]
     },
     "execution_count": 311,
     "metadata": {},
     "output_type": "execute_result"
    }
   ],
   "source": [
    "neural_data.shape"
   ]
  },
  {
   "cell_type": "code",
   "execution_count": 25,
   "id": "907049cb-4468-49bb-aedb-615ca67ac094",
   "metadata": {
    "tags": []
   },
   "outputs": [],
   "source": [
    "def set_pane_axis(ax):\n",
    "    ax.xaxis.set_pane_color((1.0, 1.0, 1.0, 0.0))\n",
    "    ax.yaxis.set_pane_color((1.0, 1.0, 1.0, 0.0))\n",
    "    ax.zaxis.set_pane_color((1.0, 1.0, 1.0, 0.0))\n",
    "    ax.xaxis._axinfo[\"grid\"][\"color\"] = (1, 1, 1, 0)\n",
    "    ax.yaxis._axinfo[\"grid\"][\"color\"] = (1, 1, 1, 0)\n",
    "    ax.zaxis._axinfo[\"grid\"][\"color\"] = (1, 1, 1, 0)\n",
    "    ax.xaxis.set_ticks([])\n",
    "    ax.yaxis.set_ticks([])\n",
    "    ax.zaxis.set_ticks([])"
   ]
  },
  {
   "cell_type": "code",
   "execution_count": null,
   "id": "453c6d45-8695-4a01-b349-26f797825306",
   "metadata": {
    "tags": []
   },
   "outputs": [
    {
     "name": "stderr",
     "output_type": "stream",
     "text": [
      "pos: -1.2749 neg:  6.7205 total:  5.4456 temperature:  0.6000: 100%|██████████| 8000/8000 [01:41<00:00, 79.17it/s]\n",
      "pos: -1.1989 neg:  6.7567 total:  5.5578 temperature:  0.6000: 100%|██████████| 8000/8000 [01:39<00:00, 80.28it/s]\n",
      "pos: -1.1706 neg:  6.7269 total:  5.5563 temperature:  0.6000:  86%|████████▌ | 6863/8000 [01:26<00:14, 77.80it/s]"
     ]
    }
   ],
   "source": [
    "cebra_pos_model = CEBRA(model_architecture='offset10-model',\n",
    "                        batch_size = 512,\n",
    "                        learning_rate=0.0001,\n",
    "                        temperature = 0.6,                        \n",
    "                        output_dimension = 8,\n",
    "                        max_iterations = 8000,\n",
    "                        distance='cosine',\n",
    "                        conditional='time_delta',\n",
    "                        device='cuda_if_available',\n",
    "                        verbose=True,\n",
    "                        time_offsets=10)\n",
    "\n",
    "model = {}\n",
    "embedding_train = {}\n",
    "embedding_test = {}\n",
    "label_test = {}\n",
    "label_train = {}\n",
    "selected_idx = {}\n",
    "\n",
    "for seed in range(10):\n",
    "    train_mask = np.ones(neural_data.shape[0], dtype=bool)\n",
    "    test_size = 0.15\n",
    "    test_number = int(len(angle)/24*test_size)\n",
    "    selected_idx[seed] =  np.random.choice(np.arange(51))\n",
    "    test_start = (selected_idx[seed])*24*bin_count\n",
    "    test_end = (selected_idx[seed] + test_number)*24*bin_count\n",
    "    test_indices = np.arange(test_start,test_end)\n",
    "    train_mask[test_indices] = False\n",
    "    neural_train = neural_data[train_mask]\n",
    "    label_train[seed] = np.array(directions)[train_mask]\n",
    "    neural_test = neural_data[~train_mask]\n",
    "    label_test[seed] = np.array(directions)[~train_mask]\n",
    "    model[seed] = cebra_pos_model.fit(neural_train, label_train[seed])\n",
    "    embedding_train[seed] =  model[seed].transform(neural_train)\n",
    "    embedding_test[seed] =  model[seed].transform(neural_test)\n",
    "print('training done!')\n",
    "gc.collect()"
   ]
  },
  {
   "cell_type": "code",
   "execution_count": null,
   "id": "ea137b16-b0fa-4e1a-88dd-dedb36ea9f80",
   "metadata": {
    "tags": []
   },
   "outputs": [],
   "source": [
    "paired_colors = [\n",
    "    '#A6CEE3', '#1F78B4', '#B2DF8A', '#33A02C', '#FB9A99', '#E31A1C',\n",
    "    '#FDBF6F', '#FF7F00', '#CAB2D6', '#6A3D9A', '#FFFF99', '#B15928',\n",
    "    '#A6CEE3', '#1F78B4', '#B2DF8A', '#33A02C', '#FB9A99', '#E31A1C',\n",
    "    '#FDBF6F', '#FF7F00', '#CAB2D6', '#6A3D9A', '#FFFF99', '#B15928',    \n",
    "]"
   ]
  },
  {
   "cell_type": "code",
   "execution_count": 27,
   "id": "5c62bc8b-7028-4659-84b5-c755b0ec05f3",
   "metadata": {
    "tags": []
   },
   "outputs": [],
   "source": [
    "paired_colors = [\n",
    "    [221/255,51/255,51/255], [228/255,104/255,44/255], [233/255, 194/255, 39/255], [227/255, 237/255, 35/255], [181/255, 224/255,48/255], [83/255, 225/255, 47/255],\n",
    "    [67/255, 205/255, 147/255], [82/255, 171/255, 190/255], [85/255, 126/255, 223/255], [65/255, 68/255, 199/255], [135/255, 71/255, 192/255], [184/255, 80/255, 153/255],\n",
    " [221/255,51/255,51/255], [228/255,104/255,44/255], [233/255, 194/255, 39/255], [227/255, 237/255, 35/255], [181/255, 224/255,48/255], [83/255, 225/255, 47/255],\n",
    "    [67/255, 205/255, 147/255], [82/255, 171/255, 190/255], [85/255, 126/255, 223/255], [65/255, 68/255, 199/255], [135/255, 71/255, 192/255], [184/255, 80/255, 153/255],\n",
    "]"
   ]
  },
  {
   "cell_type": "code",
   "execution_count": null,
   "id": "eea7f90f-3460-4b41-b6e5-5d87f78b3d2a",
   "metadata": {
    "tags": []
   },
   "outputs": [],
   "source": [
    "#embedding_train = {}\n",
    "#embedding_test = {}"
   ]
  },
  {
   "cell_type": "code",
   "execution_count": 323,
   "id": "54e94049-7c1b-4657-bde3-15f52c111453",
   "metadata": {
    "tags": []
   },
   "outputs": [
    {
     "data": {
      "image/png": "[encoded data removed]",
      "text/plain": [
       "<Figure size 3000x1500 with 1 Axes>"
      ]
     },
     "metadata": {},
     "output_type": "display_data"
    }
   ],
   "source": [
    "from matplotlib.colors import ListedColormap\n",
    "custom_cmap = ListedColormap(paired_colors)\n",
    "seed = 0\n",
    "fig = plt.figure(figsize=(10, 5), dpi=300)\n",
    "#plt.suptitle('trained with direction label', fontsize=5)\n",
    "#cmap = plt.cm.get_cmap('Paired', 12)\n",
    "ax = plt.subplot(121, projection = '3d')\n",
    "x = ax.scatter(embedding_train[seed][:, 0],\n",
    "               embedding_train[seed][:, 1],\n",
    "               embedding_train[seed][:, 2],\n",
    "               c=label_train[0],\n",
    "               cmap=custom_cmap,\n",
    "               s=0.05,\n",
    "               alpha=1.0,\n",
    "               marker = '*')\n",
    "#cbar = plt.colorbar(x, ax=ax, fraction=0.025, pad=0.02)  \n",
    "#cbar.set_label('angles')  \n",
    "\n",
    "set_pane_axis(ax)\n",
    "ax.view_init(elev=60, azim=45)"
   ]
  },
  {
   "cell_type": "code",
   "execution_count": 324,
   "id": "bd5530b8-fbcf-4fbc-9e11-b0ab1712a407",
   "metadata": {
    "tags": []
   },
   "outputs": [
    {
     "data": {
      "text/plain": [
       "<Axes: xlabel='Steps', ylabel='InfoNCE Loss'>"
      ]
     },
     "execution_count": 324,
     "metadata": {},
     "output_type": "execute_result"
    },
    {
     "data": {
      "image/png": "[encoded data removed]",
      "text/plain": [
       "<Figure size 700x400 with 1 Axes>"
      ]
     },
     "metadata": {},
     "output_type": "display_data"
    }
   ],
   "source": [
    "cebra.plot_loss(cebra_pos_model)"
   ]
  },
  {
   "cell_type": "code",
   "execution_count": 325,
   "id": "045e2563-6a71-4315-8ac8-9e85538a9637",
   "metadata": {
    "tags": []
   },
   "outputs": [],
   "source": [
    "score = []\n",
    "from sklearn.model_selection import cross_val_score\n",
    "decoder = {}\n",
    "cv_scores = {}\n",
    "dir_pred = {}\n",
    "acc_score = {}\n",
    "for seed in range(10):\n",
    "    decoder[seed] = KNeighborsClassifier(n_neighbors=10, metric=\"cosine\")\n",
    "    decoder[seed].fit(embedding_train[seed], label_train[0])\n",
    "    cv_scores[seed] = cross_val_score(decoder[seed],embedding_train[seed], label_train[0], cv=10)\n",
    "    dir_pred[seed] = decoder[seed].predict(embedding_test[seed])"
   ]
  },
  {
   "cell_type": "code",
   "execution_count": 326,
   "id": "7c19c357-54b6-4f19-ba56-952b87a92abf",
   "metadata": {
    "tags": []
   },
   "outputs": [
    {
     "data": {
      "text/plain": [
       "{0: 0.4675925925925926,\n",
       " 1: 0.5138888888888888,\n",
       " 2: 0.48842592592592593,\n",
       " 3: 0.5462962962962963,\n",
       " 4: 0.41898148148148145,\n",
       " 5: 0.5300925925925926,\n",
       " 6: 0.4444444444444444,\n",
       " 7: 0.5370370370370371,\n",
       " 8: 0.5092592592592593,\n",
       " 9: 0.39351851851851855}"
      ]
     },
     "execution_count": 326,
     "metadata": {},
     "output_type": "execute_result"
    }
   ],
   "source": [
    "res_15 = {}\n",
    "for seed in range(10):\n",
    "    a1 = len(label_test[seed][np.abs(dir_pred[seed] - label_test[seed])%12 <= 1])\n",
    "    a2 = len(label_test[seed][np.abs(dir_pred[seed] - label_test[seed])%12 == 10])\n",
    "    a3 = len(label_test[seed][np.abs(dir_pred[seed] - label_test[seed])%12 == 11])\n",
    "    res_15[seed] = (a1+a3)/len(label_test[seed])\n",
    "res_15"
   ]
  },
  {
   "cell_type": "code",
   "execution_count": 55,
   "id": "8c3d5679-443d-49a2-b05f-c5514b8b9e5d",
   "metadata": {
    "tags": []
   },
   "outputs": [
    {
     "data": {
      "text/plain": [
       "432"
      ]
     },
     "execution_count": 55,
     "metadata": {},
     "output_type": "execute_result"
    }
   ],
   "source": [
    "len(label_test[0])"
   ]
  },
  {
   "cell_type": "code",
   "execution_count": 330,
   "id": "61d3e119-5984-4adf-ba8a-4b4526e794fc",
   "metadata": {
    "tags": []
   },
   "outputs": [
    {
     "data": {
      "text/plain": [
       "{0: 0.23148148148148148,\n",
       " 1: 0.2569444444444444,\n",
       " 2: 0.22685185185185186,\n",
       " 3: 0.2175925925925926,\n",
       " 4: 0.1875,\n",
       " 5: 0.25462962962962965,\n",
       " 6: 0.18518518518518517,\n",
       " 7: 0.2337962962962963,\n",
       " 8: 0.25462962962962965,\n",
       " 9: 0.18055555555555555}"
      ]
     },
     "execution_count": 330,
     "metadata": {},
     "output_type": "execute_result"
    }
   ],
   "source": [
    "res_0 = {}\n",
    "for seed in range(10):\n",
    "    a1 = len(label_test[seed][np.abs(dir_pred[seed] - label_test[seed])%12 == 0])\n",
    "    #a3 = len(label_test[0][np.abs(dir_pred[seed] - label_test[0])%12 == 11])\n",
    "    res_0[seed] = (a1)/len(label_test[seed])\n",
    "res_0"
   ]
  },
  {
   "cell_type": "code",
   "execution_count": 116,
   "id": "e45fae02-496d-4b08-a155-14a684c5e00d",
   "metadata": {
    "tags": []
   },
   "outputs": [
    {
     "data": {
      "text/plain": [
       "{0: 35, 1: 35, 2: 35}"
      ]
     },
     "execution_count": 116,
     "metadata": {},
     "output_type": "execute_result"
    }
   ],
   "source": [
    "selected_idx"
   ]
  },
  {
   "cell_type": "code",
   "execution_count": 138,
   "id": "4c011886-a292-4807-9150-0916e5717d3b",
   "metadata": {
    "tags": []
   },
   "outputs": [
    {
     "name": "stdout",
     "output_type": "stream",
     "text": [
      "Key: 0, Value: 0.6377314814814815\n"
     ]
    }
   ],
   "source": [
    "sorted_items = sorted(res_15.items(), key=lambda item: item[1])\n",
    "\n",
    "# Display the sorted values and their corresponding keys\n",
    "for key, value in sorted_items:\n",
    "    print(f\"Key: {key}, Value: {value}\")\n"
   ]
  },
  {
   "cell_type": "code",
   "execution_count": 331,
   "id": "450cddec-41fe-4fe7-925e-460b521e0548",
   "metadata": {
    "collapsed": true,
    "jupyter": {
     "outputs_hidden": true
    },
    "tags": []
   },
   "outputs": [
    {
     "data": {
      "text/plain": [
       "{(0,\n",
       "  0): array([16, 10,  0, 21,  5,  4,  5,  5, 21,  9,  4, 10, 20, 12,  4, 17, 16,\n",
       "        14]),\n",
       " (0,\n",
       "  1): array([ 8,  8, 13, 12,  7, 19,  6,  8, 20, 23, 12, 13, 14,  3, 14,  2, 13,\n",
       "         2]),\n",
       " (0,\n",
       "  2): array([12, 12,  3,  3,  2,  1,  2, 20, 15,  4,  3,  4, 12, 11, 19,  8,  3,\n",
       "        14]),\n",
       " (0,\n",
       "  3): array([ 5,  5,  4, 17, 15, 15,  3,  3, 12,  6,  2, 15,  4,  3,  2,  2,  3,\n",
       "         3]),\n",
       " (0,\n",
       "  4): array([14, 14, 22, 10, 22, 21,  5,  5,  3,  3,  4,  4, 16, 16,  3, 15, 15,\n",
       "         4]),\n",
       " (0,\n",
       "  5): array([17, 17,  9, 22, 17,  4,  4,  4,  4, 16,  5,  5,  4,  4,  4,  4, 17,\n",
       "         6]),\n",
       " (0,\n",
       "  6): array([ 6,  9,  3,  3, 10, 23,  3,  3,  5, 17, 22, 23, 15, 16, 23, 18, 20,\n",
       "        19]),\n",
       " (0,\n",
       "  7): array([ 0,  0,  5, 17,  6,  6, 12, 13, 19,  8,  2, 14,  2, 15,  3,  2,  2,\n",
       "         2]),\n",
       " (0,\n",
       "  8): array([ 5,  5,  0,  7,  8,  5, 16,  5, 20, 21,  2, 16, 10,  5, 16,  4,  4,\n",
       "        14]),\n",
       " (0,\n",
       "  9): array([ 5, 10,  5,  5,  9, 21,  9, 10, 22, 10, 21, 21, 23, 22,  4,  5, 12,\n",
       "         4]),\n",
       " (0,\n",
       "  10): array([22, 10, 22, 10, 10, 22, 10, 10,  4, 10, 10, 22, 10,  0, 23,  9, 21,\n",
       "        10]),\n",
       " (0,\n",
       "  11): array([16, 21, 20,  7, 21,  0, 21,  9, 22, 11, 13, 13, 17, 16, 17,  5, 10,\n",
       "        22]),\n",
       " (0,\n",
       "  12): array([12, 11, 20, 19,  0,  0,  2,  3,  4, 16, 10, 10, 17,  4,  0, 11,  2,\n",
       "         3]),\n",
       " (0,\n",
       "  13): array([13, 12, 12, 12, 11,  2, 15, 17,  3,  3, 20, 12,  0,  2, 14, 12,  8,\n",
       "         8]),\n",
       " (0,\n",
       "  14): array([12, 12,  2, 15,  2,  1,  8,  8,  5,  4, 18, 15,  4,  4,  5,  4, 13,\n",
       "        14]),\n",
       " (0,\n",
       "  15): array([ 9, 20,  4, 15, 12, 15,  3,  3,  5,  5, 13, 14,  1,  1,  1,  2,  3,\n",
       "         3]),\n",
       " (0,\n",
       "  16): array([ 4,  4,  2, 14, 22, 17, 16,  4,  5, 11,  4, 16,  4,  4,  4, 16,  5,\n",
       "         4]),\n",
       " (0,\n",
       "  17): array([15,  0,  5, 23,  5, 23,  4,  4, 15,  1, 17, 17,  5,  4,  4,  5, 10,\n",
       "        22]),\n",
       " (0,\n",
       "  18): array([10, 21,  3,  3,  4, 17, 10, 21,  5,  4, 10,  0,  5, 10,  8,  2,  5,\n",
       "         9]),\n",
       " (0,\n",
       "  19): array([ 6,  8, 21,  8,  9,  7,  4, 22, 22,  4,  6,  8, 14, 14,  1, 14,  2,\n",
       "        13]),\n",
       " (0,\n",
       "  20): array([ 0, 20,  8,  8,  8,  4,  0,  1,  0, 11, 20,  9,  7,  8,  0,  0, 14,\n",
       "        12]),\n",
       " (0,\n",
       "  21): array([16,  4,  8, 19, 15,  6, 10, 21, 12, 12, 23,  0, 11, 14, 21, 21,  1,\n",
       "         8]),\n",
       " (0,\n",
       "  22): array([21,  9, 10,  5, 10, 16, 16, 16, 22, 21, 10,  5, 10, 16,  5,  5, 23,\n",
       "        22]),\n",
       " (0,\n",
       "  23): array([23, 10,  0, 21, 22, 23, 15,  5,  4,  4,  4, 16,  5, 10, 10,  5,  5,\n",
       "         5]),\n",
       " (1,\n",
       "  0): array([12,  7,  4, 17,  4,  1,  2, 14,  2,  3,  5,  4, 15,  1, 18,  4,  7,\n",
       "         3]),\n",
       " (1,\n",
       "  1): array([ 8,  2,  0,  0, 11,  0,  4, 15, 16,  5,  4, 11, 10, 22, 13, 13, 21,\n",
       "        21]),\n",
       " (1,\n",
       "  2): array([22, 10,  2,  2, 23, 14, 15,  8, 21, 21, 16, 17,  0,  0, 23, 22,  2,\n",
       "         2]),\n",
       " (1,\n",
       "  3): array([10, 22, 10, 23, 16, 16,  5, 10, 15, 16, 16, 16, 15, 15, 17, 17, 17,\n",
       "        10]),\n",
       " (1,\n",
       "  4): array([ 5,  5,  7,  2, 21,  6,  3, 15,  3,  2,  7, 19,  6, 11, 11, 11,  8,\n",
       "         8]),\n",
       " (1,\n",
       "  5): array([17,  4, 23, 18,  8,  3, 21, 11, 16,  4, 23, 17, 21, 10, 18,  6,  4,\n",
       "         4]),\n",
       " (1,\n",
       "  6): array([21, 11,  4, 16, 23, 10, 11, 17,  8,  8,  1,  1, 14, 13, 19, 20,  0,\n",
       "        21]),\n",
       " (1,\n",
       "  7): array([ 5,  4, 21, 18,  4,  4,  9, 23,  6, 15, 10, 10, 11, 22,  5,  4, 10,\n",
       "        22]),\n",
       " (1,\n",
       "  8): array([20, 20,  9,  9, 20, 20, 19,  8,  9,  9,  1,  2, 16,  5, 22, 10,  1,\n",
       "         7]),\n",
       " (1,\n",
       "  9): array([ 9,  5, 16,  5, 22, 10,  5, 23,  6, 17,  6,  6,  0, 14, 10,  3, 17,\n",
       "        17]),\n",
       " (1,\n",
       "  10): array([11, 12,  5,  5, 21,  9, 13,  2, 21, 11, 13, 12,  6, 17, 12, 12,  4,\n",
       "         4]),\n",
       " (1,\n",
       "  11): array([ 6,  9, 10, 10,  5, 22, 10, 12, 11, 12, 16,  4,  0,  0, 21,  6,  2,\n",
       "         7]),\n",
       " (1,\n",
       "  12): array([21,  9, 22, 10, 10, 10,  5, 12, 13, 13,  5, 16, 20, 21, 17,  4,  5,\n",
       "         5]),\n",
       " (1,\n",
       "  13): array([10,  5, 12, 13,  8,  8, 13, 12, 13, 13, 22, 22,  0,  8,  8, 17,  6,\n",
       "        16]),\n",
       " (1,\n",
       "  14): array([20, 20,  1,  7, 12, 12,  1, 18, 15,  3,  6, 16,  7,  3, 22,  4, 22,\n",
       "        22]),\n",
       " (1,\n",
       "  15): array([ 7, 13,  2, 13, 11,  7, 10, 10, 12, 23, 22, 11,  5,  4,  2, 13,  7,\n",
       "        21]),\n",
       " (1,\n",
       "  16): array([ 6, 18,  6, 21, 10,  5, 14,  8,  9,  9, 21, 21,  4, 10,  4,  4, 15,\n",
       "        15]),\n",
       " (1,\n",
       "  17): array([19,  8, 10, 22,  3, 15, 11,  0, 12, 18, 17, 11,  5, 17,  5, 17,  8,\n",
       "         8]),\n",
       " (1,\n",
       "  18): array([14,  1, 11, 12,  8,  8,  6, 22, 13,  8, 13, 15, 10,  6,  2,  0, 10,\n",
       "         5]),\n",
       " (1,\n",
       "  19): array([21,  6, 22, 17, 17, 16, 17, 10, 23, 16, 12, 16,  5,  5,  4,  4, 22,\n",
       "         5]),\n",
       " (1,\n",
       "  20): array([ 5,  5,  5,  5, 20, 12,  3,  3, 12, 12,  1, 15, 13, 13, 23, 10,  5,\n",
       "         5]),\n",
       " (1,\n",
       "  21): array([ 0,  7,  9, 15, 19,  1, 14,  1,  2,  2, 10, 17, 15,  4, 10, 23, 12,\n",
       "         1]),\n",
       " (1,\n",
       "  22): array([20, 20, 10, 10,  1,  2, 16, 23, 16, 16,  3, 15, 10, 10,  3,  1, 23,\n",
       "        17]),\n",
       " (1,\n",
       "  23): array([22, 22, 16,  5,  8, 19, 10, 10,  1, 19, 20,  7,  8, 19, 17,  2,  3,\n",
       "         3]),\n",
       " (2,\n",
       "  0): array([ 1, 14,  5, 17,  3, 12,  4,  5,  9, 19, 22, 23, 21, 21,  4,  4, 20,\n",
       "         0]),\n",
       " (2,\n",
       "  1): array([11,  1, 17,  0, 22,  9,  5,  5,  5,  5,  0,  2, 13,  7, 16,  5, 10,\n",
       "         8]),\n",
       " (2,\n",
       "  2): array([19,  0, 14,  0,  4,  4, 22, 17,  4,  3, 17,  4, 12, 12, 11,  8, 13,\n",
       "         8]),\n",
       " (2,\n",
       "  3): array([ 1, 14,  4,  5,  2, 13,  4,  4,  5, 22,  4, 14, 21,  4,  0,  7,  1,\n",
       "         1]),\n",
       " (2,\n",
       "  4): array([ 3,  3,  8, 14, 15,  4, 10, 11,  3,  6,  8,  8,  1,  3, 13,  7,  0,\n",
       "         4]),\n",
       " (2,\n",
       "  5): array([ 9, 22, 10, 13, 19, 19,  1,  2,  4, 18, 11,  1,  3, 14,  5,  4, 17,\n",
       "        23]),\n",
       " (2,\n",
       "  6): array([ 9,  0,  2,  1,  1, 14,  1,  5,  3, 16,  8,  0, 10,  0, 14,  3, 11,\n",
       "        20]),\n",
       " (2,\n",
       "  7): array([ 6, 22, 15, 14, 11, 12,  1,  1, 22, 22, 11, 10,  1,  1, 10,  5, 16,\n",
       "        17]),\n",
       " (2,\n",
       "  8): array([ 6, 21, 14, 15,  0,  0,  5, 18,  8, 20,  1,  1,  2,  3, 19, 21, 10,\n",
       "        11]),\n",
       " (2,\n",
       "  9): array([ 7, 16,  6, 21, 14, 14,  5,  4, 11,  9,  0, 19,  1,  7,  4,  4,  3,\n",
       "         4]),\n",
       " (2,\n",
       "  10): array([ 5,  5, 20,  0, 10, 17, 15,  2,  6,  9,  4,  4,  4, 21, 17,  4, 10,\n",
       "         3]),\n",
       " (2,\n",
       "  11): array([15, 17,  4,  5,  3, 14, 22, 10,  8,  3,  0,  7, 10, 10, 14,  8,  3,\n",
       "        21]),\n",
       " (2,\n",
       "  12): array([ 0,  0,  7,  7,  5,  4,  3,  1, 18, 14, 10,  9,  9,  1,  5, 12, 22,\n",
       "        22]),\n",
       " (2,\n",
       "  13): array([22,  4,  5, 10, 10, 13,  7,  1,  1,  2,  9,  7, 22,  4,  8,  7, 11,\n",
       "         5]),\n",
       " (2,\n",
       "  14): array([18, 23,  4, 10, 10,  2, 12,  6, 22, 22,  8, 21,  0, 10,  9, 11, 18,\n",
       "         4]),\n",
       " (2,\n",
       "  15): array([ 1, 12, 10, 10,  4,  5,  7,  7,  2,  1,  2,  1,  5, 10,  2,  2,  7,\n",
       "         7]),\n",
       " (2,\n",
       "  16): array([10,  4,  4,  4, 21, 22, 10, 22,  4,  4, 18, 10,  7, 12,  5, 10, 22,\n",
       "         0]),\n",
       " (2,\n",
       "  17): array([19,  2, 13,  2, 17,  8,  5,  5,  0,  7,  8,  1,  3,  1, 14, 14,  7,\n",
       "         8]),\n",
       " (2,\n",
       "  18): array([11,  7, 12,  2,  4,  7,  9,  5,  7,  6,  3,  2, 18,  7, 15,  4,  5,\n",
       "        17]),\n",
       " (2,\n",
       "  19): array([15, 12,  2,  0,  4,  5,  5,  4, 21, 15,  4,  5, 12, 13,  4,  4,  4,\n",
       "         4]),\n",
       " (2,\n",
       "  20): array([ 3,  0,  5, 10, 13, 13,  3,  4, 10, 22, 22, 21, 12, 10,  5, 11, 23,\n",
       "        10]),\n",
       " (2,\n",
       "  21): array([ 4,  3, 23, 18,  1,  1, 13, 16,  7,  8,  4,  4, 12,  1,  1,  2,  0,\n",
       "        13]),\n",
       " (2,\n",
       "  22): array([18,  6, 15,  2, 20,  7,  5,  4,  1, 13,  0, 19,  1,  2,  7, 13, 21,\n",
       "        10]),\n",
       " (2,\n",
       "  23): array([12, 20, 12, 12, 11, 21, 10, 19, 21, 22, 11,  7,  4,  4,  3,  3, 23,\n",
       "         0]),\n",
       " (3,\n",
       "  0): array([ 7,  7,  7,  1, 15,  1,  6, 22, 13, 15,  4, 23, 15,  4,  1, 19, 15,\n",
       "         0]),\n",
       " (3,\n",
       "  1): array([ 0, 12,  0,  7,  9, 21,  9,  8, 11, 11, 17,  5, 19,  0, 10, 14,  4,\n",
       "        16]),\n",
       " (3,\n",
       "  2): array([11,  0,  7, 19,  6,  5, 15,  9, 10, 10, 20, 20, 23, 21,  7,  2,  5,\n",
       "         4]),\n",
       " (3,\n",
       "  3): array([10, 16, 14,  2, 16, 16,  7,  2,  5,  5,  2,  1, 18,  5, 14, 14, 13,\n",
       "        13]),\n",
       " (3,\n",
       "  4): array([ 9,  8, 21, 23, 10, 10, 21, 10, 12,  2,  1,  7,  7,  7, 16, 16, 10,\n",
       "         1]),\n",
       " (3,\n",
       "  5): array([ 1,  1, 10, 22, 17,  3,  8,  6,  4,  4, 18,  5,  9, 19, 21, 22, 21,\n",
       "         5]),\n",
       " (3,\n",
       "  6): array([12, 19, 22, 10, 10,  5, 17,  5,  7,  8,  0,  8, 10, 10, 22, 10,  8,\n",
       "        15]),\n",
       " (3,\n",
       "  7): array([ 7, 20, 10, 22,  5,  5, 10, 10, 21,  3,  5, 16, 10, 10,  8,  7,  1,\n",
       "        12]),\n",
       " (3,\n",
       "  8): array([ 8,  7, 16, 10,  5, 15, 13,  2, 20,  0, 10, 10, 11, 12,  0, 11, 16,\n",
       "        18]),\n",
       " (3,\n",
       "  9): array([23, 21, 16, 16, 13, 14,  0, 20,  1, 13,  5, 16, 10, 10,  3,  4, 13,\n",
       "         2]),\n",
       " (3,\n",
       "  10): array([18,  1, 16,  4,  5, 10, 21, 19, 11,  0,  2,  1, 16, 23,  9, 10,  9,\n",
       "         0]),\n",
       " (3,\n",
       "  11): array([23, 21, 11, 21,  2,  1,  2, 14, 19, 12, 19,  1,  9,  8,  5,  5, 19,\n",
       "         7]),\n",
       " (3,\n",
       "  12): array([ 1,  0, 12, 12,  8, 18,  7,  9, 19, 19,  7,  7,  5, 12,  4, 16, 10,\n",
       "         6]),\n",
       " (3,\n",
       "  13): array([14, 14, 19,  2, 10,  9,  8,  8, 12,  1, 16,  5, 17,  5, 12, 14,  5,\n",
       "         5]),\n",
       " (3,\n",
       "  14): array([ 4, 17, 12,  2, 12, 12, 16,  8,  9, 11, 16,  5, 17, 19, 14, 12, 18,\n",
       "        11]),\n",
       " (3,\n",
       "  15): array([ 3, 14,  7, 20,  3, 17,  4, 17,  2,  2,  3, 22, 19, 19,  6, 10,  7,\n",
       "         7]),\n",
       " (3,\n",
       "  16): array([ 1, 11,  7,  0,  5, 16,  7, 21,  5, 16,  7, 13,  9,  6, 14, 12, 23,\n",
       "         5]),\n",
       " (3,\n",
       "  17): array([23, 16, 21, 10,  7, 12, 22,  6,  6,  9,  8, 15,  8, 21,  4, 23,  1,\n",
       "        14]),\n",
       " (3,\n",
       "  18): array([ 6, 21,  8,  8,  2,  5,  4, 16,  1,  2, 13,  1, 12, 13, 15, 12,  3,\n",
       "         5]),\n",
       " (3,\n",
       "  19): array([10, 10,  1, 13, 19,  2,  2,  7,  8,  0,  8,  7,  4, 16,  3,  3, 14,\n",
       "         1]),\n",
       " (3,\n",
       "  20): array([ 4,  4,  3, 14,  2, 19, 10,  6,  4, 10, 10, 10,  3, 16,  9, 14,  4,\n",
       "        17]),\n",
       " (3,\n",
       "  21): array([19, 14,  7,  3, 19,  7, 22, 10, 19,  2,  7,  3, 17,  4,  9, 19, 19,\n",
       "        10]),\n",
       " (3,\n",
       "  22): array([17, 23,  3, 14, 15,  4,  5,  9, 16, 16,  6, 22,  1, 13,  9,  4,  8,\n",
       "        19]),\n",
       " (3,\n",
       "  23): array([ 7,  7, 19,  7, 12,  7,  3, 15, 10, 23, 19,  7, 12,  0, 19,  0,  8,\n",
       "         7]),\n",
       " (4,\n",
       "  0): array([18, 16, 11, 14, 13,  1,  3,  9,  8, 21,  8,  8,  0,  5,  0, 19,  6,\n",
       "        21]),\n",
       " (4,\n",
       "  1): array([14,  3,  3,  8,  1, 21,  9, 21, 20,  7, 22, 20,  0, 11, 12, 12, 23,\n",
       "        12]),\n",
       " (4,\n",
       "  2): array([13, 13,  5,  3, 13, 13,  3,  2,  4,  4,  8,  8, 19,  4,  0,  6,  4,\n",
       "        22]),\n",
       " (4,\n",
       "  3): array([ 7,  7,  6,  2,  3,  5,  0,  2, 22,  9,  7, 19,  1,  6,  2,  2,  2,\n",
       "        15]),\n",
       " (4,\n",
       "  4): array([ 3,  4,  8, 23,  8,  9,  4,  8,  2,  8, 10, 16,  4, 22,  9, 22,  7,\n",
       "        18]),\n",
       " (4,\n",
       "  5): array([ 5,  3,  1,  0,  2, 13,  2,  5, 13, 11,  5,  3,  2,  3,  2,  8,  4,\n",
       "         4]),\n",
       " (4,\n",
       "  6): array([ 0,  9, 18, 19,  0,  2,  5,  2,  3,  3, 13,  2,  8,  7,  0, 10,  8,\n",
       "        22]),\n",
       " (4,\n",
       "  7): array([ 5, 23, 16,  9, 21,  6, 14,  2, 20,  3,  5, 10, 14, 20, 12,  2, 19,\n",
       "        19]),\n",
       " (4,\n",
       "  8): array([19, 19, 21, 12,  6, 19, 10,  2,  1,  2,  5,  6,  2, 18,  3, 15, 14,\n",
       "        19]),\n",
       " (4,\n",
       "  9): array([13,  2,  9, 21, 21, 21,  8,  8,  5,  5,  3, 19,  2, 19,  1,  1,  7,\n",
       "         1]),\n",
       " (4,\n",
       "  10): array([ 4, 14, 14,  2, 13, 12, 19, 14, 13, 14, 10, 22,  3,  2,  4,  3,  5,\n",
       "        19]),\n",
       " (4,\n",
       "  11): array([ 8,  9,  1, 14,  8,  2,  7,  4,  2,  2,  3,  3,  3, 19,  0, 10,  3,\n",
       "        19]),\n",
       " (4,\n",
       "  12): array([ 7, 10,  1, 13,  1, 10, 22, 22,  9, 12,  9, 22,  7, 21,  5,  5,  3,\n",
       "        21]),\n",
       " (4,\n",
       "  13): array([13,  1,  2, 19,  5,  8,  1,  2,  8,  3, 11, 22, 14, 17, 20,  3,  3,\n",
       "         9]),\n",
       " (4,\n",
       "  14): array([ 1,  1,  2, 12,  0, 11, 12,  8, 19,  9,  6,  9, 13,  1,  4, 11,  3,\n",
       "         8]),\n",
       " (4,\n",
       "  15): array([21, 18,  1, 19, 11,  1, 19, 19, 17,  4,  8, 16, 10,  0, 22,  5,  3,\n",
       "        22]),\n",
       " (4,\n",
       "  16): array([ 9, 15,  9, 17,  0,  5, 18,  2,  2,  0, 14, 13,  0,  7, 23,  9,  2,\n",
       "         2]),\n",
       " (4,\n",
       "  17): array([ 2,  2, 22, 21,  2,  4, 10,  4, 21,  4,  4,  2,  1,  2, 10, 22, 15,\n",
       "         3]),\n",
       " (4,\n",
       "  18): array([ 8,  8, 14,  0, 14, 19, 18, 18,  1,  4,  0, 20,  8,  3,  1, 22,  7,\n",
       "        21]),\n",
       " (4,\n",
       "  19): array([13,  1, 16, 21,  3, 19,  0, 20,  6,  5,  2,  2, 15, 19,  6,  5, 12,\n",
       "         2]),\n",
       " (4,\n",
       "  20): array([ 1,  1,  2,  3, 22,  5, 11, 14,  3,  1,  4, 20,  8, 19,  8, 20,  0,\n",
       "        18]),\n",
       " (4,\n",
       "  21): array([ 9,  3,  6,  4, 18, 21, 17,  4,  2,  2,  9, 13, 12,  1,  8,  5,  0,\n",
       "        11]),\n",
       " (4,\n",
       "  22): array([12,  9, 21, 13,  9,  2,  2,  2, 14,  3, 21,  7, 13,  2,  3, 19,  8,\n",
       "        19]),\n",
       " (4,\n",
       "  23): array([16, 17,  2,  4,  9,  9,  5, 12, 23, 21, 13,  1,  8, 15, 22, 23, 21,\n",
       "         3]),\n",
       " (5,\n",
       "  0): array([ 1,  3,  6, 18,  5,  4,  9, 22, 18, 10,  6,  6, 22, 10, 10,  5,  6,\n",
       "         8]),\n",
       " (5,\n",
       "  1): array([10, 12,  1, 13,  3, 14,  3,  3,  0,  1, 16, 17,  3,  3, 19, 19,  2,\n",
       "         1]),\n",
       " (5,\n",
       "  2): array([17,  4, 20, 20,  4,  8, 10, 10, 19,  1, 14,  2, 15, 19, 20, 23,  5,\n",
       "         6]),\n",
       " (5,\n",
       "  3): array([ 7, 13, 19,  0, 16,  4, 22, 22, 18,  8, 21, 21, 11,  5, 10, 23, 21,\n",
       "        10]),\n",
       " (5,\n",
       "  4): array([12,  5,  2,  3, 19,  6, 22, 22, 16,  4,  3, 15, 22,  4, 13,  7, 15,\n",
       "        15]),\n",
       " (5,\n",
       "  5): array([ 6, 10, 10, 22,  5, 15, 10, 11, 10, 17, 13, 13,  2, 13,  0,  6, 13,\n",
       "        13]),\n",
       " (5,\n",
       "  6): array([ 0,  7,  4,  4, 12, 14,  1, 21,  4,  4,  6,  4,  7,  0,  4,  4,  4,\n",
       "         4]),\n",
       " (5,\n",
       "  7): array([12, 12,  0,  3, 16,  3, 11, 18, 21,  4,  0,  7, 12,  2, 11,  7, 12,\n",
       "         7]),\n",
       " (5,\n",
       "  8): array([ 2, 13, 22, 10, 14, 10, 11, 11,  9, 20,  3,  5, 22,  9,  0,  9,  5,\n",
       "        14]),\n",
       " (5,\n",
       "  9): array([ 1, 13,  4, 16, 14, 12,  4, 16,  2, 13, 15,  1,  8,  8,  9,  5, 23,\n",
       "        22]),\n",
       " (5,\n",
       "  10): array([ 0, 13, 14, 13, 16,  4,  4, 16, 12, 13, 16,  5,  8, 10, 17, 17, 11,\n",
       "         9]),\n",
       " (5,\n",
       "  11): array([17,  4,  4, 22,  0, 21, 10,  0,  8,  7, 23, 23, 17,  4, 10, 23, 17,\n",
       "        12]),\n",
       " (5,\n",
       "  12): array([ 3,  6,  8,  1, 17,  5,  2,  2, 10, 10,  3,  2, 10, 16,  2,  1,  1,\n",
       "        13]),\n",
       " (5,\n",
       "  13): array([22,  9,  1, 12,  3,  3,  5,  8,  8,  7,  4,  4, 13, 19, 13,  3, 10,\n",
       "        10]),\n",
       " (5,\n",
       "  14): array([ 2, 14, 10, 21, 21,  6, 21,  7,  9, 23,  7, 10, 16,  4,  4,  9, 13,\n",
       "         3]),\n",
       " (5,\n",
       "  15): array([13,  7,  3,  4,  1, 21, 16,  4, 21,  0, 20,  0, 14,  1,  2,  2, 22,\n",
       "        22]),\n",
       " (5,\n",
       "  16): array([22,  5, 10,  5, 10, 10,  5,  5, 19,  7, 16, 10,  5, 15,  9,  9, 22,\n",
       "         0]),\n",
       " (5,\n",
       "  17): array([ 3,  3,  4, 16, 16,  4,  1,  2, 16,  4,  3, 15,  1, 13,  2,  2, 21,\n",
       "         6]),\n",
       " (5,\n",
       "  18): array([ 2,  1, 14, 14,  1, 19,  2,  3, 17, 12, 19,  7,  7,  8,  4,  5,  7,\n",
       "         7]),\n",
       " (5,\n",
       "  19): array([ 2,  1,  4,  4,  5,  5,  3, 16,  1,  1, 21, 21,  5,  8, 11,  9,  2,\n",
       "         5]),\n",
       " (5,\n",
       "  20): array([10, 23, 14,  2,  5, 23,  7, 14,  7,  8, 11,  0,  1,  2, 10, 21, 11,\n",
       "        23]),\n",
       " (5,\n",
       "  21): array([22, 16, 18,  2,  5,  1,  5,  4,  8,  8, 14,  7,  3, 16, 19,  7, 20,\n",
       "        18]),\n",
       " (5,\n",
       "  22): array([22, 22,  3,  3, 21, 19, 10, 21,  0, 11,  0, 12,  9, 22, 13, 19,  5,\n",
       "        17]),\n",
       " (5,\n",
       "  23): array([ 3,  2, 10, 23,  5,  4,  3, 13, 10,  3, 22, 11,  1, 13,  3,  3, 10,\n",
       "        21]),\n",
       " (6,\n",
       "  0): array([ 9, 23, 22,  5,  2, 14,  6, 15,  2,  4, 13,  7,  5, 17, 18,  7,  7,\n",
       "         6]),\n",
       " (6,\n",
       "  1): array([20, 20, 17, 17, 10, 22,  8,  7,  7,  7, 16,  4, 18, 21,  1, 12, 11,\n",
       "        20]),\n",
       " (6,\n",
       "  2): array([ 6,  5, 16, 11,  3, 18, 16,  5, 12,  8,  6, 15, 22, 17,  5,  5,  0,\n",
       "        17]),\n",
       " (6,\n",
       "  3): array([16,  5, 17,  5,  3,  3, 11, 11,  6, 17,  3, 13,  5,  5,  5, 16, 22,\n",
       "         5]),\n",
       " (6,\n",
       "  4): array([ 3,  3,  2,  3, 11,  1,  5, 22, 11, 14, 17,  4,  6, 21, 22,  5, 12,\n",
       "        12]),\n",
       " (6,\n",
       "  5): array([ 6, 19, 14,  2,  4,  4,  6,  6, 18,  9, 17, 15,  5,  5, 22, 10, 14,\n",
       "        19]),\n",
       " (6,\n",
       "  6): array([10, 10,  3,  3, 10, 10,  7, 13, 22,  4, 19,  7, 15,  3,  5, 16, 10,\n",
       "        22]),\n",
       " (6,\n",
       "  7): array([ 3,  1, 17, 16, 17,  8, 18, 11,  8, 20, 20,  0, 13,  7,  5, 22, 23,\n",
       "         5]),\n",
       " (6,\n",
       "  8): array([ 2,  4, 18,  7,  1, 14, 14, 13,  3,  8,  8,  2, 13,  8, 12,  7, 13,\n",
       "        14]),\n",
       " (6,\n",
       "  9): array([ 3,  3,  1, 19, 10,  5,  2,  2,  2,  1, 13,  1, 12, 18,  4,  5,  0,\n",
       "         0]),\n",
       " (6,\n",
       "  10): array([20, 19,  7, 15,  2, 16,  5, 15, 14,  3,  6, 10,  3, 16,  3, 16, 18,\n",
       "        20]),\n",
       " (6,\n",
       "  11): array([ 5,  4,  3,  2, 16,  4,  5, 17,  5,  8, 20, 20,  5,  5, 15,  3, 14,\n",
       "         3]),\n",
       " (6,\n",
       "  12): array([13,  1, 15, 15, 10, 10, 22,  5,  9, 18, 17, 17, 19,  7, 14,  6, 12,\n",
       "         8]),\n",
       " (6,\n",
       "  13): array([21,  0, 21, 22,  2,  7, 11, 15, 18, 18, 18, 19, 15, 15,  3,  2, 11,\n",
       "        18]),\n",
       " (6,\n",
       "  14): array([ 4, 15, 11, 20,  2,  2,  7, 12, 15,  3,  2, 19, 23, 16,  5, 19, 23,\n",
       "        10]),\n",
       " (6,\n",
       "  15): array([ 4,  2,  3, 13, 22, 23, 10, 10,  0,  7,  1,  2, 10,  9, 16,  4, 23,\n",
       "        17]),\n",
       " (6,\n",
       "  16): array([11,  9,  9,  9, 17,  5, 14, 14, 10, 10, 13,  3, 19, 19, 19, 20,  0,\n",
       "        20]),\n",
       " (6,\n",
       "  17): array([19,  7,  2,  1,  3,  2,  6,  7,  2,  7,  4, 16, 18, 20, 10, 23,  3,\n",
       "        13]),\n",
       " (6,\n",
       "  18): array([13,  3,  8,  3, 13, 13,  5, 17, 17,  2,  3,  3, 12, 10,  2,  1, 10,\n",
       "        18]),\n",
       " (6,\n",
       "  19): array([ 8, 18, 15,  4,  1,  8,  2, 13, 22, 22,  2, 12,  9, 21, 10, 10,  5,\n",
       "         4]),\n",
       " (6,\n",
       "  20): array([ 6,  5, 17, 16,  6,  5,  4,  4,  9, 10, 10, 21,  5, 20, 11, 22, 21,\n",
       "         3]),\n",
       " (6,\n",
       "  21): array([ 1, 14, 11,  9,  5,  5,  6, 23,  7, 12,  6,  9,  6,  7, 13,  1,  2,\n",
       "         6]),\n",
       " (6,\n",
       "  22): array([12,  7,  6,  3,  2,  7,  2, 13, 20,  7, 19, 20, 17, 22,  7,  1, 21,\n",
       "         3]),\n",
       " (6,\n",
       "  23): array([10,  9, 14,  7,  1, 12, 17, 17,  4, 23, 21,  9,  9, 10,  3, 16,  2,\n",
       "        18]),\n",
       " (7,\n",
       "  0): array([17,  4,  8,  7, 20,  1,  7, 20,  1, 13,  3, 15,  2, 13,  3, 13,  7,\n",
       "         1]),\n",
       " (7,\n",
       "  1): array([ 7, 19,  5, 16, 21, 11,  5, 10,  4, 15,  5, 23, 14,  2, 10,  5,  7,\n",
       "        13]),\n",
       " (7,\n",
       "  2): array([15,  3, 17,  0, 10, 23, 20,  7,  2,  2, 18,  4,  0,  4,  4, 10,  3,\n",
       "         3]),\n",
       " (7,\n",
       "  3): array([16, 16,  1, 13,  5, 13, 21,  9,  2, 13, 14, 15,  6, 15, 10, 21,  7,\n",
       "        20]),\n",
       " (7,\n",
       "  4): array([ 8,  8, 22, 22, 19, 13,  6, 15,  0,  4,  2,  2,  1,  2,  4,  5, 22,\n",
       "        11]),\n",
       " (7,\n",
       "  5): array([14,  2, 12,  1,  1, 13, 16,  5, 16,  7,  4, 21, 22,  8, 13,  0, 23,\n",
       "         9]),\n",
       " (7,\n",
       "  6): array([13,  1,  5,  6, 10, 10,  2, 19, 11, 12,  3, 12,  9,  8,  1,  1, 16,\n",
       "         4]),\n",
       " (7,\n",
       "  7): array([ 3,  7,  5,  9, 10, 22,  0, 11, 17, 10,  2,  1, 17, 17,  1,  4,  1,\n",
       "        19]),\n",
       " (7,\n",
       "  8): array([23, 10, 13,  2, 20, 18,  1,  3, 16,  8, 21,  0, 16, 16, 22, 23, 22,\n",
       "        17]),\n",
       " (7,\n",
       "  9): array([ 1, 19, 16,  4, 12, 13,  2,  2, 13, 12,  4,  4, 12,  7,  0, 10,  0,\n",
       "        19]),\n",
       " (7,\n",
       "  10): array([18, 16,  7,  3, 20,  9, 10, 22,  0,  0, 10, 23, 22,  8,  7,  4, 11,\n",
       "        11]),\n",
       " (7,\n",
       "  11): array([17,  5, 16,  4, 11,  0,  3,  1,  3,  3, 15,  2,  7,  1, 10, 14,  0,\n",
       "        22]),\n",
       " (7,\n",
       "  12): array([22, 10, 20, 21,  6, 15,  1,  2, 17,  4,  5,  4,  8,  8, 19, 11, 11,\n",
       "         9]),\n",
       " (7,\n",
       "  13): array([ 8,  8, 14, 15, 10,  5,  7,  1,  8,  8, 15, 20,  9,  9, 13, 13, 20,\n",
       "        19]),\n",
       " (7,\n",
       "  14): array([ 4, 14, 15, 19,  6,  8,  8,  8, 17, 17, 19, 19, 20, 21, 10,  9, 16,\n",
       "        16]),\n",
       " (7,\n",
       "  15): array([12, 19,  9,  0, 17,  5, 14,  7,  9,  9,  3, 15,  5, 10, 17, 10,  9,\n",
       "         5]),\n",
       " (7,\n",
       "  16): array([ 6,  6,  2, 14,  4,  5, 19,  1,  7,  7,  1, 15,  0,  0,  0,  5, 11,\n",
       "         9]),\n",
       " (7,\n",
       "  17): array([10, 22,  1, 19,  0,  9, 17, 16, 10, 10, 21, 10,  1, 14,  7,  3,  1,\n",
       "         9]),\n",
       " (7,\n",
       "  18): array([22, 16,  5, 22, 15,  0,  4, 16,  4, 12,  0, 19, 10, 11,  5, 16, 14,\n",
       "         1]),\n",
       " (7,\n",
       "  19): array([ 2,  6, 19, 22,  7,  2, 23,  4, 11, 23, 22, 22,  2, 15, 15, 13, 17,\n",
       "        23]),\n",
       " (7,\n",
       "  20): array([ 3,  1,  5,  8, 11,  0, 16, 17,  4,  5,  4,  4,  3, 17, 16, 16,  2,\n",
       "         2]),\n",
       " (7,\n",
       "  21): array([ 0, 21, 10, 10, 20, 20,  5, 16, 11, 19, 16,  4,  2, 10, 11, 20, 10,\n",
       "         6]),\n",
       " (7,\n",
       "  22): array([21,  9,  1, 13,  8,  2,  7,  0, 10, 10,  0,  0,  4,  5,  5,  7, 16,\n",
       "        15]),\n",
       " (7,\n",
       "  23): array([ 2, 14, 22, 22, 19, 21, 22, 10,  2,  2,  1, 13, 16,  4, 17,  4,  6,\n",
       "        23]),\n",
       " (8,\n",
       "  0): array([13,  1,  1, 20,  0,  5,  5, 23, 23, 10, 20,  7,  3, 22, 23, 21, 18,\n",
       "         1]),\n",
       " (8,\n",
       "  1): array([10, 10,  2,  2,  3,  3,  3,  3,  9,  3,  5,  4,  3, 15,  0,  0,  1,\n",
       "         1]),\n",
       " (8,\n",
       "  2): array([ 3, 16, 20, 20, 16, 16, 10, 17, 12, 12,  3, 19,  3, 14, 10, 10, 18,\n",
       "         6]),\n",
       " (8,\n",
       "  3): array([ 2, 13, 19,  7, 12,  1, 17, 17, 19, 19,  9, 19,  9,  5,  0,  4, 10,\n",
       "         3]),\n",
       " (8,\n",
       "  4): array([17,  5,  3, 16,  0, 19, 16,  9, 17, 17,  2,  2,  4, 17, 14, 14,  1,\n",
       "        12]),\n",
       " (8,\n",
       "  5): array([ 5,  5,  4, 23,  5,  4,  6, 21,  3, 15, 12,  2,  7, 19,  7,  7, 14,\n",
       "         1]),\n",
       " (8,\n",
       "  6): array([13,  7,  4,  4, 14, 13,  0, 20,  4,  4,  0, 12,  6, 23, 16,  7, 16,\n",
       "         4]),\n",
       " (8,\n",
       "  7): array([ 0,  6, 15,  2,  4, 15,  9,  4,  0,  3, 19, 19, 14,  1, 21, 21, 19,\n",
       "         0]),\n",
       " (8,\n",
       "  8): array([ 8, 17, 10,  5, 10, 23, 11, 20, 18, 21,  5,  2,  2, 22,  6, 18,  2,\n",
       "        14]),\n",
       " (8,\n",
       "  9): array([23,  1,  4, 17, 14,  2,  4, 16, 14,  2, 15, 16, 20,  0, 10, 23, 23,\n",
       "        22]),\n",
       " (8,\n",
       "  10): array([ 2,  7,  2,  3, 15,  4, 16, 17,  1,  2,  6,  7, 23, 10, 16,  4,  9,\n",
       "        10]),\n",
       " (8,\n",
       "  11): array([16,  4, 20, 21,  0, 23, 23,  5,  2,  1,  1, 23,  4, 17, 23, 23,  4,\n",
       "        22]),\n",
       " (8,\n",
       "  12): array([ 6, 20, 11, 12,  3,  3,  3,  3,  5,  0,  7,  8,  4, 17,  3, 15, 14,\n",
       "         2]),\n",
       " (8,\n",
       "  13): array([23, 10,  2, 13,  7, 19,  4,  4, 19, 19, 16, 15,  7,  1, 13,  1, 22,\n",
       "         3]),\n",
       " (8,\n",
       "  14): array([ 1,  2, 10, 21,  9, 18, 19, 20,  4,  0,  7,  6,  4,  0, 10, 11, 14,\n",
       "         2]),\n",
       " (8,\n",
       "  15): array([ 0, 16,  4,  4,  4, 20,  4,  9,  0, 18,  7, 19,  3,  1, 12,  7,  5,\n",
       "        17]),\n",
       " (8,\n",
       "  16): array([ 9,  9, 17, 10,  5, 22,  5,  4, 10,  7, 23,  8, 23, 11, 22, 22, 23,\n",
       "        17]),\n",
       " (8,\n",
       "  17): array([14, 14,  5, 17,  5, 17,  7, 14,  4, 15, 16,  4,  2,  2,  7, 13, 20,\n",
       "        21]),\n",
       " (8,\n",
       "  18): array([ 2,  2,  7, 12,  0, 12, 12,  2, 16, 16,  7,  3,  8,  7, 17,  5,  8,\n",
       "         7]),\n",
       " (8,\n",
       "  19): array([ 1,  3,  0,  4,  6,  3,  4,  4,  2,  1, 12, 20,  3,  3, 10, 20,  7,\n",
       "         7]),\n",
       " (8,\n",
       "  20): array([13,  0, 19,  2, 11, 12,  2,  7, 17,  7,  0, 21, 14,  2, 10, 22, 10,\n",
       "        10]),\n",
       " (8,\n",
       "  21): array([ 4, 23,  7, 12,  2,  2,  9, 20,  0, 10, 16,  8, 16, 17,  8,  5, 20,\n",
       "        21]),\n",
       " (8,\n",
       "  22): array([17, 23,  3, 16, 20,  9, 21, 21, 12,  0,  7,  6,  4,  4, 21, 19, 16,\n",
       "         4]),\n",
       " (8,\n",
       "  23): array([ 3, 14, 22,  0,  7,  4,  3,  3, 13,  9, 23, 22,  1,  7,  3,  4, 10,\n",
       "        21]),\n",
       " (9,\n",
       "  0): array([ 4, 17, 10, 10,  9, 16,  2,  1, 20,  9,  2, 10,  2,  2, 15, 12,  3,\n",
       "         8]),\n",
       " (9,\n",
       "  1): array([ 7,  2, 14,  7,  3,  3, 13, 12, 22,  8, 14, 19,  3,  4,  0,  0,  3,\n",
       "        16]),\n",
       " (9,\n",
       "  2): array([ 9, 21,  1,  1,  2, 13,  5, 16,  3,  3,  3,  9, 21, 13,  2,  7,  0,\n",
       "         0]),\n",
       " (9,\n",
       "  3): array([ 2,  3, 21,  6,  8,  3,  2, 16,  2,  1, 19, 23,  0,  5,  8,  8, 12,\n",
       "        23]),\n",
       " (9,\n",
       "  4): array([21, 19,  1,  8,  2,  8,  6,  7,  1, 16, 17,  5,  2, 12,  8, 12, 10,\n",
       "        19]),\n",
       " (9,\n",
       "  5): array([14, 14, 21, 18, 20,  3,  8, 22, 21,  6,  3,  3,  6,  8, 19, 16,  2,\n",
       "        14]),\n",
       " (9,\n",
       "  6): array([ 9,  2,  7,  7,  5,  5,  8, 14,  0,  7,  8, 14,  2, 19,  3, 19,  3,\n",
       "         9]),\n",
       " (9,\n",
       "  7): array([ 5,  3, 13,  1,  6,  8, 11,  3,  3,  6,  0,  2, 12,  5, 12,  1,  8,\n",
       "        19]),\n",
       " (9,\n",
       "  8): array([16, 10,  2, 10, 13, 12,  1, 11, 12, 11,  3, 13,  5,  5, 23, 22,  5,\n",
       "        14]),\n",
       " (9,\n",
       "  9): array([ 0,  0, 19,  8,  0,  2, 16, 16,  3, 12,  7,  3, 22,  5, 21,  3, 10,\n",
       "        14]),\n",
       " (9,\n",
       "  10): array([16, 16, 12,  5, 20,  2, 22, 17, 20,  4, 12, 16,  5, 17, 14, 17, 19,\n",
       "         6]),\n",
       " (9,\n",
       "  11): array([ 7, 12,  4,  5, 10,  2, 22,  8, 23, 20, 11, 11,  0, 11, 14, 19,  2,\n",
       "         2]),\n",
       " (9,\n",
       "  12): array([ 7,  7, 12,  0, 13,  1,  7, 19, 13,  4,  9, 11,  1,  0,  6,  6,  7,\n",
       "         0]),\n",
       " (9,\n",
       "  13): array([ 3,  8,  3, 10,  5, 13,  5, 16, 15,  1,  4,  9,  2,  3, 20, 17,  9,\n",
       "        14]),\n",
       " (9,\n",
       "  14): array([15,  1, 12,  1,  6,  6, 21, 21,  8,  7, 23,  1, 23,  9,  8,  8,  5,\n",
       "        16]),\n",
       " (9,\n",
       "  15): array([15,  0,  6,  1,  4, 18, 23, 21,  8, 10,  6, 11,  7, 14,  5, 13,  6,\n",
       "        16]),\n",
       " (9,\n",
       "  16): array([ 2,  7,  4,  5,  1, 13, 19,  2, 16,  4,  0, 19,  4,  8,  5,  9,  9,\n",
       "         4]),\n",
       " (9,\n",
       "  17): array([ 6,  7, 14,  0, 19,  7, 12, 10, 12, 10,  2,  1, 15,  1,  8,  7, 23,\n",
       "         9]),\n",
       " (9,\n",
       "  18): array([ 7,  8,  9,  5,  1, 21, 16, 20,  9, 10, 22,  8,  2,  2,  0,  6, 11,\n",
       "        19]),\n",
       " (9,\n",
       "  19): array([ 4,  4,  7,  9, 20,  5,  0,  5, 23, 19, 22, 19,  1,  8,  7, 19,  9,\n",
       "         1]),\n",
       " (9,\n",
       "  20): array([12,  2, 13,  1,  8,  8, 10, 23,  0,  2,  5, 11,  9,  1,  1,  9, 10,\n",
       "        19]),\n",
       " (9,\n",
       "  21): array([ 0, 11,  2, 19,  7,  2,  5, 16,  2, 15,  4,  3,  8,  2,  8,  8, 11,\n",
       "         8]),\n",
       " (9,\n",
       "  22): array([11, 16, 16,  4, 10,  7,  0,  2, 15, 22,  4, 11, 23,  1,  1, 12,  2,\n",
       "        16]),\n",
       " (9,\n",
       "  23): array([12, 12, 18, 23, 12, 12, 15,  3,  3,  9, 19, 15, 10, 10,  9, 10, 18,\n",
       "        14])}"
      ]
     },
     "execution_count": 331,
     "metadata": {},
     "output_type": "execute_result"
    }
   ],
   "source": [
    "pred_dir = {}\n",
    "for seed in range(10):\n",
    "    angs = np.arange(0,360,15)\n",
    "    for dir in range(24):\n",
    "        pred_dir[seed, dir] = dir_pred[seed][label_test[0] == dir]\n",
    "pred_dir"
   ]
  },
  {
   "cell_type": "code",
   "execution_count": 141,
   "id": "5bd90e00-1f7c-4d45-ac37-ea2fbe665ed2",
   "metadata": {
    "collapsed": true,
    "jupyter": {
     "outputs_hidden": true
    },
    "tags": []
   },
   "outputs": [
    {
     "data": {
      "text/plain": [
       "{(0,\n",
       "  0): array([12,  0,  0,  1,  0, 11, 11, 23,  0,  0,  0,  0,  0,  0, 11,  0,  0,\n",
       "         0,  0,  0, 11,  0,  0,  0,  0, 11, 11, 23,  0,  0, 23, 18, 23, 23,\n",
       "        23, 23]),\n",
       " (0,\n",
       "  1): array([ 1,  1,  1,  1, 13,  2,  1,  1, 12, 12,  1,  1,  1,  1,  1,  1,  1,\n",
       "         1,  1,  1, 22, 23, 23, 11, 10, 23, 23,  3,  0,  0,  0,  0,  3,  3,\n",
       "         3,  3]),\n",
       " (0,\n",
       "  2): array([16, 15,  3, 13,  2, 13,  1,  1, 13,  2,  1,  2,  1,  1,  1,  1, 12,\n",
       "        12, 12, 12, 14, 14,  2,  2, 14,  2,  2,  2, 14,  2,  2, 13,  2, 13,\n",
       "         1, 13]),\n",
       " (0,\n",
       "  3): array([15, 15, 15, 15,  2, 14, 14,  3, 22, 23, 23, 11,  4,  4,  4,  4,  3,\n",
       "         3,  3,  3,  3,  3,  3,  2, 11, 11, 11, 11,  1,  2,  2,  2, 16, 16,\n",
       "        16, 16]),\n",
       " (0,\n",
       "  4): array([23,  4, 23, 23, 17,  4,  4,  4, 16, 16,  4,  4, 16,  4,  4,  4, 16,\n",
       "        16, 16, 16, 22,  4,  4,  4,  4, 10,  4,  4,  4,  4,  4,  4,  4,  4,\n",
       "         4,  4]),\n",
       " (0,\n",
       "  5): array([19,  6,  6, 17, 17, 17, 17, 17,  7, 17,  5,  4,  6,  6,  6,  6,  5,\n",
       "         5,  5,  5,  4,  4,  4,  4,  6, 17, 17,  6, 17,  5,  5,  5,  5,  5,\n",
       "         5,  5]),\n",
       " (0,\n",
       "  6): array([17,  5,  5, 16,  7,  7,  7, 18, 10,  9,  9, 21, 14,  6,  6,  6,  6,\n",
       "         6,  6,  6, 17,  6,  6,  6,  6,  6,  6,  6, 18,  6,  6,  6,  6,  6,\n",
       "         6,  6]),\n",
       " (0,\n",
       "  7): array([ 7,  7, 19,  7, 20, 20, 20,  9, 19, 19,  7, 19,  7,  7, 18,  5,  7,\n",
       "         7,  7,  7, 18, 18, 18, 18,  7, 19, 19,  7,  8, 19,  7,  7,  7,  7,\n",
       "         7,  7]),\n",
       " (0,\n",
       "  8): array([19,  8, 20, 20,  8, 19, 19,  8,  9,  9, 20,  8,  8,  8,  8,  7, 19,\n",
       "        19,  7,  7, 20, 20, 20, 20,  6, 18, 18,  8, 20, 20,  9, 21,  9,  9,\n",
       "         9,  9]),\n",
       " (0,\n",
       "  9): array([ 9,  9, 20,  8, 23, 10, 21,  9, 10, 21,  9,  9, 21, 21, 22, 21, 22,\n",
       "        10, 21, 21,  9,  9,  9, 21, 21, 21,  9, 21, 21, 21,  9,  9, 22, 10,\n",
       "        10, 10]),\n",
       " (0,\n",
       "  10): array([22, 23, 23, 23, 10, 22, 22, 10, 10, 10, 22, 22, 10, 10, 10, 10, 23,\n",
       "        10, 10, 10, 10, 10, 22, 22, 21, 21, 10, 22, 22, 22, 10, 10, 10, 22,\n",
       "        10, 22]),\n",
       " (0,\n",
       "  11): array([12, 12, 12, 12, 22, 23, 23, 23,  0,  1,  1,  1, 10, 23, 23, 23, 10,\n",
       "        22, 10, 22, 23, 23, 23, 23, 10, 22, 22, 23, 11, 11, 11,  0,  0, 11,\n",
       "        23, 23]),\n",
       " (0,\n",
       "  12): array([ 2,  2,  2, 13, 11,  0,  0, 12, 12, 12, 12, 12, 12,  1,  1,  1, 11,\n",
       "         0,  0,  0,  1, 13, 13,  2, 12,  0,  0,  0, 12, 12, 12, 12, 13,  3,\n",
       "         3, 14]),\n",
       " (0,\n",
       "  13): array([ 1,  1,  1, 12, 14, 14, 14, 13, 13,  2, 12,  1, 13,  2,  2,  2,  1,\n",
       "         2,  2, 13,  2,  2,  2,  2, 12, 13, 12,  1,  1,  1,  2,  2,  2,  2,\n",
       "        13,  2]),\n",
       " (0,\n",
       "  14): array([15, 15,  3, 14, 13,  2,  2,  2,  2, 14, 14, 14, 13,  2,  2, 13, 13,\n",
       "         2, 13,  2,  2,  2,  2,  2, 15,  3,  3,  3, 16, 16, 15, 16,  3, 15,\n",
       "        15, 15]),\n",
       " (0,\n",
       "  15): array([14, 14,  2,  2,  3,  3,  3,  3, 16, 15, 15,  3, 15, 15, 15,  3, 15,\n",
       "         3, 23,  0, 15, 15, 15, 15, 15, 15, 15, 16,  3,  3,  3, 15, 14,  3,\n",
       "         3,  3]),\n",
       " (0,\n",
       "  16): array([ 4,  4,  4,  4,  4,  4, 16, 16, 16, 16, 16, 16,  4,  4,  4,  4, 16,\n",
       "         4, 16, 16,  4,  4,  4,  4, 16,  4, 16,  4, 16,  4,  4,  4, 16,  4,\n",
       "        16, 16]),\n",
       " (0,\n",
       "  17): array([17,  5,  5,  5,  6,  6,  6, 17,  5, 16, 16, 16, 17,  6,  6,  6, 17,\n",
       "        17, 17,  5, 17,  5,  5,  5, 17, 17, 17, 17, 17,  5,  5, 16,  5,  5,\n",
       "         4, 16]),\n",
       " (0,\n",
       "  18): array([ 6,  6,  6,  6,  7,  6,  6,  6, 18, 18, 18,  6,  6,  6,  6,  6, 17,\n",
       "        17, 17, 17, 17, 17, 17, 17,  6,  6, 17, 17, 17, 17, 17, 17,  6,  6,\n",
       "         6,  6]),\n",
       " (0,\n",
       "  19): array([19,  7,  7, 19,  7, 19,  7,  7, 18,  7,  7,  7, 19, 19, 19, 19, 19,\n",
       "        19,  7,  1, 18, 18, 18, 18, 20,  8,  8,  8,  7,  7,  7,  7,  6, 18,\n",
       "        18, 18]),\n",
       " (0,\n",
       "  20): array([20,  9,  9, 20, 20, 20, 20, 20,  9, 21, 21, 21,  9, 20, 20, 20,  9,\n",
       "         9,  9, 21, 20, 20,  9, 20,  8,  8,  8,  8,  8,  8,  8,  8,  9,  8,\n",
       "         8,  8]),\n",
       " (0,\n",
       "  21): array([21, 21,  9,  9, 21, 21, 21,  9,  9,  9,  9,  9, 21, 21,  9, 21, 10,\n",
       "        21, 21, 10, 22, 22, 22, 10, 22, 22, 22, 10, 21, 21, 21, 21,  9, 21,\n",
       "        21, 21]),\n",
       " (0,\n",
       "  22): array([23, 23, 23, 23, 10, 22, 10, 22, 10, 22, 22, 10, 22, 22, 23,  0, 22,\n",
       "        22, 22, 10,  9,  9, 21,  9, 10, 10, 10, 22, 22, 10, 10, 10, 21, 21,\n",
       "        21, 21]),\n",
       " (0,\n",
       "  23): array([ 0,  0,  0,  0, 23, 23, 23, 23, 23, 23, 23, 22, 10, 22, 10, 22, 23,\n",
       "        23, 23, 23, 23, 23, 23, 23, 22, 22, 22, 10, 10, 10, 10, 21, 10, 22,\n",
       "        22, 22])}"
      ]
     },
     "execution_count": 141,
     "metadata": {},
     "output_type": "execute_result"
    }
   ],
   "source": [
    "pred_dir"
   ]
  },
  {
   "cell_type": "code",
   "execution_count": 334,
   "id": "c88f6896-2fb5-4076-9310-40d93b3ef911",
   "metadata": {
    "tags": []
   },
   "outputs": [],
   "source": [
    "mean_error_total = []\n",
    "for seed in range(10):\n",
    "    mean_error = {}\n",
    "    std_error = {}\n",
    "    total_error = defaultdict(list) \n",
    "    for dir in range(24):\n",
    "        pred_diff = pred_dir[seed, dir] - dir\n",
    "        for n in range(len(pred_dir[seed, dir])):\n",
    "            if np.abs(pred_diff[n]) in np.arange(0,6):\n",
    "                total_error[dir].append(np.abs(pred_diff[n])*15)\n",
    "            elif np.abs(pred_diff[n]) in np.arange(6,12):\n",
    "                total_error[dir].append((12-np.abs(pred_diff[n]))*15)\n",
    "            elif np.abs(pred_diff[n]) in np.arange(12,18):\n",
    "                total_error[dir].append((np.abs(pred_diff[n])-12)*15)\n",
    "            elif np.abs(pred_diff[n]) in np.arange(18,24):\n",
    "                total_error[dir].append((24-np.abs(pred_diff[n]))*15)\n",
    "        mean_error[dir] = np.mean(total_error[dir])\n",
    "        std_error[dir] = np.std(total_error[dir])\n",
    "    mean_error_total.append(sum(mean_error.values())/len(mean_error.values()))\n"
   ]
  },
  {
   "cell_type": "code",
   "execution_count": 335,
   "id": "d0adfc8c-9b98-4a39-a70e-677d530c7d70",
   "metadata": {
    "tags": []
   },
   "outputs": [
    {
     "name": "stdout",
     "output_type": "stream",
     "text": [
      "[43.91666666666667, 3.5038077281265054]\n"
     ]
    },
    {
     "data": {
      "text/plain": [
       "[34.166666666666664,\n",
       " 43.36805555555555,\n",
       " 45.833333333333336,\n",
       " 45.381944444444436,\n",
       " 44.09722222222223,\n",
       " 45.27777777777778,\n",
       " 47.118055555555564,\n",
       " 46.90972222222222,\n",
       " 43.229166666666664,\n",
       " 43.78472222222223]"
      ]
     },
     "execution_count": 335,
     "metadata": {},
     "output_type": "execute_result"
    }
   ],
   "source": [
    "print([np.mean(mean_error_total),np.std(mean_error_total)])\n",
    "mean_error_total"
   ]
  },
  {
   "cell_type": "code",
   "execution_count": 299,
   "id": "de6ebb41-f708-48c5-bfd5-fa8737c101c8",
   "metadata": {
    "tags": []
   },
   "outputs": [
    {
     "name": "stdout",
     "output_type": "stream",
     "text": [
      "{0: 85.0, 1: 84.16666666666667, 2: 81.66666666666667, 3: 90.0, 4: 28.333333333333332, 5: 33.333333333333336, 6: 61.666666666666664, 7: 80.0, 8: 80.83333333333333, 9: 105.83333333333333, 10: 109.16666666666667, 11: 128.33333333333334, 12: 70.0, 13: 58.333333333333336, 14: 103.33333333333333, 15: 92.5, 16: 160.0, 17: 110.83333333333333, 18: 130.0, 19: 90.83333333333333, 20: 69.16666666666667, 21: 70.83333333333333, 22: 75.0, 23: 69.16666666666667}\n"
     ]
    }
   ],
   "source": [
    "total_error = defaultdict(list) \n",
    "mean_error = {}\n",
    "std_error = {}\n",
    "seed = 1\n",
    "for dir in range(24):\n",
    "    pred_diff = pred_dir[seed, dir] - dir\n",
    "    for n in range(len(pred_dir[seed, dir])):\n",
    "        if np.abs(pred_diff[n]) in np.arange(0,6):\n",
    "            total_error[dir].append(np.abs(pred_diff[n])*15)\n",
    "        elif np.abs(pred_diff[n]) in np.arange(6,12):\n",
    "            total_error[dir].append((np.abs(pred_diff[n]))*15)\n",
    "        elif np.abs(pred_diff[n]) in np.arange(12,24):\n",
    "            total_error[dir].append((24-np.abs(pred_diff[n]))*15)\n",
    "    mean_error[dir] = np.mean(total_error[dir])\n",
    "    std_error[dir] = np.std(total_error[dir])\n",
    "print(mean_error)\n",
    "#print(sum(mean_error.values())/len(mean_error.values()))"
   ]
  },
  {
   "cell_type": "code",
   "execution_count": null,
   "id": "d925120c-efdc-4a80-bd20-e4f36208d642",
   "metadata": {
    "tags": []
   },
   "outputs": [],
   "source": [
    "with open(os.getcwd()+'/Recording_data/ROSE_Cornell/Mouse3/embedding_train_0.5x2_0.6', 'wb') as f:\n",
    "    pickle.dump(embedding_train, f)\n",
    "with open(os.getcwd()+'/Recording_data/ROSE_Cornell/Mouse3/embedding_test_0.5x2_0.6', 'wb') as f:\n",
    "    pickle.dump(embedding_test, f)\n"
   ]
  },
  {
   "cell_type": "code",
   "execution_count": 147,
   "id": "eee6c0b8-78b4-4aa4-b1e0-52e13fa0762a",
   "metadata": {
    "tags": []
   },
   "outputs": [],
   "source": [
    "embedding_train = {}\n",
    "embedding_test = {}\n",
    "with open(os.getcwd()+'/Recording_data/ROSE_Cornell/embedding_train_200', 'rb') as f:\n",
    "    embedding_train = pickle.load(f)\n",
    "with open(os.getcwd()+'/Recording_data/ROSE_Cornell/embedding_test_200', 'rb') as f:\n",
    "    embedding_test = pickle.load(f)\n"
   ]
  },
  {
   "cell_type": "code",
   "execution_count": 94,
   "id": "68bd27df-215b-45e5-8ca6-7c918a0a0c21",
   "metadata": {
    "tags": []
   },
   "outputs": [],
   "source": [
    "pred_dir = {}\n",
    "with open(os.getcwd()+'/Recording_data/ROSE_Cornell/pred_dir', 'rb') as f:\n",
    "    pred_dir_pre = pickle.load(f)"
   ]
  },
  {
   "cell_type": "code",
   "execution_count": 97,
   "id": "03619d6b-3f9e-4997-8afd-c4d4f9aa6169",
   "metadata": {
    "tags": []
   },
   "outputs": [],
   "source": [
    "with open(os.getcwd()+'/Recording_data/ROSE_Cornell/mean_error', 'rb') as f:\n",
    "    mean_e = pickle.load(f)"
   ]
  },
  {
   "cell_type": "code",
   "execution_count": 15,
   "id": "412902c3-c0e8-424c-9a9e-5ada0949660c",
   "metadata": {
    "tags": []
   },
   "outputs": [
    {
     "data": {
      "text/plain": [
       "dict_keys([0, 1, 2, 3, 4, 5, 6, 7, 8, 9])"
      ]
     },
     "execution_count": 15,
     "metadata": {},
     "output_type": "execute_result"
    }
   ],
   "source": [
    "embedding_train.keys()"
   ]
  },
  {
   "cell_type": "code",
   "execution_count": null,
   "id": "8c4a42d8-9f33-442f-95e0-b828dd01da75",
   "metadata": {
    "tags": []
   },
   "outputs": [],
   "source": [
    "decode_ang = pd.read_excel( os.getcwd() + '\\Recording_data/ROSE_Cornell/Mouse3/decode.xlsx', engine='openpyxl')"
   ]
  },
  {
   "cell_type": "code",
   "execution_count": null,
   "id": "d2477832-a6d0-4874-ba5f-8cf3d1f1a4fa",
   "metadata": {
    "tags": []
   },
   "outputs": [],
   "source": [
    "decode_ang"
   ]
  },
  {
   "cell_type": "code",
   "execution_count": 301,
   "id": "4a5197d0-8d76-443f-b7da-1621281225ff",
   "metadata": {
    "tags": []
   },
   "outputs": [
    {
     "data": {
      "image/png": "[encoded data removed]",
      "text/plain": [
       "<Figure size 640x480 with 1 Axes>"
      ]
     },
     "metadata": {},
     "output_type": "display_data"
    }
   ],
   "source": [
    "angs = np.arange(0,360,15)\n",
    "decode_ang = []\n",
    "alpha_list = defaultdict(list)\n",
    "seed = 0\n",
    "for dir in range(24):\n",
    "    decode_ang.append(pred_dir[seed, dir])\n",
    "    for n in range(len(decode_ang[0])):\n",
    "        count = (decode_ang[dir] == decode_ang[dir][n]).sum() \n",
    "        alpha = count/len(decode_ang[dir])\n",
    "        alpha_list[dir].append(alpha)\n",
    "        plt.scatter(angs[dir], decode_ang[dir][n]*15, color = [93/255,163/255,157/255], alpha = alpha)\n",
    "plt.axis('off')       \n",
    "plt.show()\n"
   ]
  },
  {
   "cell_type": "code",
   "execution_count": null,
   "id": "a7da4257-e31a-42ea-912a-0827d911d011",
   "metadata": {
    "tags": []
   },
   "outputs": [],
   "source": [
    "res = pd.DataFrame()\n",
    "for dir in range(24):\n",
    "    res[dir] = decode_ang[dir]*15\n",
    "    res[dir, alpha] = alpha_list[dir]\n",
    "res.to_excel(os.getcwd() + '/Recording_data/ROSE_Cornell/Mouse3/predicts.xlsx', index=False, engine='openpyxl')"
   ]
  },
  {
   "cell_type": "code",
   "execution_count": null,
   "id": "61e926f3-8b4b-46ab-ad72-02d29fc5ad37",
   "metadata": {
    "tags": []
   },
   "outputs": [],
   "source": [
    "mean_error_ang = []\n",
    "for dir in range(12):\n",
    "    mean_error_ang.append((mean_error[dir] + mean_error[dir+12])/2)"
   ]
  },
  {
   "cell_type": "code",
   "execution_count": null,
   "id": "f294cc5b-b853-454a-95c8-99ab608dc3ff",
   "metadata": {},
   "outputs": [],
   "source": [
    "mean_error = [9.79, 10.4, 3.3, 11.25, 5, 2.7, 4.59,  ]"
   ]
  },
  {
   "cell_type": "code",
   "execution_count": null,
   "id": "d1fdb712-7b59-4333-913b-8acb1a0edc69",
   "metadata": {
    "tags": []
   },
   "outputs": [],
   "source": [
    "angs = np.arange(0,180,15)\n",
    "plt.figure(figsize = (15,6))\n",
    "plt.bar(angs, mean_error_ang, width = 10, color = 'cadetblue')\n",
    "plt.tick_params(axis='both', which='major', labelsize =20)\n",
    "plt.ylim(0,25)"
   ]
  },
  {
   "cell_type": "code",
   "execution_count": null,
   "id": "3098e88d-3f30-47c8-b4bb-0989bf40da3d",
   "metadata": {
    "tags": []
   },
   "outputs": [],
   "source": [
    "step = 0.55\n",
    "fs = 20000\n",
    "ang_curve = defaultdict(list)\n",
    "fr = defaultdict(list)\n",
    "mean_fr_ang = defaultdict(list)\n",
    "spike_count = defaultdict(list)\n",
    "for (ch,unit) in spike_time_all.keys():\n",
    "    r= np.array(spike_time_all[ch,unit])\n",
    "    for A in np.arange(0, 360, 15):\n",
    "        for idx, time in enumerate(onset_time[np.where(angle == A)]):\n",
    "            on_time = time + 0.05\n",
    "            rate_after = ((int(on_time*fs) <= r) & (r < int(on_time*fs + step*fs))).sum()\n",
    "            spike_count[ch,unit, A].append(rate_after)\n",
    "        ang_curve[ch,unit].append(spike_count[ch, unit, A])\n"
   ]
  },
  {
   "cell_type": "code",
   "execution_count": null,
   "id": "3086cde4-6b99-451b-9432-da9d83ce6cfb",
   "metadata": {
    "tags": []
   },
   "outputs": [],
   "source": [
    "fig, axs = plt.subplots(8, 16, sharex = 'col', sharey = 'row')\n",
    "ang_in_order = np.arange(0, 360, 15)\n",
    "for (ch,unit) in spike_time_all.keys():\n",
    "  y = shank_no[ch]\n",
    "  x = elec_no[ch]\n",
    "  axs[8-x][y-1].plot(ang_in_order, np.mean(ang_curve[ch,unit], axis = 1), 'seagreen',linewidth=5, label = \"s%d\"%(y) + \"e%d\"%(x))\n",
    "  axs[8-x][y-1].legend()\n",
    "  axs[8-x][y-1].tick_params(axis='x', which='major', labelsize = 20)\n",
    "  #axs[8-x][y-1].set_ylim(5, 15)\n",
    "  fig.set_figheight(40)\n",
    "  fig.set_figwidth(60)"
   ]
  },
  {
   "cell_type": "code",
   "execution_count": null,
   "id": "5cfab8aa-1ec6-4aba-9ea3-bd799f8c16d0",
   "metadata": {
    "tags": []
   },
   "outputs": [],
   "source": [
    "elec_no[110:120]"
   ]
  },
  {
   "cell_type": "code",
   "execution_count": null,
   "id": "c6c60b41-92fd-4a77-9285-b581099de2ca",
   "metadata": {
    "tags": []
   },
   "outputs": [],
   "source": [
    "OSI = {}\n",
    "rate_by_angle = {}\n",
    "max_rate = {}\n",
    "prefer_ang = {}\n",
    "for (ch,unit) in spike_time_all.keys():\n",
    "    rate_by_angle[ch,unit] = np.mean(ang_curve[ch,unit], axis = 1)\n",
    "    max_rate[ch,unit] = max(rate_by_angle[ch,unit])\n",
    "    max_index = np.argmax(rate_by_angle[ch,unit])\n",
    "    if max_index < 6:\n",
    "        orth_index = max_index + 6 \n",
    "    if max_index >= 6 and max_index <12:\n",
    "        orth_index = max_index - 6 \n",
    "    if max_index >= 12 and max_index < 18:\n",
    "        orth_index = max_index + 6\n",
    "    if max_index >= 18:\n",
    "        orth_index = max_index - 6\n",
    "    OSI[shank_no[ch], elec_no[ch]-1, unit] = [max_index, (rate_by_angle[ch, unit][max_index] - rate_by_angle[ch, unit][orth_index])/rate_by_angle[ch, unit][max_index]]"
   ]
  },
  {
   "cell_type": "code",
   "execution_count": null,
   "id": "728661ed-bf15-4a5b-8ac4-5ee826ca6104",
   "metadata": {
    "tags": []
   },
   "outputs": [],
   "source": [
    "OSI"
   ]
  },
  {
   "cell_type": "code",
   "execution_count": null,
   "id": "e346cb0b-58e6-410e-9a52-decbea71255d",
   "metadata": {
    "tags": []
   },
   "outputs": [],
   "source": [
    "lh_ratio = {}\n",
    "rate_by_angle = {}\n",
    "max_rate = {}\n",
    "min_rate = {}\n",
    "for i in range(16):\n",
    "    shank_num = shank_no[i*8]\n",
    "    for unit_id in sorting[shank_no[i*8]].get_unit_ids():\n",
    "        rate_by_angle[shank_num, unit_id] = np.mean(ang_curve[shank_num,unit_id], axis = 1)\n",
    "        max_rate[shank_num, unit_id] = max(rate_by_angle[shank_num, unit_id])\n",
    "        min_rate[shank_num, unit_id] = min(rate_by_angle[shank_num, unit_id])\n",
    "        lh_ratio[shank_num, unit_id]  = (max_rate[shank_num, unit_id] - min_rate[shank_num, unit_id])/max_rate[shank_num, unit_id]\n",
    "        "
   ]
  },
  {
   "cell_type": "code",
   "execution_count": null,
   "id": "0836b925-039f-44af-bae3-f0435d00db9c",
   "metadata": {
    "tags": []
   },
   "outputs": [],
   "source": [
    "plt.plot(lh_ratio.values())"
   ]
  },
  {
   "cell_type": "code",
   "execution_count": null,
   "id": "a5635cc9-a239-4774-adae-1101af5a034d",
   "metadata": {
    "tags": []
   },
   "outputs": [],
   "source": [
    "fig, axs = plt.subplots(10, 16, sharex = 'col', sharey = 'row')\n",
    "spike_time_all = {}\n",
    "for i in range(16):\n",
    "    shank_num = shank_no[i*8]\n",
    "    for unit_id in sorting[shank_no[i*8]].get_unit_ids():\n",
    "      x = unit_id - 1\n",
    "      y = shank_no[i*8] - 1\n",
    "      if lh_ratio[shank_num, unit_id] > 0.4:\n",
    "          spike_time_all[shank_num, unit_id] = sorting[shank_num].get_unit_spike_train(unit_id)\n",
    "          axs[x][y].plot(ang_in_order, np.mean(ang_curve[shank_num,unit_id], axis = 1), 'seagreen',linewidth=5, label = \"s%d\"%(shank_no[i*8]) + \"u%d\"%(unit_id))\n",
    "      axs[x][y].tick_params(axis='x', which='major', labelsize = 30)\n",
    "      #axs[x][y].set_ylim(-180, 150)\n",
    "      fig.set_figheight(40)\n",
    "      fig.set_figwidth(60)"
   ]
  },
  {
   "cell_type": "code",
   "execution_count": null,
   "id": "855529f1-c3af-428d-9ffe-44e2ba40c6a7",
   "metadata": {
    "tags": []
   },
   "outputs": [],
   "source": [
    "len(ang_curve[shank_num,unit_id])\n",
    "find_index_of_max(ang_curve[shank_num,unit_id])"
   ]
  },
  {
   "cell_type": "code",
   "execution_count": null,
   "id": "dd09b488-c56d-4ba7-be4f-6b351bf59272",
   "metadata": {
    "tags": []
   },
   "outputs": [],
   "source": [
    "fig, axs = plt.subplots(8, 16, sharex = 'col', sharey = 'row')\n",
    "ang_in_order = np.arange(0, 360, 15)\n",
    "for i in range(16):\n",
    "    shank_num = shank_no[i*8]\n",
    "    for unit_id in sorting[shank_no[i*8]].get_unit_ids():\n",
    "      channel = ch_to_unit[shank_no[i*8]][unit_id]\n",
    "      x = 8 - pinmap[channel][1]\n",
    "      y = shank_no[i*8] - 1\n",
    "      axs[x][y].plot(ang_in_order, np.mean(ang_curve[shank_num,unit_id], axis = 1), 'seagreen',linewidth=5)#, label = \"s%d\"%(shank_no[i*8]) + \"u%d\"%(unit_id))\n",
    "      axs[x][y].set_title(\"channel%d\"%(channel))\n",
    "      #axs[x][y].legend()\n",
    "      axs[x][y].tick_params(axis='x', which='major', labelsize = 30)\n",
    "      #axs[x][y].set_ylim(-180, 150)\n",
    "      fig.set_figheight(40)\n",
    "      fig.set_figwidth(60)"
   ]
  },
  {
   "cell_type": "code",
   "execution_count": null,
   "id": "1397acc1-f235-4fce-92f7-4c64157b4e8e",
   "metadata": {},
   "outputs": [],
   "source": [
    "spike_time_trial = {}"
   ]
  },
  {
   "cell_type": "code",
   "execution_count": null,
   "id": "6e243188-feb0-45a0-af02-91b445fae746",
   "metadata": {},
   "outputs": [],
   "source": [
    "for cluster_id in non_noise:\n",
    "    unit = 0 \n",
    "    channel = int(min(spike_uncurated[0][spike_uncurated[2]==cluster_id]))-1\n",
    "    while (channel, unit) in spike_time_trial.keys():\n",
    "        unit = unit+1\n",
    "    spike_time_trial[channel,unit] = cluster_time_stamp[cluster_id]\n",
    "    "
   ]
  },
  {
   "cell_type": "code",
   "execution_count": null,
   "id": "23479bdf-8b4a-4de5-b91a-434128078dc3",
   "metadata": {},
   "outputs": [],
   "source": [
    "len(spike_time_trial.keys())"
   ]
  },
  {
   "cell_type": "code",
   "execution_count": null,
   "id": "f88e83e6-d82e-41b2-aa7a-570297bb8255",
   "metadata": {
    "tags": []
   },
   "outputs": [],
   "source": [
    "#channel based spike time\n",
    "spike_time_ch = {}\n",
    "for key, values in spike_time_all_clust[trial].items():\n",
    "    new_key = key[0]\n",
    "    if new_key not in spike_time_ch:\n",
    "        spike_time_ch[new_key] = values\n",
    "    else:\n",
    "        # Summing the lists element-wise\n",
    "        spike_time_ch[new_key] = sorted(spike_time_ch[new_key] + values)"
   ]
  },
  {
   "cell_type": "code",
   "execution_count": null,
   "id": "e5945e6f-dbcd-4fe3-af0c-6b244505906c",
   "metadata": {},
   "outputs": [],
   "source": [
    "trial = 41\n",
    "start = 0\n",
    "end =int(len(filtered[0])/fs)\n",
    "L = 1.5\n",
    "step = 0.05\n",
    "points = int(L/step)\n",
    "stim_bin = []\n",
    "fr = defaultdict(list)\n",
    "mean_fr = {}\n",
    "\n",
    "for ch in spike_time_ch.keys():\n",
    "    r = np.array(spike_time_ch[ch])\n",
    "    for time in onset_time[trial][0:20]: \n",
    "        scount = []\n",
    "        on_time = int((time-0.5)*fs)\n",
    "        for n in range(points):\n",
    "            spike_count = (((int(on_time + step*fs*n) <= r) & (r < int(on_time + step*fs*(n+1)))).sum())/step\n",
    "            scount.append(spike_count)\n",
    "        fr[ch].append(scount)\n",
    "    mean_fr[ch] = np.mean(fr[ch], axis = 0) "
   ]
  },
  {
   "cell_type": "code",
   "execution_count": null,
   "id": "543920fb-8827-4b3e-b606-535f8c587042",
   "metadata": {
    "tags": []
   },
   "outputs": [],
   "source": [
    "spike_time_cor = {}\n",
    "temp = {}\n",
    "fr_3D = []\n",
    "\n",
    "for ch in range(128):\n",
    "    if ch in spike_time_ch.keys():\n",
    "        temp[pinmap[ch]] = np.array(mean_fr[ch])\n",
    "    else:\n",
    "        temp[pinmap[ch]] = np.zeros(len(mean_fr[1]))\n",
    "for s in range(1,33,1):\n",
    "    for e in range(1,5,1):\n",
    "        fr_3D.append(temp[s,e])"
   ]
  },
  {
   "cell_type": "code",
   "execution_count": null,
   "id": "2a208b2a-70e3-42ee-9c48-8a2cb8226ae7",
   "metadata": {
    "tags": []
   },
   "outputs": [],
   "source": [
    "t1 = onset_time[41][0]-0.5\n",
    "t2 = onset_time[41][0]+1\n",
    "c1 = int(t1/step)\n",
    "c2 = int(t2/step)-1\n",
    "columns = [row[c1:c2] for row in fr_3D]"
   ]
  },
  {
   "cell_type": "code",
   "execution_count": null,
   "id": "b462474d-629f-4bcb-ad90-949ca418dcf5",
   "metadata": {},
   "outputs": [],
   "source": [
    "df_columns = pd.DataFrame(fr_3D)\n",
    "df_columns"
   ]
  },
  {
   "cell_type": "code",
   "execution_count": null,
   "id": "5433883a-dd24-427e-b102-b983331426c2",
   "metadata": {},
   "outputs": [],
   "source": [
    "df_columns.to_excel(\"firingrates.xlsx\", index=False, engine='openpyxl')"
   ]
  },
  {
   "cell_type": "code",
   "execution_count": null,
   "id": "4a500e69-95eb-49d6-8810-667759d8bfcf",
   "metadata": {
    "tags": []
   },
   "outputs": [],
   "source": [
    "with open(os.getcwd()+'/Recording_data/0914/Sorted/neural', 'wb') as f:\n",
    "    pickle.dump(neural_data, f)\n",
    "with open(os.getcwd()+'/Recording_data/0914/Sorted/directions', 'wb') as f:\n",
    "    pickle.dump(directions, f)   \n"
   ]
  },
  {
   "cell_type": "code",
   "execution_count": null,
   "id": "aeedb620-88f1-4f25-896e-40816a35014f",
   "metadata": {},
   "outputs": [],
   "source": [
    "from sklearn.preprocessing import MinMaxScaler\n",
    "scaler = MinMaxScaler()\n",
    "normalized_neural = scaler.fit_transform(neural_data)\n"
   ]
  },
  {
   "cell_type": "code",
   "execution_count": null,
   "id": "8f8e5312-feab-477c-a3e3-8eb09c5aa11b",
   "metadata": {},
   "outputs": [],
   "source": [
    "rate_by_angle = defaultdict(list)\n",
    "rate_by_stim = defaultdict(list)\n",
    "for chs,unit in rate_diff.keys(): \n",
    "    for ang in range(0,360,30):\n",
    "        if angle_repeat[chs, unit, ang]:\n",
    "            rate_by_angle[chs,unit].append(np.sum(rate_diff_angle[chs,unit,ang])/len(angle_repeat[chs, unit, ang]))\n",
    "        else:\n",
    "            rate_by_angle[chs,unit].append(0)\n",
    "    for stim in range(int(len(rate_diff[chs,unit])/12)):\n",
    "        for ang in range(0,360,30):\n",
    "            rate_by_stim[chs,unit,stim].append(rate_diff_angle[chs,unit,ang][stim])"
   ]
  },
  {
   "cell_type": "code",
   "execution_count": null,
   "id": "53e730f1-e70f-44dc-b91d-3ae577941db2",
   "metadata": {},
   "outputs": [],
   "source": [
    "max_angle = {}\n",
    "max_rate = {}\n",
    "orth_angle = {}\n",
    "orth_rate = {}\n",
    "ORI = {}\n",
    "rate_by_angle_gau = {}\n",
    "sigma =0.8\n",
    "for chs,unit in rate_by_angle.keys():\n",
    "    if not rate_by_angle[chs,unit]:\n",
    "        continue\n",
    "    rate_by_angle_gau[chs,unit] = gaussian_filter(rate_by_angle[chs,unit], sigma=sigma)\n",
    "    sorted_indices = np.argsort(rate_by_angle_gau[chs,unit])\n",
    "    max_idx = sorted_indices[-1]\n",
    "    max_rate[chs,unit] = rate_by_angle_gau[chs,unit][max_idx]\n",
    "    if max_rate:\n",
    "        max_angle[chs,unit] = max_idx*30\n",
    "    else:\n",
    "        max_angle[chs,unit] = 0\n",
    "    if max_angle[chs,unit] < 90:\n",
    "        orth_angle[chs,unit] = max_angle[chs,unit]+90\n",
    "    else:\n",
    "        orth_angle[chs,unit] = max_angle[chs,unit]-90\n",
    "    orth_rate[chs,unit] = rate_by_angle_gau[chs,unit][int(orth_angle[chs,unit]/30)] \n",
    "    if max_rate[chs,unit]:\n",
    "        ORI[chs,unit] = (max_rate[chs,unit] - orth_rate[chs,unit]) / max_rate[chs,unit]\n",
    "    else:\n",
    "        ORI[chs,unit] = 0\n",
    "        "
   ]
  },
  {
   "cell_type": "code",
   "execution_count": null,
   "id": "38b74d79-4ec7-498e-8f6b-7d29717aa5b5",
   "metadata": {},
   "outputs": [],
   "source": [
    "ORI_fil = [x for x in ORI.values() if x != 0 and x<1]\n",
    "plt.hist(ORI.values())\n",
    "#plt.ylim(0,20)"
   ]
  },
  {
   "cell_type": "code",
   "execution_count": null,
   "id": "30aaa745-f80d-44c2-954f-30d964f4e1ef",
   "metadata": {
    "tags": []
   },
   "outputs": [],
   "source": [
    "fig, axs = plt.subplots(4, 32, sharex = 'col', sharey = 'row')\n",
    "for chs, unit in ORI.keys():\n",
    "  y = shank_no[chs]\n",
    "  x = elec_no[chs]\n",
    "  axs[x-1][y-1].plot(angles,rate_by_angle[chs,unit],linewidth = 20,color = 'steelblue')\n",
    "  axs[x-1][y-1].set_title('s%d'%(y)+'-e%d'%(x),size = 30)\n",
    "  #axs[x-1][y-1].set_ylim([-100, 100])\n",
    "  axs[x-1][y-1].tick_params(axis='both', which='major', labelsize = 30)\n",
    "  fig.set_figheight(20)\n",
    "  fig.set_figwidth(200)\n",
    "  axs[x-1][y-1].get_yaxis().set_visible(True)\n",
    "  axs[x-1][y-1].get_xaxis().set_visible(False)"
   ]
  },
  {
   "cell_type": "code",
   "execution_count": null,
   "id": "154f8c05-8e17-46a7-879a-161dd3499b30",
   "metadata": {
    "tags": []
   },
   "outputs": [],
   "source": [
    "angles = np.arange(0,360,30)\n",
    "\n",
    "stim_no = int(len(rate_diff[4,0])/12)\n",
    "fig, axs = plt.subplots(stim_no, 1, sharex = 'col', sharey = 'row')\n",
    "for stim in range(stim_no):\n",
    "    axs[stim].plot(angles, np.array(rate_by_stim[95,0,stim]), linewidth = 5, color = 'steelblue')\n",
    "    fig.set_figheight(20)\n",
    "    fig.set_figwidth(10)\n",
    "    axs[stim].tick_params(axis='both', which='major', labelsize=25)\n",
    "    #plt.legend('%d'%(stim))\n",
    "plt.show()\n",
    "\n",
    "#plt.ylim(0,12)"
   ]
  },
  {
   "cell_type": "code",
   "execution_count": null,
   "id": "b4df547b-a7e0-42dd-aafc-b2232ea6d59c",
   "metadata": {},
   "outputs": [],
   "source": [
    "rate_order = []\n",
    "stim_no = int(len(rate_diff[4,0])/12)\n",
    "order = np.arange(0,12,1)\n",
    "for n in range(stim_no):\n",
    "    rate_order.append(rate_diff[4,0][n*12:(n+1)*12])\n",
    "mean_rate_order = np.mean(rate_order,axis= 0)\n",
    "plt.plot(order,np.mean(rate_order,axis= 0))   "
   ]
  },
  {
   "cell_type": "code",
   "execution_count": null,
   "id": "0d383c3f-59d6-46e4-8444-b29b2ed7c566",
   "metadata": {},
   "outputs": [],
   "source": [
    "angles = order = np.arange(0,360,30)\n",
    "fig, ax = plt.subplots()\n",
    "ax.plot(angles, rate_by_angle_gau[51,0]*10, linewidth = 5, color = 'steelblue')"
   ]
  },
  {
   "cell_type": "code",
   "execution_count": null,
   "id": "26777961-1b8a-44e8-bcae-4cdd27af6b07",
   "metadata": {
    "tags": []
   },
   "outputs": [],
   "source": [
    "line = ax.lines[0]\n",
    "x_data = line.get_xdata()\n",
    "y_data = line.get_ydata()\n",
    "data_dict = {\"X\": x_data.tolist(), \"Y\": y_data.tolist()}\n",
    "with open(os.getcwd()+'/Recording_data/0914/exported_data/ch7.json', 'w') as file:\n",
    "    json.dump(data_dict, file)"
   ]
  },
  {
   "cell_type": "code",
   "execution_count": null,
   "id": "0fe6bec3-fd3a-4294-8a19-cb69fba2982e",
   "metadata": {},
   "outputs": [],
   "source": [
    "ColorPalette = pd.read_excel( os.getcwd() + '/ColorPalettes.xlsx', engine='openpyxl')\n",
    "colors = ColorPalette[['R','G','B']].values/255"
   ]
  },
  {
   "cell_type": "code",
   "execution_count": null,
   "id": "48353b4c-0699-4d59-a472-4c175b422b89",
   "metadata": {
    "tags": []
   },
   "outputs": [],
   "source": [
    "#channel based\n",
    "rate_by_angle_ch = {}\n",
    "for key, values in rate_by_angle.items():\n",
    "    new_key = key[0]\n",
    "    if new_key not in rate_by_angle_ch:\n",
    "        rate_by_angle_ch[new_key] = values\n",
    "    else:\n",
    "        # Summing the lists element-wise\n",
    "        rate_by_angle_ch[new_key] = np.array(rate_by_angle_ch[new_key]) + np.array(values)"
   ]
  },
  {
   "cell_type": "code",
   "execution_count": null,
   "id": "33f00629-f56f-440c-8a94-af68be008e58",
   "metadata": {
    "tags": []
   },
   "outputs": [],
   "source": [
    "np.median(fDD['ORI'])"
   ]
  },
  {
   "cell_type": "code",
   "execution_count": null,
   "id": "4c3ce53a-15d4-49a4-bf28-ed1ff24ba259",
   "metadata": {
    "tags": []
   },
   "outputs": [],
   "source": [
    "sh = []\n",
    "el = []\n",
    "for key in ORI.keys():\n",
    "    sh.append(shank_no[key[0]])\n",
    "    el.append(elec_no[key[0]])\n",
    "\n",
    "DD = pd.DataFrame()\n",
    "DD['shank_no'] = sh\n",
    "DD['elec_no'] = el\n",
    "DD['channel,unit'] = ORI.keys()\n",
    "DD['max angle'] = max_angle.values()\n",
    "DD['max rate'] = max_rate.values()\n",
    "DD['orth rate'] = orth_rate.values()\n",
    "DD['ORI'] = ORI.values()\n",
    "DD = DD.round(2)\n",
    "fDD = DD[DD['ORI'] > 0.499]\n",
    "res = fDD[fDD['ORI'] < 1.1]\n",
    "\n",
    "pd.set_option('display.max_rows', None)\n",
    "\n",
    "res\n",
    "\n",
    "\n"
   ]
  },
  {
   "cell_type": "code",
   "execution_count": null,
   "id": "a2b89ece-20f7-436f-9f58-dc8f11d8bdb0",
   "metadata": {},
   "outputs": [],
   "source": [
    "counts = Counter(res['max angle'])\n",
    "summary = {}\n",
    "\n",
    "for a in angles:\n",
    "    if (a+180) < 360:\n",
    "        if a not in counts.keys():\n",
    "            counts[a] = 0\n",
    "        summary[(a,a+180)] = (counts[a]+counts[a+180])/sum(counts.values())\n",
    "rounded_sum = pd.Series(summary).round(2).to_dict()\n",
    "\n",
    "rounded_sum\n"
   ]
  },
  {
   "cell_type": "code",
   "execution_count": null,
   "id": "5acd69f0-ba2d-42a6-96d3-8f1429881033",
   "metadata": {
    "tags": []
   },
   "outputs": [],
   "source": [
    "O = {}\n",
    "ori = defaultdict(list)\n",
    "for trial in [trial_no]:\n",
    "    for ch in range(128):\n",
    "        if (trial,ch) in ORI_ch:\n",
    "            O[pinmap[ch]] = ORI_ch[trial,ch]\n",
    "        else:\n",
    "            O[pinmap[ch]] = 0\n",
    "    for s in range(32,0,-1):\n",
    "        for e in range(1,5,1):\n",
    "            ori[trial].append(O[s,e])\n",
    "#ori_df.to_excel(os.getcwd()+'/Recording_data/0817ROSE/Sorted Units/ori.xlsx', index=False, engine='openpyxl')"
   ]
  },
  {
   "cell_type": "code",
   "execution_count": null,
   "id": "38a49716-298e-4459-9c0c-12660050acfe",
   "metadata": {
    "tags": []
   },
   "outputs": [],
   "source": [
    "import matplotlib.pyplot as plt\n",
    "import numpy as np\n",
    "from mpl_toolkits.mplot3d import Axes3D\n",
    "from matplotlib import cm\n",
    "\n",
    "\n",
    "\n",
    "fig = plt.figure(figsize = (25,25))\n",
    "\n",
    "# Add 3D subplot\n",
    "ax = fig.add_subplot(111, projection='3d')\n",
    "\n",
    " # Hide axes and grid lines\n",
    "ax.axis('off')\n",
    "ax.grid(False)\n",
    "ax.set_zlim([0,12000])\n",
    "c_data = np.array(ori[trial_no])\n",
    "\n",
    "# Choose a colormap\n",
    "colormap = sns.color_palette(\"flare\", as_cmap=True)\n",
    "\n",
    "# Min and max color values for the colormap\n",
    "cmin = 0\n",
    "cmax = 1\n",
    "\n",
    "    # Function to plot a sphere\n",
    "def plot_sphere(ax, x, y, z, radius, color, alpha, steps=30):\n",
    "    phi = np.linspace(0, np.pi, steps)\n",
    "    theta = np.linspace(0, 2 * np.pi, steps)\n",
    "    phi, theta = np.meshgrid(phi, theta)\n",
    "    \n",
    "        # Convert to Cartesian coordinates\n",
    "    x_sphere = x + radius * np.sin(phi) * np.cos(theta)\n",
    "    y_sphere = y + radius * np.sin(phi) * np.sin(theta)\n",
    "    z_sphere = z + radius * np.cos(phi)\n",
    "    \n",
    "    ax.plot_surface(x_sphere, y_sphere, z_sphere, color=color, alpha=alpha, shade=True)\n",
    "\n",
    "    # Plot spheres at data points with colors from c_data\n",
    "for x, y, z, c in zip(cor_x*12, cor_y*12, cor_z*21, c_data):\n",
    "    color_val = (c - cmin) / (cmax - cmin)\n",
    "    color = colormap(color_val)[:3]  # Ignore the alpha value from the colormap\n",
    "    if c <= 0:\n",
    "        plot_sphere(ax, x, y, z, color='slategray',radius = 200, alpha = 0.1)\n",
    "    else:\n",
    "        plot_sphere(ax, x, y, z, color=color,radius = 200+c*20, alpha = 1)\n",
    "\n",
    "\n",
    "    ax.view_init(elev=78, azim=42)    \n",
    "    # Show plot\n",
    "plt.show()"
   ]
  },
  {
   "cell_type": "code",
   "execution_count": null,
   "id": "1953be08-1533-4769-9e02-e49e5c86ad86",
   "metadata": {
    "tags": []
   },
   "outputs": [],
   "source": [
    "mean_values = {}\n",
    "for ch in range(128):\n",
    "    D = defaultdict(list)\n",
    "    for trial in [2,3,4,5]:\n",
    "        for idx,ang in enumerate(angle.iloc[trial-1]):   \n",
    "            if (trial,ch) in  rate_diff_ch:\n",
    "               D[ang].append(rate_diff_ch[trial,ch][idx])\n",
    "    mean_values[ch] = {key: sum(values) / len(values) for key, values in D.items()}\n",
    "\n",
    "fav_ang = []\n",
    "fav_rate = []\n",
    "orth_ang = []\n",
    "orth_rate = []\n",
    "ORI_avg = {}\n",
    "for ch in mean_values.keys():\n",
    "    if mean_values[ch]:\n",
    "        m_ang = max(mean_values[ch], key=mean_values[ch].get)\n",
    "        fav_ang.append(m_ang)\n",
    "        fav_rate.append(mean_values[ch][m_ang])\n",
    "        if m_ang < 90:\n",
    "            o_ang = max(mean_values[ch], key=mean_values[ch].get)+90\n",
    "        else: \n",
    "            o_ang = max(mean_values[ch], key=mean_values[ch].get)-90\n",
    "        orth_ang.append(o_ang)\n",
    "        orth_rate.append(mean_values[ch][o_ang])\n",
    "    else:\n",
    "        fav_ang.append(-200)\n",
    "        orth_ang.append(-200)\n",
    "        fav_rate.append(0)\n",
    "        orth_rate.append(0)\n",
    "\n",
    "    if fav_rate[-1] >= 5/length:\n",
    "        ORI_avg[ch] = (fav_rate[-1] - orth_rate[-1]) / fav_rate[-1]\n",
    "    else:\n",
    "        ORI_avg[ch] = 0\n",
    "sh = []\n",
    "el = []\n",
    "for ch in mean_values.keys():\n",
    "    sh.append(shank_no[ch])\n",
    "    el.append(elec_no[ch])\n",
    "\n",
    "DD = pd.DataFrame()\n",
    "DD['shank_no'] = sh\n",
    "DD['elec_no'] = el\n",
    "DD['max angle'] = fav_ang\n",
    "DD['max rate'] = fav_rate\n",
    "DD['orth angle'] = orth_ang\n",
    "DD['orth rate'] = orth_rate\n",
    "\n",
    "DD['ORI'] = ORI_avg.values()\n",
    "DD = DD.round(2)\n",
    "fDD = DD[DD['ORI'] > 0]\n",
    "fDD        "
   ]
  },
  {
   "cell_type": "code",
   "execution_count": null,
   "id": "d7d51c10-cef1-490f-bd65-92162d205112",
   "metadata": {
    "tags": []
   },
   "outputs": [],
   "source": [
    "A = {}\n",
    "max_A = []\n",
    "for ch in range(128):\n",
    "    A[pinmap[ch]] = max_angle[ch]\n",
    "for s in range(32,0,-1):\n",
    "    for e in range(1,5,1):\n",
    "        max_A.append(A[s,e])\n",
    "array = pd.DataFrame(max_A) \n",
    "\n",
    "array.to_excel(os.getcwd()+'/Recording_data/0824ROSE/Sorted Units/array.xlsx', index=False, engine='openpyxl')"
   ]
  },
  {
   "cell_type": "code",
   "execution_count": null,
   "id": "e4b4f477-379b-4b82-b877-2842a035c594",
   "metadata": {
    "tags": []
   },
   "outputs": [],
   "source": [
    "#channel based\n",
    "rate_diff_ch = defaultdict(list)\n",
    "for key, values in rate_diff.items():\n",
    "    a, b, _ = key\n",
    "    new_key = (a, b)\n",
    "    if new_key not in rate_diff_ch:\n",
    "        rate_diff_ch[new_key] = values\n",
    "    else:\n",
    "        # Summing the lists element-wise\n",
    "        rate_diff_ch[new_key] = [x + y for x, y in zip(rate_diff_ch[new_key], values)]"
   ]
  },
  {
   "cell_type": "code",
   "execution_count": null,
   "id": "764bd519-b3ee-431a-b687-efc101ced9fc",
   "metadata": {
    "tags": []
   },
   "outputs": [],
   "source": [
    "units = (0,0)\n",
    "fig, axs = plt.subplots(1, 12, sharex = 'col', sharey = 'row')\n",
    "for idx,trial in enumerate([2,3,4,5,6,8,10,11,12,13,14,15]):\n",
    "    if units in data_wave[trial]:\n",
    "        axs[idx].plot(data_wave[trial][units])\n",
    "        axs[idx].set_title('trial%d'%(trial))\n",
    "fig.set_figheight(5)\n",
    "fig.set_figwidth(50)\n",
    "\n"
   ]
  },
  {
   "cell_type": "code",
   "execution_count": null,
   "id": "01406d15-1235-4553-b2dd-455683d592c3",
   "metadata": {
    "tags": []
   },
   "outputs": [],
   "source": [
    "units = (5,0)\n",
    "start = 0\n",
    "end = 110\n",
    "L = end - start\n",
    "step = 0.5\n",
    "points = int(L/step)\n",
    "#stim_bin = signal.resample(stim,points)\n",
    "\n",
    "fig, axs = plt.subplots(12, 1, sharex = 'col', sharey = 'row')\n",
    "for idx,trial in enumerate([2,3,4,5,6,8,10,11,12,13,14,15]):\n",
    "    fr = []\n",
    "    if units in data_stamp[trial]:\n",
    "        r = np.array(data_stamp[trial][units])\n",
    "    else:\n",
    "        continue\n",
    "    for n in range(points):\n",
    "        rate = (((int(step*fs*n) <= r) & (r < int(step*fs*(n+1)))).sum())/step\n",
    "        fr.append(rate)\n",
    "     \n",
    "    bin = np.arange(0, end-start , step)\n",
    "    axs[idx].bar(bin,fr,color = 'slategray',width =2)\n",
    "    for time in onset_time[trial]:\n",
    "        axs[idx].axvline(x=time, color='r', linestyle='--')\n",
    "    yl =20\n",
    "    axs[idx].set_ylim(0,yl)\n",
    "    axs[idx].set_xlim(int(0),int(115))\n",
    "    axs[idx].set_title('trial%d'%(trial),size=20)\n",
    "    axs[idx].tick_params(axis='both', which='major', labelsize=20)\n",
    "    plt.gca().spines['right'].set_visible(False)\n",
    "    plt.gca().spines['top'].set_visible(False)\n",
    "fig.set_figheight(30)\n",
    "fig.set_figwidth(10)\n"
   ]
  },
  {
   "cell_type": "code",
   "execution_count": null,
   "id": "8998819b-4cd4-43eb-9cb9-b7298fae9bf5",
   "metadata": {
    "tags": []
   },
   "outputs": [],
   "source": [
    "max_evoked = defaultdict(list)\n",
    "max_rate = defaultdict(list)\n",
    "unit = 0\n",
    "for trial in [12]:\n",
    "    D = defaultdict(list)\n",
    "    for ch in range(128):\n",
    "        if max_angle[trial,ch,unit]:\n",
    "            max_evoked[trial].append((max_angle[trial,ch,unit]))\n",
    "            max_rate[trial].append(max_rate_diff[trial,ch,unit])\n",
    "        else:\n",
    "            max_evoked[trial].append([-200])\n",
    "            max_rate[trial].append([-200])\n",
    "        for idx,ang in enumerate(angle.iloc[trial-1]):   \n",
    "            if rate_diff[trial,ch,unit] :\n",
    "               D[ang].append(rate_diff[trial,ch,unit][idx])\n",
    "\n",
    "    plt.figure(figsize=(15,5))\n",
    "    keys = list(mean_values.keys())\n",
    "    values = list(mean_values.values())\n",
    "    plt.bar(keys, values,width = 20,color = 'lightseagreen')\n",
    "    #plt.show()\n",
    "    plt.ylim(0,10)"
   ]
  },
  {
   "cell_type": "code",
   "execution_count": null,
   "id": "0dd318fd-28eb-4680-a30f-7d2c99dec5dc",
   "metadata": {
    "tags": []
   },
   "outputs": [],
   "source": [
    "evo0 = pd.DataFrame(max_evoked[2])\n",
    "#evo1 = pd.DataFrame(max_evoked[3])\n",
    "#evo2 = pd.DataFrame(max_evoked[4])\n",
    "#evo3 = pd.DataFrame(max_evoked[5])\n",
    "#evo4 = pd.DataFrame(max_evoked[10])\n",
    "#evo5 = pd.DataFrame(max_evoked[11])\n",
    "#evo6 = pd.DataFrame(max_evoked[12])\n",
    "\n",
    "result = pd.concat([evo0, evo1,evo2,evo3,evo4,evo5,evo6], axis=1)\n",
    "result.to_excel(os.getcwd()+'/Recording_data/0817ROSE/Sorted Units/angle.xlsx', index=False, engine='openpyxl')"
   ]
  },
  {
   "cell_type": "code",
   "execution_count": null,
   "id": "a5cc2d49-a683-4727-bfea-cdf6da064420",
   "metadata": {
    "tags": []
   },
   "outputs": [],
   "source": [
    "A = {}\n",
    "fav = defaultdict(list)\n",
    "for trial in [12]:\n",
    "    for ch in range(128):\n",
    "        A[pinmap[ch]] = max_evoked[trial][ch][0]\n",
    "    for s in range(32,0,-1):\n",
    "        for e in range(1,5,1):\n",
    "            fav[trial].append(A[s,e])\n",
    "fav_df = pd.DataFrame(fav) \n",
    "fav_df\n",
    "fav_df.to_excel(os.getcwd()+'/Recording_data/0817ROSE/Sorted Units/fav_angle.xlsx', index=False, engine='openpyxl')"
   ]
  },
  {
   "cell_type": "code",
   "execution_count": null,
   "id": "9a12036d-5e67-4875-94ad-470f31ea9df0",
   "metadata": {
    "tags": []
   },
   "outputs": [],
   "source": [
    "v = defaultdict(list)\n",
    "angle_trial = angle.iloc[0][12:24]\n",
    "unit = 0\n",
    "for ch in range(128):\n",
    "    for idx,ang in enumerate(angle_trial):\n",
    "        if ch in rate_diff_ch.keys():\n",
    "           v[ang].append(rate_diff_ch[ch][idx])\n",
    "        else:\n",
    "           v[ang].append(0)\n",
    "\n",
    "res = {}\n",
    "rose = defaultdict(list)\n",
    "for ang in angle_trial: \n",
    "    for ch in range(128):\n",
    "        res[pinmap[ch]] = v[ang][ch]\n",
    "    for s in range(32,0,-1):\n",
    "        for e in range(1,5,1):\n",
    "           rose[ang].append(res[s,e])\n",
    "rose_df = pd.DataFrame(rose)       \n",
    "rose_df"
   ]
  },
  {
   "cell_type": "code",
   "execution_count": null,
   "id": "bb01dc1a-be64-41f8-adc5-073cd2d575f3",
   "metadata": {
    "tags": []
   },
   "outputs": [],
   "source": [
    "res = {}\n",
    "rose = defaultdict(list)\n",
    "for idx, ang in enumerate(angles):\n",
    "    for ch in range(128):\n",
    "        if ch in rate_by_angle_ch.keys():\n",
    "            res[pinmap[ch]] = rate_by_angle_ch[ch][idx]\n",
    "        else:\n",
    "            res[pinmap[ch]] = 0\n",
    "    for s in range(32,0,-1):\n",
    "        for e in range(1,5,1):\n",
    "           rose[ang].append(res[s,e])\n",
    "rose_df = pd.DataFrame(rose)       \n",
    "rose_df\n"
   ]
  },
  {
   "cell_type": "code",
   "execution_count": null,
   "id": "3b437b0a-0a75-4a51-9c82-0fe5ce093754",
   "metadata": {},
   "outputs": [],
   "source": [
    "max_angle_ch = {}\n",
    "for chs, unit in max_angle.keys():\n",
    "    if chs not in max_angle_ch.keys():\n",
    "        max_angle_ch[chs] = [max_angle[chs,unit],ORI[chs,unit], max_rate[chs,unit]]\n",
    "    else:\n",
    "        if ORI[chs,unit] > max_angle_ch[chs][1]:\n",
    "            max_angle_ch[ch] = [max_angle[chs,unit],ORI[chs,unit],max_rate[chs,unit]]"
   ]
  },
  {
   "cell_type": "code",
   "execution_count": null,
   "id": "724e9bd8-cbae-4b03-b787-fc9e9e0d3e0b",
   "metadata": {
    "tags": []
   },
   "outputs": [],
   "source": [
    "temp = {}\n",
    "max_angle_remap = []\n",
    "\n",
    "for ch in range(128):\n",
    "    if ch in max_angle_ch.keys() and max_angle_ch[ch][1] >= 0.5 and max_angle_ch[ch][2]> 0:\n",
    "        temp[pinmap[ch]] = max_angle_ch[ch][0]\n",
    "    else:\n",
    "        temp[pinmap[ch]] = -99\n",
    "for s in range(1,33,1):\n",
    "    for e in range(1,5,1):\n",
    "        max_angle_remap.append(temp[s,e])"
   ]
  },
  {
   "cell_type": "code",
   "execution_count": null,
   "id": "a2712f31-1922-4484-9907-90df79ea3de1",
   "metadata": {
    "tags": []
   },
   "outputs": [],
   "source": [
    "max_angle_remap"
   ]
  },
  {
   "cell_type": "code",
   "execution_count": null,
   "id": "32128d81-3082-4511-be04-5abd6d346e3e",
   "metadata": {},
   "outputs": [],
   "source": [
    "angle_excel = pd.DataFrame()\n",
    "angle_excel['x'] = cor_x\n",
    "angle_excel['y'] = cor_y\n",
    "angle_excel['z'] = cor_z\n",
    "angle_excel['angle'] = max_angle_remap"
   ]
  },
  {
   "cell_type": "code",
   "execution_count": null,
   "id": "e9d9ee46-3a41-4009-bafd-e9448de32e3b",
   "metadata": {},
   "outputs": [],
   "source": [
    "angle_excel.to_excel(\"15trials.xlsx\", index=False, engine='openpyxl')"
   ]
  },
  {
   "cell_type": "code",
   "execution_count": null,
   "id": "721652e0-ca3f-48fe-adca-ebcc24e71928",
   "metadata": {},
   "outputs": [],
   "source": [
    "import numpy as np\n",
    "import matplotlib.pyplot as plt\n",
    "from mpl_toolkits.mplot3d import Axes3D\n",
    "directions = []\n",
    "angle_color = []\n",
    "angle_alpha = []\n",
    "# Sample data\n",
    "points = np.stack((cor_x*42, cor_y*42, cor_z*81), axis=1)\n",
    "\n",
    "# Define angles in radians from 0 to 330 degrees with 30-degree steps\n",
    "\n",
    "\n",
    "# Compute directions for lines based on angles\n",
    "for ang in max_angle_remap:\n",
    "    angle_rd = np.deg2rad(ang)\n",
    "    directions.append((np.sin(angle_rd),0,np.cos(angle_rd))) #XZ\n",
    "    #directions.append((np.cos(angle_rd),np.sin(angle_rd),0)) #XY\n",
    "    if ang == -99:\n",
    "        angle_color.append([1,1,1])\n",
    "        angle_alpha.append(0)\n",
    "    else:\n",
    "        angle_color.append(colors[int(ang/30)])\n",
    "        angle_alpha.append(1)\n",
    "# Create 3D figure\n",
    "\n",
    "fig = plt.figure(figsize = (45,30))\n",
    "ax = fig.add_subplot(111, projection='3d')\n",
    "\n",
    "line_length = 1500\n",
    "# For each point, plot in a circular pattern with the given directions\n",
    "for idx, point in enumerate(points):\n",
    "        end_point = point + np.array(directions[idx]) * line_length\n",
    "        #ax.scatter(*point, s = 100, color = 'gray', alpha = angle_alpha[idx] )\n",
    "        ax.plot([point[0], end_point[0]], [point[1], end_point[1]], [point[2], end_point[2]], color=angle_color[idx], linewidth = 10, alpha = angle_alpha[idx])\n",
    "        #plt.text(*points, *max_angle_remap)\n",
    "\n",
    "# Set plot limits and labels, then display\n",
    "#ax.set_xlim([0, 10])\n",
    "#ax.set_ylim([0, 10])\n",
    "#ax.set_zlim([0, 10])\n",
    "ax.axis('off')\n",
    "ax.grid(False)\n",
    "ax.set_xlabel('X')\n",
    "ax.set_ylabel('Y')\n",
    "ax.set_zlabel('Z')\n",
    "ax.view_init(elev=80, azim=-40)\n",
    "#ax.view_init(elev=90, azim=0)\n",
    "plt.show()"
   ]
  },
  {
   "cell_type": "code",
   "execution_count": null,
   "id": "2ec87e2d-f5f4-4994-93f5-a1dc70bbd749",
   "metadata": {
    "tags": []
   },
   "outputs": [],
   "source": [
    "import matplotlib.pyplot as plt\n",
    "import numpy as np\n",
    "from mpl_toolkits.mplot3d import Axes3D\n",
    "from matplotlib import cm\n",
    "\n",
    "\n",
    "\n",
    "#for ang in range(0,360,30):\n",
    "# Create a figure\n",
    "fig = plt.figure(figsize = (25,25))\n",
    "\n",
    "# Add 3D subplot\n",
    "ax = fig.add_subplot(111, projection='3d')\n",
    "\n",
    "# Hide axes and grid lines\n",
    "ax.axis('off')\n",
    "ax.grid(False)\n",
    "#ax.set_zlim([0,42000])\n",
    "#c_data = np.array(max_angle_remap)\n",
    "\n",
    "# Choose a colormap\n",
    "#colormap = sns.color_palette(\"flare\", as_cmap=True)\n",
    "\n",
    "# Min and max color values for the colormap\n",
    "#cmin = 0\n",
    "# cmax = 5\n",
    "\n",
    "# Function to plot a sphere\n",
    "def plot_sphere(ax, x, y, z, radius, color, alpha, steps=30):\n",
    "    phi = np.linspace(0, np.pi, steps)\n",
    "    theta = np.linspace(0, 2 * np.pi, steps)\n",
    "    phi, theta = np.meshgrid(phi, theta)\n",
    "    \n",
    "    # Convert to Cartesian coordinates\n",
    "    x_sphere = x + radius * np.sin(phi) * np.cos(theta)\n",
    "    y_sphere = y + radius * np.sin(phi) * np.sin(theta)\n",
    "    z_sphere = z + radius * np.cos(phi)\n",
    "    \n",
    "    ax.plot_surface(x_sphere, y_sphere, z_sphere, color=color, alpha=alpha, shade=True)\n",
    "\n",
    "    # Plot spheres at data points with colors from c_data\n",
    "for idx, point in enumerate(points):\n",
    "    #color_val = (c - cmin) / (cmax - cmin)\n",
    "    #color = colormap(color_val)[:3]  # Ignore the alpha value from the colormap\n",
    "    plot_sphere(ax, point[0]*21, point[1]*21, point[2]*42, color=angle_color[idx], alpha = angle_alpha[idx], radius = 20000)\n",
    "    ax.view_init(elev=78, azim=42)    \n",
    "    # Show plot\n",
    "plt.show()\n"
   ]
  },
  {
   "cell_type": "code",
   "execution_count": null,
   "id": "38728ecc-dd4e-4f52-bcfa-520d45f9f205",
   "metadata": {
    "tags": []
   },
   "outputs": [],
   "source": [
    "order = 2\n",
    "low = 1\n",
    "high = 300\n",
    "fs = 20000\n",
    "lfp = []\n",
    "b,a = signal.butter(order, [low, high], 'bp', fs=fs)\n",
    "for row in raw_data:\n",
    "  lfp.append(signal.lfilter(b, a, row))\n",
    "med = np.median(lfp,axis=0)\n",
    "lfp = lfp - med"
   ]
  },
  {
   "cell_type": "code",
   "execution_count": null,
   "id": "5cd33694-59de-4c0b-a83a-b3987a5e0aba",
   "metadata": {
    "tags": []
   },
   "outputs": [],
   "source": [
    "fs = 20000\n",
    "session = defaultdict(list)\n",
    "session_mean = {}\n",
    "stimuli = onset_time[0:50]\n",
    "for ch in range(128):\n",
    "  for n, time in enumerate(stimuli):\n",
    "      begin = int((time - 0.5)*fs)\n",
    "      end = begin + int(1.5*fs)\n",
    "      session[ch].append(lfp[ch][begin:end])\n",
    "  session_mean[ch] = np.mean(session[ch],axis = 0)\n"
   ]
  },
  {
   "cell_type": "code",
   "execution_count": null,
   "id": "154c5a6c-9510-4f96-bdf9-376ff5ec37f6",
   "metadata": {
    "tags": []
   },
   "outputs": [],
   "source": [
    "fig, axs = plt.subplots(8, 16, sharex = 'col', sharey = 'row')\n",
    "time_axis = np.linspace(0,1.5,int(1.5*fs))\n",
    "on = 0.5\n",
    "off = 1\n",
    "for ch in range(128):\n",
    "  y = shank_no[ch]\n",
    "  x = 7 - elec_no[ch]\n",
    "  axs[x-1][y-1].plot(time_axis, session_mean[ch], c='black', linewidth = 3)\n",
    "  #axs[x-1][y-1].set_title('s%d'%(y)+'-e%d'%(x)+\":ch%d\"%(ch),size = 15)\n",
    "  axs[x-1][y-1].fill_between(time_axis, -100, 100, where=(time_axis>=on) & (time_axis<=off), color='slategray', alpha=0.15)\n",
    "  axs[x-1][y-1].axis('off')\n",
    "  axs[x-1][y-1].set_ylim([-80, 80])\n",
    "  axs[x-1][y-1].tick_params(axis='x', which='major', labelsize = 30)\n",
    "  fig.set_figheight(50)\n",
    "  fig.set_figwidth(100)\n",
    "  axs[x-1][y-1].get_yaxis().set_visible(True)\n",
    "  #axs[x].get_xaxis().set_visible(False)"
   ]
  },
  {
   "cell_type": "code",
   "execution_count": null,
   "id": "8f5dd21e-20dc-459b-a179-2867458e44fd",
   "metadata": {
    "tags": []
   },
   "outputs": [],
   "source": [
    "v_stim = []\n",
    "v_pre = []\n",
    "for ch in range(64):\n",
    "    v_pre.append(max(session_mean[ch][0:15000]) - min(session_mean[ch][0:15000]))\n",
    "    v_stim.append(max(session_mean[ch][15000:45000]) - min(session_mean[ch][15000:45000]))      "
   ]
  },
  {
   "cell_type": "code",
   "execution_count": null,
   "id": "43d4cdcb-7e1d-4b16-9d3c-71d5c9bdf533",
   "metadata": {
    "tags": []
   },
   "outputs": [],
   "source": [
    "evoked = []\n",
    "for ch in range(64):\n",
    "    if v_stim[ch] > v_pre[ch]:\n",
    "        evoked.append(v_stim)\n",
    "print([len(evoked),np.mean(evoked),np.std(evoked)])        "
   ]
  },
  {
   "cell_type": "code",
   "execution_count": null,
   "id": "da4d360d-0cfe-4e04-8ce4-ddbe896cc597",
   "metadata": {
    "scrolled": true,
    "tags": []
   },
   "outputs": [],
   "source": [
    "pxx,  freq, t, cax = plt.specgram(filtered[1], Fs=20000,cmap=\"plasma\", NFFT=4000, noverlap=3600, mode = 'psd')\n",
    "#stim_wave = signal.resample(stim_pulse[int(18*fs):int(26*fs)],len(t))\n",
    "#plt.plot(t,stim_wave*30,color='white',linewidth = 40)\n",
    "plt.ylim([1, 150])\n",
    "plt.xlim([122,127])\n",
    "plt.tick_params(axis='both', which='major', labelbottom=True, labelleft=True, labelsize=50)\n",
    "plt.axis('off')\n",
    "cax.set_clim(vmin=-5, vmax=10) \n",
    "fig = plt.gcf()\n",
    "fig.set_size_inches(100, 20) "
   ]
  },
  {
   "cell_type": "code",
   "execution_count": null,
   "id": "d5ead42c-91e6-4e1d-bfd1-4face0f1484c",
   "metadata": {
    "tags": []
   },
   "outputs": [],
   "source": [
    "len(raw_data_stim_pre[5][0])/20000"
   ]
  },
  {
   "cell_type": "code",
   "execution_count": null,
   "id": "88e32e82-9c59-4a2e-b543-9e93f1b4e24b",
   "metadata": {},
   "outputs": [],
   "source": [
    "plt.figure(figsize=(150, 45))\n",
    "f, t, Sxx = signal.spectrogram(lfp[0], fs=20000, nperseg=6000, noverlap=5500, mode='psd')\n",
    "cax = plt.imshow(Sxx, aspect='auto', origin='lower', extent=[min(t), max(t), min(f), max(f)],interpolation='nearest', cmap=\"plasma\", vmin=0, vmax=30)\n",
    "plt.xlim([on_time/fs,off_time/fs])\n",
    "plt.ylim([1, 200])\n",
    "#plt.colorbar()\n",
    "plt.tight_layout()\n",
    "plt.show()"
   ]
  },
  {
   "cell_type": "code",
   "execution_count": null,
   "id": "a193ba26-7e63-49e0-bc8f-3be5e71ce5a2",
   "metadata": {},
   "outputs": [],
   "source": [
    "colors = [(random.randint(0, 255)/255, random.randint(0, 255)/255, random.randint(0, 255)/255) for _ in range(128)]\n",
    "spike_time_all = spike_time_all_clust[41]\n",
    "plt.figure(figsize=(200,100))\n",
    "unit_no = len(spike_time_all)\n",
    "pos = 0 \n",
    "for ch, clust in spike_time_all.keys():\n",
    "    for timestamp in spike_time_all[ch,clust]:\n",
    "        \n",
    "        plt.axvline(timestamp, ymin=(len(spike_time_all)-pos)*2/unit_no/2, ymax=((len(spike_time_all)-pos)*2+1)/unit_no/2, color = colors[pos], linewidth = 20)\n",
    "        \n",
    "    pos = pos + 1\n",
    "   \n",
    "plt.axis('off')\n",
    "plt.xlim(int(18*fs),int(26*fs))\n",
    "plt.ylim(-5,5)\n",
    "plt.show()"
   ]
  },
  {
   "cell_type": "code",
   "execution_count": null,
   "id": "53575d56-e5f7-4a5d-9bab-9c70759a6bc4",
   "metadata": {
    "tags": []
   },
   "outputs": [],
   "source": [
    "rate_diff = defaultdict(list)\n",
    "rate_onset = defaultdict(list)\n",
    "rate_diff_angle = defaultdict(list)\n",
    "angle_repeat = defaultdict(list)\n",
    "length = 0.5\n",
    "stride = 0.5\n",
    "evoked = defaultdict(list)\n",
    "X = []\n",
    "Y = []\n",
    "for idx, t in enumerate(onset_time):\n",
    "    temp = defaultdict(list)\n",
    "    temp_transpose = []\n",
    "    Y.append(angle_all[idx]) \n",
    "    for chs,unit in spike_time_all.keys(): \n",
    "        train = spike_time_all[chs,unit] \n",
    "        t_after = t - 0.05\n",
    "        #t_before = t - 0.05\n",
    "        for n in range(int(length/stride)):\n",
    "            rate_after = ((int(t_after*fs+n*stride*fs) <= np.array(train)) & (np.array(train) < int(t_after*fs+(n+1)*stride*fs))).sum()/stride\n",
    "            if idx%12 <= 100:\n",
    "                temp[chs,unit].append(rate_after)               \n",
    "            else:\n",
    "                temp[chs,unit].append(0)\n",
    "        temp_transpose.append(temp[chs,unit])\n",
    "    X.append(np.transpose(temp_transpose))\n",
    "        "
   ]
  },
  {
   "cell_type": "code",
   "execution_count": null,
   "id": "22f44991-3e23-45ad-9948-2e86157219cb",
   "metadata": {},
   "outputs": [],
   "source": [
    "X = np.array(X)\n",
    "Y = np.array(Y)\n",
    "unique_labels = np.sort(np.unique(Y))\n",
    "label_to_index = {label:idx for idx, label in  enumerate(unique_labels)}\n",
    "Y_indexed = [label_to_index[label] for label in Y] \n",
    "Y_one_hot = to_categorical(Y_indexed)"
   ]
  },
  {
   "cell_type": "code",
   "execution_count": null,
   "id": "0cbd9fe4-f665-4b38-af4b-321660f1545a",
   "metadata": {},
   "outputs": [],
   "source": [
    "num_samples, num_time_steps, num_features = X.shape\n",
    "X_reshaped = X.reshape(-1, num_features)"
   ]
  },
  {
   "cell_type": "code",
   "execution_count": null,
   "id": "73695cbd-40bd-491b-9a63-38ece995e259",
   "metadata": {},
   "outputs": [],
   "source": [
    "X_train, X_test, y_train, y_test = train_test_split(X, Y_one_hot, test_size=0.2, random_state=42)\n",
    "X_train, X_val, y_train, y_val = train_test_split(X_train, y_train, test_size=0.25, random_state=42)  # 0.25 x 0.8 = 0.2\n",
    "scaler = StandardScaler()\n",
    "X_train= X_train.reshape(-1, num_features)\n",
    "X_train = scaler.fit_transform(X_train)\n",
    "X_test= X_test.reshape(-1, num_features)\n",
    "X_test = scaler.transform(X_test)\n",
    "X_val= X_val.reshape(-1, num_features)\n",
    "X_val = scaler.transform(X_val)"
   ]
  },
  {
   "cell_type": "code",
   "execution_count": null,
   "id": "1e526793-0de1-4676-b2aa-0914fb901dc2",
   "metadata": {},
   "outputs": [],
   "source": [
    "X_train= X_train.reshape(-1,num_time_steps,num_features)\n",
    "X_test= X_test.reshape(-1,num_time_steps,num_features)\n",
    "X_val= X_val.reshape(-1,num_time_steps,num_features)\n"
   ]
  },
  {
   "cell_type": "code",
   "execution_count": null,
   "id": "bdfa1eca-1e3c-4dcd-ad8e-775c60461b31",
   "metadata": {
    "tags": []
   },
   "outputs": [],
   "source": [
    "# Define the LSTM model\n",
    "model = Sequential()\n",
    "model.add(LSTM(128, input_shape=(X_train.shape[1], X_train.shape[2]),return_sequences = True))\n",
    "model.add(Dropout(0.1))\n",
    "#model.add(LSTM(64,return_sequences = True))  # Additional LSTM layer\n",
    "#model.add(Dropout(0.1))\n",
    "#model.add(LSTM(64)) \n",
    "#model.add(Dropout(0.1))\n",
    "#model.add(Dense(y_train.shape[1], activation='softmax'))  # Modify based on your task\n",
    "\n",
    "# Compile the model\n",
    "model.compile(optimizer='adam', loss='categorical_crossentropy', metrics=['accuracy'])\n",
    "\n",
    "# Train the model\n",
    "model.fit(X_train, y_train, epochs=100, batch_size=10,validation_data=(X_val, y_val))"
   ]
  },
  {
   "cell_type": "code",
   "execution_count": null,
   "id": "1584b3dd-5479-43c8-81d2-263c241a05a6",
   "metadata": {},
   "outputs": [],
   "source": [
    "test_loss, test_accuracy = model.evaluate(X_test, y_test)\n",
    "print(f\"Test Accuracy: {test_accuracy*100:.2f}%\")"
   ]
  },
  {
   "cell_type": "code",
   "execution_count": null,
   "id": "297ce274-59c9-425c-b286-f7c4dfb6b271",
   "metadata": {},
   "outputs": [],
   "source": [
    "n_super_neurons = 12\n",
    "sigma = 0.1\n",
    "theta_k = np.linspace(0, 2 * np.pi, n_super_neurons, endpoint=False)\n"
   ]
  },
  {
   "cell_type": "code",
   "execution_count": null,
   "id": "0c72d174-8216-4254-b66a-bb7b35bfda75",
   "metadata": {
    "tags": []
   },
   "outputs": [],
   "source": [
    "theta_k"
   ]
  },
  {
   "cell_type": "code",
   "execution_count": null,
   "id": "43ef5d09-2afc-4ad9-be46-8d947e7b3bf9",
   "metadata": {},
   "outputs": [],
   "source": [
    "def simulate_super_neuron_responses(stimulus_angles, preferred_angles, sigma):\n",
    "    super_neuron_responses = np.exp((np.cos(stimulus_angles - preferred_angles) - 1) / sigma)\n",
    "    return super_neuron_responses"
   ]
  },
  {
   "cell_type": "code",
   "execution_count": null,
   "id": "aca214ca-7eff-40df-8186-1252242b3944",
   "metadata": {},
   "outputs": [],
   "source": [
    "super_neuron_labels = []\n",
    "for angle in angles:\n",
    "    angle_rad = np.radians(angle)\n",
    "    super_neuron_response = []\n",
    "    for k in range(n_super_neurons):\n",
    "        super_neuron_response.append(simulate_super_neuron_responses(angle, theta_k[k], 0.1))\n",
    "    super_neuron_labels.append(super_neuron_response)\n",
    "    "
   ]
  },
  {
   "cell_type": "code",
   "execution_count": null,
   "id": "480b38cc-374f-4a79-bc9d-5809cb61b52b",
   "metadata": {},
   "outputs": [],
   "source": [
    "angles"
   ]
  },
  {
   "cell_type": "code",
   "execution_count": null,
   "id": "f64c4d16-b7e1-4aed-9ce2-dd5564186a4c",
   "metadata": {},
   "outputs": [],
   "source": [
    "plt.plot(super_neuron_labels[3])"
   ]
  },
  {
   "cell_type": "code",
   "execution_count": null,
   "id": "824eff38-48a6-4932-b210-36be19d655c0",
   "metadata": {},
   "outputs": [],
   "source": [
    "scaler = MinMaxScaler()\n",
    "neural = scaler.fit_transform(neural_data)"
   ]
  },
  {
   "cell_type": "code",
   "execution_count": null,
   "id": "23debba0-546b-46c7-bfc7-4dbcb5021dc7",
   "metadata": {},
   "outputs": [],
   "source": [
    "X_train, X_test, y_train, y_test = train_test_split(neural_data, np.array(super_neuron_labels), test_size=0.2, random_state=42)"
   ]
  },
  {
   "cell_type": "code",
   "execution_count": null,
   "id": "0aaf3ae4-86ea-4573-8055-65b105e6ddc2",
   "metadata": {
    "tags": []
   },
   "outputs": [],
   "source": [
    "from sklearn.linear_model import MultiTaskLassoCV\n",
    "from sklearn.datasets import make_regression\n",
    "multi_task_lasso_cv = MultiTaskLassoCV(cv=5, random_state=0, max_iter = 10000)\n",
    "multi_task_lasso_cv.fit(X_train, y_train)\n",
    "print(f'Optimal alpha (regularization strength) chosen by CV: {multi_task_lasso_cv.alpha_}')\n",
    "y_pred = multi_task_lasso_cv.predict(X_test)\n",
    "mse = mean_squared_error(y_test, y_pred, multioutput='raw_values')\n",
    "print(f'Mean Squared Error on the test set for each target: {mse}')"
   ]
  },
  {
   "cell_type": "code",
   "execution_count": null,
   "id": "c449a3a5-62da-43db-bc13-b78aea828a02",
   "metadata": {
    "tags": []
   },
   "outputs": [],
   "source": [
    "plt.plot(y_pred[1])\n",
    "plt.show()\n",
    "plt.plot(y_test[1])"
   ]
  },
  {
   "cell_type": "code",
   "execution_count": null,
   "id": "2a1819d4-1d33-49e4-b878-5459e02fe5a4",
   "metadata": {},
   "outputs": [],
   "source": [
    "plt.plot(y_train[3])"
   ]
  },
  {
   "cell_type": "code",
   "execution_count": null,
   "id": "8b1c69f0-34ae-47d3-abfd-91239a734a17",
   "metadata": {},
   "outputs": [],
   "source": [
    "angle"
   ]
  }
 ],
 "metadata": {
  "kernelspec": {
   "display_name": "Python 3 (ipykernel)",
   "language": "python",
   "name": "python3"
  },
  "language_info": {
   "codemirror_mode": {
    "name": "ipython",
    "version": 3
   },
   "file_extension": ".py",
   "mimetype": "text/x-python",
   "name": "python",
   "nbconvert_exporter": "python",
   "pygments_lexer": "ipython3",
   "version": "3.11.5"
  },
  "toc-autonumbering": false,
  "toc-showcode": false,
  "toc-showmarkdowntxt": true,
  "toc-showtags": true
 },
 "nbformat": 4,
 "nbformat_minor": 5
}
